{
  "nbformat": 4,
  "nbformat_minor": 0,
  "metadata": {
    "colab": {
      "provenance": []
    },
    "kernelspec": {
      "name": "python3",
      "display_name": "Python 3"
    }
  },
  "cells": [
    {
      "cell_type": "markdown",
      "metadata": {
        "id": "9j0Yc4KWjEMw"
      },
      "source": [
        "## bit.ly/r2de2-python"
      ]
    },
    {
      "cell_type": "markdown",
      "metadata": {
        "id": "i2tK_V_HgjTb"
      },
      "source": [
        "## Hello World in Python in Colab"
      ]
    },
    {
      "cell_type": "code",
      "metadata": {
        "id": "GluP3Mj2w7US",
        "colab": {
          "base_uri": "https://localhost:8080/"
        },
        "outputId": "9ab23981-6ba1-49fb-eaf6-6a0317ca9a9a"
      },
      "source": [
        "print(\"Hello World!\")"
      ],
      "execution_count": null,
      "outputs": [
        {
          "output_type": "stream",
          "text": [
            "Hello World!\n"
          ],
          "name": "stdout"
        }
      ]
    },
    {
      "cell_type": "code",
      "metadata": {
        "colab": {
          "base_uri": "https://localhost:8080/"
        },
        "id": "6T0QNWCpi7wk",
        "outputId": "e5a5d945-f61f-42a6-fd6a-63cbca0256aa"
      },
      "source": [
        "print('single quote')"
      ],
      "execution_count": null,
      "outputs": [
        {
          "output_type": "stream",
          "text": [
            "single quote\n"
          ],
          "name": "stdout"
        }
      ]
    },
    {
      "cell_type": "markdown",
      "metadata": {
        "id": "k8dnSvbvIb_y"
      },
      "source": [
        "# Print: การแสดงผล\n",
        "คำสั่ง print() ใช้สำหรับแสดงผลข้อความ หรือตัวแปรออกมาในตอนรัน\n",
        "\n",
        "\n",
        "ถ้าเป็น string จะต้องอยู่ในเครื่องหมาย “” หรือ ‘’ เสมอ สามารถต่อหลาย string ได้ด้วยเครื่องหมาย +"
      ]
    },
    {
      "cell_type": "code",
      "metadata": {
        "id": "RSBmkHaK_Ttq",
        "colab": {
          "base_uri": "https://localhost:8080/"
        },
        "outputId": "ce2607bd-bf5e-4c0a-e870-220b1d4f55e8"
      },
      "source": [
        "print(\"hello\" + \"world\")\n",
        "print(\"hello\" + \" \" + \"world\")\n",
        "print(\"hello\", \"world\", \"!\", \"R2DE\")"
      ],
      "execution_count": null,
      "outputs": [
        {
          "output_type": "stream",
          "text": [
            "helloworld\n",
            "hello world\n",
            "hello world ! R2DE\n"
          ],
          "name": "stdout"
        }
      ]
    },
    {
      "cell_type": "markdown",
      "metadata": {
        "id": "MbohcypV8t6D"
      },
      "source": [
        "สำหรับการใช้งาน Jupyter Notebook หรือ Colab มีความสามารถในการ แสดงผลตัวแปรในแต่ละช่องออกมาได้เลย ช่วยให้เห็นค่าได้ทันที\n",
        "\n",
        "(ทำใน Python ไฟล์ .py ปกติไม่ได้)"
      ]
    },
    {
      "cell_type": "code",
      "metadata": {
        "id": "Yiv3C5ZVggGc",
        "colab": {
          "base_uri": "https://localhost:8080/",
          "height": 35
        },
        "outputId": "3ab202b6-8384-418f-dc3f-7274d1efa00d"
      },
      "source": [
        "\"Colab is easy\""
      ],
      "execution_count": null,
      "outputs": [
        {
          "output_type": "execute_result",
          "data": {
            "application/vnd.google.colaboratory.intrinsic+json": {
              "type": "string"
            },
            "text/plain": [
              "'Colab is easy'"
            ]
          },
          "metadata": {
            "tags": []
          },
          "execution_count": 34
        }
      ]
    },
    {
      "cell_type": "markdown",
      "metadata": {
        "id": "GFXXoNlpz16a"
      },
      "source": [
        "# Python Variables: ตัวแปร\n"
      ]
    },
    {
      "cell_type": "markdown",
      "metadata": {
        "id": "5aBEPChj9xc_"
      },
      "source": [
        "การประกาศตัวแปร คือ การตั้งชื่ออ้างอิงถึงข้อมูลที่เก็บอยู่ชั่วคราวใน RAM (มีผลเฉพาะการรันในแต่ละครั้ง)\n",
        "\n",
        "ตัวแปรในภาษา python สามารถจัดเก็บข้อมูลได้หลายประเภทโดยที่ไม่ต้องประกาศประเภทของตัวแปรก่อน ( เรียกว่า dynamic type)\n",
        "\n",
        "การประกาศตัวแปรทำได้โดย\n",
        "\n",
        "> ชื่อตัวแปร  = “ค่าที่ต้องการจัดเก็บ”"
      ]
    },
    {
      "cell_type": "markdown",
      "metadata": {
        "id": "82d2Ejqz-Caw"
      },
      "source": [
        "int (Integer) เป็นข้อมูลประเภทจำนวนเต็ม"
      ]
    },
    {
      "cell_type": "code",
      "metadata": {
        "id": "tMD8rjsHWON5",
        "colab": {
          "base_uri": "https://localhost:8080/"
        },
        "outputId": "a1762d50-6fa6-4bf1-82a3-32b2f21a340f"
      },
      "source": [
        "# Int\n",
        "a = 1\n",
        "a"
      ],
      "execution_count": null,
      "outputs": [
        {
          "output_type": "execute_result",
          "data": {
            "text/plain": [
              "1"
            ]
          },
          "metadata": {
            "tags": []
          },
          "execution_count": 38
        }
      ]
    },
    {
      "cell_type": "markdown",
      "metadata": {
        "id": "mBr27fLn-fCR"
      },
      "source": [
        "การใช้ comment ในโค้ด คือ โค้ดส่วนที่ python จะไม่สนใจ เอาไว้ เขียนอธิบายในโค้ด"
      ]
    },
    {
      "cell_type": "code",
      "metadata": {
        "id": "4bovsaOLw5Gr"
      },
      "source": [
        "# This is comment\n",
        "# print(\"hello\")\n",
        "# สิ่งที่อยู่หลังเครื่องหมาย # เรียกว่า comment\n",
        "# คือ Python จะไม่สนใจ comment ใน code"
      ],
      "execution_count": null,
      "outputs": []
    },
    {
      "cell_type": "markdown",
      "metadata": {
        "id": "eHuUIdCqe4r3"
      },
      "source": [
        "เราสามารถแปลง ข้อมูลจาก int ที่เป็นตัวเลขจำนวนเต็ม เป็นประเภทอื่นได้ เช่น float หรือ จำนวนจริงได้ ด้วยคำสั่ง `float(ตัวแปร)`"
      ]
    },
    {
      "cell_type": "markdown",
      "metadata": {
        "id": "KknXSAjg-hju"
      },
      "source": [
        "float (Float) เป็นข้อมูลประเภทจำนวนจริง ที่มีจุดทศนิยม\n"
      ]
    },
    {
      "cell_type": "code",
      "metadata": {
        "id": "91G6iFPEWnc5",
        "colab": {
          "base_uri": "https://localhost:8080/"
        },
        "outputId": "81ddefe2-237c-4911-e055-f5ca981ae99b"
      },
      "source": [
        "# Float\n",
        "float(a)"
      ],
      "execution_count": null,
      "outputs": [
        {
          "output_type": "execute_result",
          "data": {
            "text/plain": [
              "1.0"
            ]
          },
          "metadata": {
            "tags": []
          },
          "execution_count": 40
        }
      ]
    },
    {
      "cell_type": "markdown",
      "metadata": {
        "id": "FT2V45Y0-0A1"
      },
      "source": [
        "str (String) เป็นข้อมูลประเภท\"ข้อความ\"\n",
        "\n",
        "สามารถแปลง ตัวเลขให้เป็นข้อความได้ด้วย str(ตัวแปร)"
      ]
    },
    {
      "cell_type": "code",
      "metadata": {
        "id": "reCYBrjSW-WZ",
        "colab": {
          "base_uri": "https://localhost:8080/",
          "height": 35
        },
        "outputId": "14f17aaa-fec7-4097-8489-50bc813ec0ed"
      },
      "source": [
        "# String\n",
        "str(a)"
      ],
      "execution_count": null,
      "outputs": [
        {
          "output_type": "execute_result",
          "data": {
            "application/vnd.google.colaboratory.intrinsic+json": {
              "type": "string"
            },
            "text/plain": [
              "'1'"
            ]
          },
          "metadata": {
            "tags": []
          },
          "execution_count": 41
        }
      ]
    },
    {
      "cell_type": "markdown",
      "metadata": {
        "id": "u0AyBAI3slvp"
      },
      "source": [
        "การบวก string คือการ นำ string สองอันมาต่อกัน (append)"
      ]
    },
    {
      "cell_type": "code",
      "metadata": {
        "id": "TopGFHnV_oqA",
        "colab": {
          "base_uri": "https://localhost:8080/",
          "height": 35
        },
        "outputId": "6e4f1c1a-dfe8-4f6a-9ca4-f6c2535367df"
      },
      "source": [
        "str(a) + \"1\""
      ],
      "execution_count": null,
      "outputs": [
        {
          "output_type": "execute_result",
          "data": {
            "application/vnd.google.colaboratory.intrinsic+json": {
              "type": "string"
            },
            "text/plain": [
              "'11'"
            ]
          },
          "metadata": {
            "tags": []
          },
          "execution_count": 42
        }
      ]
    },
    {
      "cell_type": "code",
      "metadata": {
        "colab": {
          "base_uri": "https://localhost:8080/"
        },
        "id": "cCxYJOydkqKB",
        "outputId": "1ed7b563-10ac-4149-c54c-b9a7e3d5fe46"
      },
      "source": [
        "print(1+2+3)"
      ],
      "execution_count": null,
      "outputs": [
        {
          "output_type": "stream",
          "text": [
            "6\n"
          ],
          "name": "stdout"
        }
      ]
    },
    {
      "cell_type": "markdown",
      "metadata": {
        "id": "b5Ru_4uwEBvR"
      },
      "source": [
        "bool (Boolean) เป็นข้อมูลประเภทค่าความจริง True / False\n",
        "\n",
        "ถ้าตัวแปรที่จะแปลง ไม่ว่างเปล่า จะได้ค่า True"
      ]
    },
    {
      "cell_type": "code",
      "metadata": {
        "colab": {
          "base_uri": "https://localhost:8080/"
        },
        "id": "XgwHKQLSk0XH",
        "outputId": "849b902c-76f9-44c8-de9f-fdb64de5b229"
      },
      "source": [
        "a"
      ],
      "execution_count": null,
      "outputs": [
        {
          "output_type": "execute_result",
          "data": {
            "text/plain": [
              "1"
            ]
          },
          "metadata": {
            "tags": []
          },
          "execution_count": 44
        }
      ]
    },
    {
      "cell_type": "code",
      "metadata": {
        "id": "w8Zv3DPAZUt3",
        "colab": {
          "base_uri": "https://localhost:8080/"
        },
        "outputId": "e9c10e3f-a012-493b-978c-4f7b12f9dd7b"
      },
      "source": [
        "bool(a)"
      ],
      "execution_count": null,
      "outputs": [
        {
          "output_type": "execute_result",
          "data": {
            "text/plain": [
              "True"
            ]
          },
          "metadata": {
            "tags": []
          },
          "execution_count": 45
        }
      ]
    },
    {
      "cell_type": "code",
      "metadata": {
        "colab": {
          "base_uri": "https://localhost:8080/"
        },
        "id": "TIbL-TpQk5Wz",
        "outputId": "42d5bdf9-d51e-4317-bf1b-368b597518b2"
      },
      "source": [
        "bool(0)"
      ],
      "execution_count": null,
      "outputs": [
        {
          "output_type": "execute_result",
          "data": {
            "text/plain": [
              "False"
            ]
          },
          "metadata": {
            "tags": []
          },
          "execution_count": 46
        }
      ]
    },
    {
      "cell_type": "markdown",
      "metadata": {
        "id": "9ghby_upuhhu"
      },
      "source": [
        "ถ้าตัวแปรไม่มีค่า (มีค่าเป็น None) จะได้ False"
      ]
    },
    {
      "cell_type": "code",
      "metadata": {
        "id": "Zn5_2PblJ7DJ",
        "colab": {
          "base_uri": "https://localhost:8080/"
        },
        "outputId": "0e40c0b9-9cab-4e1e-a1b8-4039d6c64c86"
      },
      "source": [
        "bool(None)"
      ],
      "execution_count": null,
      "outputs": [
        {
          "output_type": "execute_result",
          "data": {
            "text/plain": [
              "False"
            ]
          },
          "metadata": {
            "tags": []
          },
          "execution_count": 47
        }
      ]
    },
    {
      "cell_type": "markdown",
      "metadata": {
        "id": "YmNRrwojwSHu"
      },
      "source": [
        "**คำสั่ง** type()เป็นคำสั่งที่ไว้ใช้ตรวจสอบประเภทตัวแปร ว่าเป็นประเภทอะไร"
      ]
    },
    {
      "cell_type": "code",
      "metadata": {
        "id": "gUCKSUJmZeNS",
        "colab": {
          "base_uri": "https://localhost:8080/"
        },
        "outputId": "ad237095-a005-4b8e-9a4d-3ba3605eb842"
      },
      "source": [
        "type(a)"
      ],
      "execution_count": null,
      "outputs": [
        {
          "output_type": "execute_result",
          "data": {
            "text/plain": [
              "int"
            ]
          },
          "metadata": {
            "tags": []
          },
          "execution_count": 48
        }
      ]
    },
    {
      "cell_type": "code",
      "metadata": {
        "id": "myq5TcAWe7ZP",
        "colab": {
          "base_uri": "https://localhost:8080/",
          "height": 35
        },
        "outputId": "4a9ba14b-27cf-435c-c9e3-a9db241a99b0"
      },
      "source": [
        "b = \"Python!\"\n",
        "b"
      ],
      "execution_count": null,
      "outputs": [
        {
          "output_type": "execute_result",
          "data": {
            "application/vnd.google.colaboratory.intrinsic+json": {
              "type": "string"
            },
            "text/plain": [
              "'Python!'"
            ]
          },
          "metadata": {
            "tags": []
          },
          "execution_count": 49
        }
      ]
    },
    {
      "cell_type": "markdown",
      "metadata": {
        "id": "iBai-CmGtvya"
      },
      "source": [
        "ถ้าไม่สามารถแปลงประเภทตัวแปรได้ จะขึ้นว่า ValueError\n",
        "\n",
        "เช่น ไม่สามารถแปลง string ที่มีข้อความ ตัวอักษร เป็น int หรือ float ได้"
      ]
    },
    {
      "cell_type": "code",
      "metadata": {
        "id": "aa26KYnnuDUU",
        "colab": {
          "base_uri": "https://localhost:8080/",
          "height": 162
        },
        "outputId": "0fc3177f-4ff5-4124-d9fe-a88e0761dcfc"
      },
      "source": [
        "int(b)"
      ],
      "execution_count": null,
      "outputs": [
        {
          "output_type": "error",
          "ename": "ValueError",
          "evalue": "ignored",
          "traceback": [
            "\u001b[0;31m---------------------------------------------------------------------------\u001b[0m",
            "\u001b[0;31mValueError\u001b[0m                                Traceback (most recent call last)",
            "\u001b[0;32m<ipython-input-50-07ae29993d50>\u001b[0m in \u001b[0;36m<module>\u001b[0;34m()\u001b[0m\n\u001b[0;32m----> 1\u001b[0;31m \u001b[0mint\u001b[0m\u001b[0;34m(\u001b[0m\u001b[0mb\u001b[0m\u001b[0;34m)\u001b[0m\u001b[0;34m\u001b[0m\u001b[0;34m\u001b[0m\u001b[0m\n\u001b[0m",
            "\u001b[0;31mValueError\u001b[0m: invalid literal for int() with base 10: 'Python!'"
          ]
        }
      ]
    },
    {
      "cell_type": "markdown",
      "metadata": {
        "id": "_jGLwZ_5a5GA"
      },
      "source": [
        "# Python Data Structures\n",
        "## โครงสร้างข้อมูลที่ควรรู้จัก"
      ]
    },
    {
      "cell_type": "markdown",
      "metadata": {
        "id": "4SeTYcMBqLjD"
      },
      "source": [
        "## List\n",
        "\n",
        "List เป็น data structure ที่ไว้เก็บข้อมูลเป็นลำดับ เหมือน array คือ จะเก็บข้อมูลไว้เป็นช่อง  โดยจะมี index (หมายเลขประจำช่อง) เริ่มต้นที่ 0 และสามารถเพิ่มเติม (append) หรือแก้ไขข้อมูลใน list ได้ (mutable) ใช้สัญลักษณ์ [ ] แทน list\n"
      ]
    },
    {
      "cell_type": "code",
      "metadata": {
        "id": "mrq4hpE8wm_3",
        "colab": {
          "base_uri": "https://localhost:8080/"
        },
        "outputId": "1d313abf-8cb9-45a6-8c4d-cd618cd8614f"
      },
      "source": [
        "# ทบทวนตัวแปร\n",
        "print(a, type(a))\n",
        "print(b, type(b))"
      ],
      "execution_count": null,
      "outputs": [
        {
          "output_type": "stream",
          "text": [
            "1 <class 'int'>\n",
            "Python! <class 'str'>\n"
          ],
          "name": "stdout"
        }
      ]
    },
    {
      "cell_type": "markdown",
      "metadata": {
        "id": "YxU_qpkox3Rq"
      },
      "source": [
        "การสร้าง list สร้างโดยใช้เครื่องหมาย [ ]"
      ]
    },
    {
      "cell_type": "code",
      "metadata": {
        "id": "g2XoSEAf14sx",
        "colab": {
          "base_uri": "https://localhost:8080/"
        },
        "outputId": "1fe62105-6774-4fa2-a5ad-09edc509585a"
      },
      "source": [
        "empty_list = []\n",
        "print(empty_list)"
      ],
      "execution_count": null,
      "outputs": [
        {
          "output_type": "stream",
          "text": [
            "[]\n"
          ],
          "name": "stdout"
        }
      ]
    },
    {
      "cell_type": "markdown",
      "metadata": {
        "id": "3diJ3IPRfeRY"
      },
      "source": [
        "การสร้าง list จากตัวแปรที่สร้างขึ้น"
      ]
    },
    {
      "cell_type": "code",
      "metadata": {
        "id": "4YcpeyeUbGca",
        "colab": {
          "base_uri": "https://localhost:8080/"
        },
        "outputId": "5fe7e7c1-dd97-4a4d-dea9-ffcf30581824"
      },
      "source": [
        "l = [b, a, a + 1, a + 2]\n",
        "l"
      ],
      "execution_count": null,
      "outputs": [
        {
          "output_type": "execute_result",
          "data": {
            "text/plain": [
              "['Python!', 1, 2, 3]"
            ]
          },
          "metadata": {
            "tags": []
          },
          "execution_count": 54
        }
      ]
    },
    {
      "cell_type": "markdown",
      "metadata": {
        "id": "vTth0lSj2eON"
      },
      "source": [
        "การดูจำนวนสมาชิก (length) ของ list"
      ]
    },
    {
      "cell_type": "code",
      "metadata": {
        "id": "h5tpLduMfpIY",
        "colab": {
          "base_uri": "https://localhost:8080/"
        },
        "outputId": "50aa0e53-1f61-4b84-e1b6-17c3cb35ca1b"
      },
      "source": [
        "len(l)"
      ],
      "execution_count": null,
      "outputs": [
        {
          "output_type": "execute_result",
          "data": {
            "text/plain": [
              "4"
            ]
          },
          "metadata": {
            "tags": []
          },
          "execution_count": 55
        }
      ]
    },
    {
      "cell_type": "markdown",
      "metadata": {
        "id": "n0u5LnKs3F2U"
      },
      "source": [
        "การเรียกดูค่า list ในเฉพาะบางช่อง\n",
        "![image.png](data:image/png;base64,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)\n",
        "\n"
      ]
    },
    {
      "cell_type": "code",
      "metadata": {
        "id": "ki36k_QU3FQj",
        "colab": {
          "base_uri": "https://localhost:8080/"
        },
        "outputId": "7eecca07-851e-432e-9a07-5affa12c67c9"
      },
      "source": [
        "l[3]"
      ],
      "execution_count": null,
      "outputs": [
        {
          "output_type": "execute_result",
          "data": {
            "text/plain": [
              "3"
            ]
          },
          "metadata": {
            "tags": []
          },
          "execution_count": 56
        }
      ]
    },
    {
      "cell_type": "markdown",
      "metadata": {
        "id": "j84vmrqg1nvz"
      },
      "source": [
        "การเปลี่ยนแปลง (assign) ค่า ในสมาชิกของ list\n",
        "\n"
      ]
    },
    {
      "cell_type": "code",
      "metadata": {
        "id": "P_7Esctef3G5",
        "colab": {
          "base_uri": "https://localhost:8080/"
        },
        "outputId": "f2099414-661e-45aa-d2bc-f3c0bc695457"
      },
      "source": [
        "l[3] = 5\n",
        "l"
      ],
      "execution_count": null,
      "outputs": [
        {
          "output_type": "execute_result",
          "data": {
            "text/plain": [
              "['Python!', 1, 2, 5]"
            ]
          },
          "metadata": {
            "tags": []
          },
          "execution_count": 57
        }
      ]
    },
    {
      "cell_type": "markdown",
      "metadata": {
        "id": "7KUCkSdv2kWS"
      },
      "source": [
        "ถ้าพยามจะเปลี่ยนแปลงข้อมูล โดยที่ index (เลขที่ใช้อ้างอิงลำดับ: เริ่มจาก 0 เสมอ) มีค่ามากกว่า"
      ]
    },
    {
      "cell_type": "code",
      "metadata": {
        "id": "VyVzFzgLCmGr",
        "colab": {
          "base_uri": "https://localhost:8080/",
          "height": 179
        },
        "outputId": "418af892-f00a-4ab9-8f50-9a863349cd48"
      },
      "source": [
        "# IndexError\n",
        "l[4] = \":)\""
      ],
      "execution_count": null,
      "outputs": [
        {
          "output_type": "error",
          "ename": "IndexError",
          "evalue": "ignored",
          "traceback": [
            "\u001b[0;31m---------------------------------------------------------------------------\u001b[0m",
            "\u001b[0;31mIndexError\u001b[0m                                Traceback (most recent call last)",
            "\u001b[0;32m<ipython-input-58-bf0f23f4e4c3>\u001b[0m in \u001b[0;36m<module>\u001b[0;34m()\u001b[0m\n\u001b[1;32m      1\u001b[0m \u001b[0;31m# NameError\u001b[0m\u001b[0;34m\u001b[0m\u001b[0;34m\u001b[0m\u001b[0;34m\u001b[0m\u001b[0m\n\u001b[0;32m----> 2\u001b[0;31m \u001b[0ml\u001b[0m\u001b[0;34m[\u001b[0m\u001b[0;36m4\u001b[0m\u001b[0;34m]\u001b[0m \u001b[0;34m=\u001b[0m \u001b[0;34m\":)\"\u001b[0m\u001b[0;34m\u001b[0m\u001b[0;34m\u001b[0m\u001b[0m\n\u001b[0m",
            "\u001b[0;31mIndexError\u001b[0m: list assignment index out of range"
          ]
        }
      ]
    },
    {
      "cell_type": "markdown",
      "metadata": {
        "id": "tR1QjCnWRKGl"
      },
      "source": [
        "ลองดูการเปลี่ยนแปลงของ list"
      ]
    },
    {
      "cell_type": "code",
      "metadata": {
        "id": "jreK8tLJCvj5",
        "colab": {
          "base_uri": "https://localhost:8080/"
        },
        "outputId": "ad264fa8-1a6f-4c1b-a711-0cff9ae08fc8"
      },
      "source": [
        "l"
      ],
      "execution_count": null,
      "outputs": [
        {
          "output_type": "execute_result",
          "data": {
            "text/plain": [
              "['Python!', 1, 2, 5]"
            ]
          },
          "metadata": {
            "tags": []
          },
          "execution_count": 59
        }
      ]
    },
    {
      "cell_type": "markdown",
      "metadata": {
        "id": "YoYdnansRVqQ"
      },
      "source": [
        "การเพิ่มสมาชิกของ list ต่อท้าย ใช้คำสั่ง append"
      ]
    },
    {
      "cell_type": "code",
      "metadata": {
        "id": "omSAISZ5CweV",
        "colab": {
          "base_uri": "https://localhost:8080/"
        },
        "outputId": "f963dc18-d774-4631-b541-b464fb942688"
      },
      "source": [
        "l.append(\":)\")\n",
        "l"
      ],
      "execution_count": null,
      "outputs": [
        {
          "output_type": "execute_result",
          "data": {
            "text/plain": [
              "['Python!', 1, 2, 5, ':)']"
            ]
          },
          "metadata": {
            "tags": []
          },
          "execution_count": 60
        }
      ]
    },
    {
      "cell_type": "code",
      "metadata": {
        "id": "SzfHN-iiC6Ag",
        "colab": {
          "base_uri": "https://localhost:8080/"
        },
        "outputId": "ecb0c608-7ee4-4e88-d737-5507d2a39ad0"
      },
      "source": [
        "len(l)"
      ],
      "execution_count": null,
      "outputs": [
        {
          "output_type": "execute_result",
          "data": {
            "text/plain": [
              "5"
            ]
          },
          "metadata": {
            "tags": []
          },
          "execution_count": 61
        }
      ]
    },
    {
      "cell_type": "markdown",
      "metadata": {
        "id": "OO3b5LzyReUC"
      },
      "source": [
        "คำสั่ง pop() คือการ remove สมาขิกตัวสุดท้ายของ list"
      ]
    },
    {
      "cell_type": "code",
      "metadata": {
        "id": "MIQd0KpXC8DE",
        "colab": {
          "base_uri": "https://localhost:8080/"
        },
        "outputId": "cb731aa0-9996-4c45-bda9-ea3e877c868f"
      },
      "source": [
        "l.pop()\n",
        "l"
      ],
      "execution_count": null,
      "outputs": [
        {
          "output_type": "execute_result",
          "data": {
            "text/plain": [
              "['Python!', 1, 2, 5]"
            ]
          },
          "metadata": {
            "tags": []
          },
          "execution_count": 62
        }
      ]
    },
    {
      "cell_type": "markdown",
      "metadata": {
        "id": "DtYagBS_qQFy"
      },
      "source": [
        "## Tuple\n",
        "Tuple เป็น data structure ที่ไว้เก็บข้อมูลเป็นลำดับ (คล้ายกับ list) โดยจะมี index เริ่มต้นที่ 0 เช่นกัน แต่ **ไม่สามารถแก้ไข เปลี่ยนแปลงข้อมูลได้ (immutable)  **  ใช้สัญลักษณ์ ( )​ แทน tuple ในการสร้าง\n"
      ]
    },
    {
      "cell_type": "code",
      "metadata": {
        "id": "ueDnLunycWaY"
      },
      "source": [
        "t = (0, 1, 2, 3, 4)"
      ],
      "execution_count": null,
      "outputs": []
    },
    {
      "cell_type": "code",
      "metadata": {
        "id": "au0wM8XCgn_B",
        "colab": {
          "base_uri": "https://localhost:8080/"
        },
        "outputId": "1ca2cfd0-46ef-47f3-e31f-98f624765648"
      },
      "source": [
        "len(t)"
      ],
      "execution_count": null,
      "outputs": [
        {
          "output_type": "execute_result",
          "data": {
            "text/plain": [
              "5"
            ]
          },
          "metadata": {
            "tags": []
          },
          "execution_count": 64
        }
      ]
    },
    {
      "cell_type": "code",
      "metadata": {
        "id": "_rkBkHYUguGs",
        "colab": {
          "base_uri": "https://localhost:8080/"
        },
        "outputId": "09271a6f-93be-42c2-a59d-8a181dd20953"
      },
      "source": [
        "t[0:3]"
      ],
      "execution_count": null,
      "outputs": [
        {
          "output_type": "execute_result",
          "data": {
            "text/plain": [
              "(0, 1, 2)"
            ]
          },
          "metadata": {
            "tags": []
          },
          "execution_count": 65
        }
      ]
    },
    {
      "cell_type": "markdown",
      "metadata": {
        "id": "958oUJ1xX32j"
      },
      "source": [
        "## การใช้เลข index (สำหรับ list, tuple และ string)\n",
        "ใน  list, tuple, string สามารถใช้เลข index เพื่อเข้าถึงสมาชิกได้ โดย index จะเริ่มจาก 0 และถึง len() - 1 สามารถอ้างอิงเป็นช่วง ได้ด้วยเครื่องหมาย : (colon) โดยช่วงจะเริ่มจาก index ตัวแรก ถึง index ตัวสุดท้ายในช่วง - 1 (ถ้าเว้นไว้คือถึงตัวสุดท้าย) และสามารถใช้เลข index ติดลบแทนการนับจากด้านหลังได้\n",
        "![image.png](data:image/png;base64,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)"
      ]
    },
    {
      "cell_type": "markdown",
      "metadata": {
        "id": "YBATHps9doaT"
      },
      "source": [
        "การเข้าถึง ข้อมูลตัวสุดท้ายของ tuple"
      ]
    },
    {
      "cell_type": "code",
      "metadata": {
        "id": "n3myc9P4hCBD",
        "colab": {
          "base_uri": "https://localhost:8080/"
        },
        "outputId": "a5cf704f-5b28-4fdd-d7e6-49054a5a5c71"
      },
      "source": [
        "t[-1]"
      ],
      "execution_count": null,
      "outputs": [
        {
          "output_type": "execute_result",
          "data": {
            "text/plain": [
              "4"
            ]
          },
          "metadata": {
            "tags": []
          },
          "execution_count": 66
        }
      ]
    },
    {
      "cell_type": "markdown",
      "metadata": {
        "id": "x6N2XO6kdnBw"
      },
      "source": [
        "การเข้าถึงข้อมูล ตัวที่สาม จากท้ายสุด จนถึงตัวสุดท้าย"
      ]
    },
    {
      "cell_type": "code",
      "metadata": {
        "id": "S0LgakJNhKZE",
        "colab": {
          "base_uri": "https://localhost:8080/"
        },
        "outputId": "8424d0f3-bdcc-416e-b970-2eebe15f6710"
      },
      "source": [
        "t[-3:]"
      ],
      "execution_count": null,
      "outputs": [
        {
          "output_type": "execute_result",
          "data": {
            "text/plain": [
              "(2, 3, 4)"
            ]
          },
          "metadata": {
            "tags": []
          },
          "execution_count": 67
        }
      ]
    },
    {
      "cell_type": "markdown",
      "metadata": {
        "id": "2OyXFB0YdztD"
      },
      "source": [
        "Tuple เป็น data structure แบบ immutable คือ ไม่สามารถเปลี่ยนแปลงค่าได้ ถ้าพยายามเปลี่ยนค่าของ tuple จะได้ TypeError"
      ]
    },
    {
      "cell_type": "code",
      "metadata": {
        "id": "vj_zrSjyhZBo",
        "colab": {
          "base_uri": "https://localhost:8080/",
          "height": 179
        },
        "outputId": "4244ced0-1022-4c66-d7b3-5db2ba7517e1"
      },
      "source": [
        "# TypeError ไม่สามารถแก้ไข tuple ได้\n",
        "t[4] = 5"
      ],
      "execution_count": null,
      "outputs": [
        {
          "output_type": "error",
          "ename": "TypeError",
          "evalue": "ignored",
          "traceback": [
            "\u001b[0;31m---------------------------------------------------------------------------\u001b[0m",
            "\u001b[0;31mTypeError\u001b[0m                                 Traceback (most recent call last)",
            "\u001b[0;32m<ipython-input-68-02e20aa8d645>\u001b[0m in \u001b[0;36m<module>\u001b[0;34m()\u001b[0m\n\u001b[1;32m      1\u001b[0m \u001b[0;31m# TypeError ไม่สามารถแก้ไข tuple ได้\u001b[0m\u001b[0;34m\u001b[0m\u001b[0;34m\u001b[0m\u001b[0;34m\u001b[0m\u001b[0m\n\u001b[0;32m----> 2\u001b[0;31m \u001b[0mt\u001b[0m\u001b[0;34m[\u001b[0m\u001b[0;36m4\u001b[0m\u001b[0;34m]\u001b[0m \u001b[0;34m=\u001b[0m \u001b[0;36m5\u001b[0m\u001b[0;34m\u001b[0m\u001b[0;34m\u001b[0m\u001b[0m\n\u001b[0m",
            "\u001b[0;31mTypeError\u001b[0m: 'tuple' object does not support item assignment"
          ]
        }
      ]
    },
    {
      "cell_type": "markdown",
      "metadata": {
        "id": "5ReonijCBhrj"
      },
      "source": [
        "## Dictionary\n",
        "\n",
        "Dictionary เป็น data structure ที่เก็บในลักษณะ key - value  ใช้สัญลักษณ์ { } แทน dictionary ในการสร้าง\n",
        "\n",
        "เช่น\n",
        "dict = {“key” : “value”}  หรือ\n",
        "\n",
        "หรือ\n",
        "dict = {} เพื่อสร้าง dict เปล่า\n"
      ]
    },
    {
      "cell_type": "markdown",
      "metadata": {
        "id": "629PnoqseInd"
      },
      "source": [
        "การสร้าง grade dictionary สำหรับการตัดเกรด"
      ]
    },
    {
      "cell_type": "code",
      "metadata": {
        "id": "QvXx0QchiTts",
        "colab": {
          "base_uri": "https://localhost:8080/"
        },
        "outputId": "62e1c50c-9c55-4131-a68c-10553d38319c"
      },
      "source": [
        "grade = {\n",
        "    \"A\" : 80,\n",
        "    \"B\" : 70,\n",
        "    \"C\" : 60,\n",
        "    \"D\" : 50\n",
        "}\n",
        "grade"
      ],
      "execution_count": null,
      "outputs": [
        {
          "output_type": "execute_result",
          "data": {
            "text/plain": [
              "{'A': 80, 'B': 70, 'C': 60, 'D': 50}"
            ]
          },
          "metadata": {
            "tags": []
          },
          "execution_count": 69
        }
      ]
    },
    {
      "cell_type": "code",
      "metadata": {
        "id": "kK1D_Izjq8Kj",
        "colab": {
          "base_uri": "https://localhost:8080/"
        },
        "outputId": "97a7ef99-c474-4a9f-b641-30ab0082bcf4"
      },
      "source": [
        "grade[\"A\"]"
      ],
      "execution_count": null,
      "outputs": [
        {
          "output_type": "execute_result",
          "data": {
            "text/plain": [
              "80"
            ]
          },
          "metadata": {
            "tags": []
          },
          "execution_count": 70
        }
      ]
    },
    {
      "cell_type": "code",
      "metadata": {
        "id": "4hSmxQg8rAOa",
        "colab": {
          "base_uri": "https://localhost:8080/"
        },
        "outputId": "9bd742c0-a857-4b65-8c7d-a898d2330771"
      },
      "source": [
        "grade[\"B+\"] = 75\n",
        "grade"
      ],
      "execution_count": null,
      "outputs": [
        {
          "output_type": "execute_result",
          "data": {
            "text/plain": [
              "{'A': 80, 'B': 70, 'B+': 75, 'C': 60, 'D': 50}"
            ]
          },
          "metadata": {
            "tags": []
          },
          "execution_count": 72
        }
      ]
    },
    {
      "cell_type": "markdown",
      "metadata": {
        "id": "u401wDiseNCY"
      },
      "source": [
        "การสร้าง dictionary ว่าง และเพิ่มหรืออัปเดตค่า key-value"
      ]
    },
    {
      "cell_type": "code",
      "metadata": {
        "id": "TAXxt9Z2hgwz"
      },
      "source": [
        "d = {}\n",
        "d[\"s001\"] = \"Perth\"\n",
        "d[\"s002\"] = \"Fon\""
      ],
      "execution_count": null,
      "outputs": []
    },
    {
      "cell_type": "code",
      "metadata": {
        "id": "pJdFriSPBuDy",
        "colab": {
          "base_uri": "https://localhost:8080/",
          "height": 35
        },
        "outputId": "5839e8b3-ca4d-405a-b87a-f357648fef35"
      },
      "source": [
        "d[\"s001\"]"
      ],
      "execution_count": null,
      "outputs": [
        {
          "output_type": "execute_result",
          "data": {
            "application/vnd.google.colaboratory.intrinsic+json": {
              "type": "string"
            },
            "text/plain": [
              "'Perth'"
            ]
          },
          "metadata": {
            "tags": []
          },
          "execution_count": 74
        }
      ]
    },
    {
      "cell_type": "markdown",
      "metadata": {
        "id": "3ZyIaJomrYPJ"
      },
      "source": [
        "# Python String\n",
        "\n",
        "String สำหรับเก็บตัวแปรประเภทข้อความ  สามารถเข้าถึงด้วย index ได้เหมือนกับ list\n",
        " สามารถต่อเชื่อม string หลาย ๆ string\n",
        "ด้วย เครื่องหมาย + หรือ join() ในกรณีที่เป็น list และมีฟังก์ชันอื่น ๆ ที่เกี่ยวกับ string อีกมากมาย\n",
        "เช่น\n",
        "* split() การแยก string ด้วย symbol ผลลัพธ์ของการรันจะออกมาเป็น list\n",
        "* strip()  การลบช่องว่างที่อยู่หน้าหรือหลังสุด\n"
      ]
    },
    {
      "cell_type": "code",
      "metadata": {
        "id": "PwkD2_FxrXjm"
      },
      "source": [
        "sentence = \" Hello Python. I am ready. \""
      ],
      "execution_count": null,
      "outputs": []
    },
    {
      "cell_type": "markdown",
      "metadata": {
        "id": "Hr4tLremW1vG"
      },
      "source": [
        "String จะคล้ายคลึงกับ list ตรงที่สามารถ ดูค่าตาม index ที่ระบุตำแหน่งนั้นได้"
      ]
    },
    {
      "cell_type": "code",
      "metadata": {
        "id": "OfSs6-_Xr7Nn",
        "colab": {
          "base_uri": "https://localhost:8080/",
          "height": 35
        },
        "outputId": "a620b79f-69c7-4eba-cd48-a720527b789f"
      },
      "source": [
        "sentence[1]"
      ],
      "execution_count": null,
      "outputs": [
        {
          "output_type": "execute_result",
          "data": {
            "application/vnd.google.colaboratory.intrinsic+json": {
              "type": "string"
            },
            "text/plain": [
              "'H'"
            ]
          },
          "metadata": {
            "tags": []
          },
          "execution_count": 79
        }
      ]
    },
    {
      "cell_type": "markdown",
      "metadata": {
        "id": "z9kfD3D3XJEs"
      },
      "source": [
        "การตัดบางช่วงของ string โดยใช้ ใช้เครื่องหมาย : ควบคู่กับ index ดังนี้ `เริ่มต้น:ตัวสุดท้าย+1`"
      ]
    },
    {
      "cell_type": "code",
      "metadata": {
        "id": "9-o4xocQ5she",
        "colab": {
          "base_uri": "https://localhost:8080/",
          "height": 35
        },
        "outputId": "bfc093af-8803-4cc4-b894-ed6416007739"
      },
      "source": [
        "sentence[1:13]"
      ],
      "execution_count": null,
      "outputs": [
        {
          "output_type": "execute_result",
          "data": {
            "application/vnd.google.colaboratory.intrinsic+json": {
              "type": "string"
            },
            "text/plain": [
              "'Hello Python'"
            ]
          },
          "metadata": {
            "tags": []
          },
          "execution_count": 77
        }
      ]
    },
    {
      "cell_type": "markdown",
      "metadata": {
        "id": "CUCHAm62XdPE"
      },
      "source": [
        "strip คือการลบช่องว่าง หัวท้าย"
      ]
    },
    {
      "cell_type": "code",
      "metadata": {
        "id": "nxSxmQcyrmQQ",
        "colab": {
          "base_uri": "https://localhost:8080/",
          "height": 35
        },
        "outputId": "d3cdae1a-04cb-4cb9-de42-391cb686b554"
      },
      "source": [
        "sentence.strip()"
      ],
      "execution_count": null,
      "outputs": [
        {
          "output_type": "execute_result",
          "data": {
            "application/vnd.google.colaboratory.intrinsic+json": {
              "type": "string"
            },
            "text/plain": [
              "'Hello Python. I am ready.'"
            ]
          },
          "metadata": {
            "tags": []
          },
          "execution_count": 80
        }
      ]
    },
    {
      "cell_type": "code",
      "metadata": {
        "id": "r1I9hlv6r4FB"
      },
      "source": [
        "list_of_words = sentence.strip().split(' ')"
      ],
      "execution_count": null,
      "outputs": []
    },
    {
      "cell_type": "code",
      "metadata": {
        "id": "BdxmLMEuqv2j",
        "colab": {
          "base_uri": "https://localhost:8080/",
          "height": 35
        },
        "outputId": "d697688f-6b92-479d-caa5-7bc12e09fd7d"
      },
      "source": [
        "corgi = ' '.join(list_of_words)\n",
        "corgi"
      ],
      "execution_count": null,
      "outputs": [
        {
          "output_type": "execute_result",
          "data": {
            "application/vnd.google.colaboratory.intrinsic+json": {
              "type": "string"
            },
            "text/plain": [
              "'Hello Python. I am ready.'"
            ]
          },
          "metadata": {
            "tags": []
          },
          "execution_count": 86
        }
      ]
    },
    {
      "cell_type": "markdown",
      "metadata": {
        "id": "6Ktf3sJeqq6x"
      },
      "source": [
        "# Loop and Condition\n",
        "\n",
        "## For loop\n",
        "ในภาษา Python สามารถวน for loop ตามสมาชิกแต่ละตัวใน object ที่มีลักษณะเป็น list ได้  โดยการวน loop มีการใช้งานดังนี้\n",
        "\n",
        "```\n",
        "for temp_var in list_or_range:\n",
        "    do_something1()\n",
        "    do_something2()\n",
        "```\n",
        "\n",
        "สังเกตว่าบรรทัดหลังจาก for จะมีการ tab (เว้น 4 วรรค) อยู่ด้านหน้า เพื่อเป็นการจัด scope ของ for loop นั้น\n"
      ]
    },
    {
      "cell_type": "code",
      "metadata": {
        "id": "N4TOwdrCMlaY",
        "colab": {
          "base_uri": "https://localhost:8080/"
        },
        "outputId": "92513729-6169-4051-f6ab-fe3433d43ea8"
      },
      "source": [
        "# ทบทวนตัวแปร l ตัวเดิม\n",
        "l"
      ],
      "execution_count": null,
      "outputs": [
        {
          "output_type": "execute_result",
          "data": {
            "text/plain": [
              "['Python!', 1, 2, 5]"
            ]
          },
          "metadata": {
            "tags": []
          },
          "execution_count": 87
        }
      ]
    },
    {
      "cell_type": "code",
      "metadata": {
        "id": "Iguikec5vq7K",
        "colab": {
          "base_uri": "https://localhost:8080/"
        },
        "outputId": "72c513ad-b086-409e-fdb0-f67437f48b33"
      },
      "source": [
        "for item in l:\n",
        "  print(item)"
      ],
      "execution_count": null,
      "outputs": [
        {
          "output_type": "stream",
          "text": [
            "Python!\n",
            "1\n",
            "2\n",
            "5\n"
          ],
          "name": "stdout"
        }
      ]
    },
    {
      "cell_type": "code",
      "metadata": {
        "id": "UPMugiFPMyLz",
        "colab": {
          "base_uri": "https://localhost:8080/"
        },
        "outputId": "3a4afa86-ac62-41a7-bc37-3cfb82c2df89"
      },
      "source": [
        "for i in range(10):\n",
        "  print(i)"
      ],
      "execution_count": null,
      "outputs": [
        {
          "output_type": "stream",
          "text": [
            "0\n",
            "1\n",
            "2\n",
            "3\n",
            "4\n",
            "5\n",
            "6\n",
            "7\n",
            "8\n",
            "9\n"
          ],
          "name": "stdout"
        }
      ]
    },
    {
      "cell_type": "code",
      "metadata": {
        "colab": {
          "base_uri": "https://localhost:8080/"
        },
        "id": "mfcLt8soqV0k",
        "outputId": "4ae62e16-cd7b-4f56-a4f4-1cef25615c96"
      },
      "source": [
        "t"
      ],
      "execution_count": null,
      "outputs": [
        {
          "output_type": "execute_result",
          "data": {
            "text/plain": [
              "(0, 1, 2, 3, 4)"
            ]
          },
          "metadata": {
            "tags": []
          },
          "execution_count": 93
        }
      ]
    },
    {
      "cell_type": "markdown",
      "metadata": {
        "id": "v9Jkey67WhBg"
      },
      "source": [
        "## List Comprehension\n",
        "\n",
        "การวน for loop เพื่อที่จะได้ output ออกมาเป็น list สามารถวนลูปไปในสมาชิกแต่ละตัว ได้ภายใน 1 บรรทัด (แบบย่อ) เทคนิคนี้เรียกว่า list comprehension"
      ]
    },
    {
      "cell_type": "code",
      "metadata": {
        "id": "lOBC3OJpvzGK"
      },
      "source": [
        "# List Comprehension\n",
        "list_t = [i for i in t]"
      ],
      "execution_count": null,
      "outputs": []
    },
    {
      "cell_type": "markdown",
      "metadata": {
        "id": "63UKKJ1Eb8Et"
      },
      "source": []
    },
    {
      "cell_type": "code",
      "metadata": {
        "id": "jqnhTZOYM9gq"
      },
      "source": [
        "[i + 1 for i in range(100)]"
      ],
      "execution_count": null,
      "outputs": []
    },
    {
      "cell_type": "markdown",
      "metadata": {
        "id": "pI897Mvy4yls"
      },
      "source": [
        "## If condition"
      ]
    },
    {
      "cell_type": "markdown",
      "metadata": {
        "id": "rGDnM-nFVyzr"
      },
      "source": [
        "if condition จะทำตามเงื่อนไขต่อเมื่อเป็นจริงเท่านั้น\n",
        "\n",
        "elif (else if)  คือ เงื่อนไขรอง หาก if แรกไม่เป็นจริง มีกี่อันก็ได้\n",
        "\n",
        "ถ้าไม่ตรงกรณีไหนเลยจะทำ else (else if และ else สามารถไม่มีก็ได้)"
      ]
    },
    {
      "cell_type": "code",
      "metadata": {
        "id": "o2ASqKBy40vF",
        "colab": {
          "base_uri": "https://localhost:8080/"
        },
        "outputId": "f5532fcd-e2bd-4058-e290-4ee280e54afe"
      },
      "source": [
        "if len(t) == 5:\n",
        "  print('length is 5')\n",
        "else:\n",
        "  print('length not equals 5')"
      ],
      "execution_count": null,
      "outputs": [
        {
          "output_type": "stream",
          "text": [
            "length is 5\n"
          ],
          "name": "stdout"
        }
      ]
    },
    {
      "cell_type": "markdown",
      "metadata": {
        "id": "dJHcm_xmV7H2"
      },
      "source": [
        "่ตัวอย่างโค้ดการตัดเกรด จากตัวแปร score"
      ]
    },
    {
      "cell_type": "code",
      "metadata": {
        "id": "O-nsyOWPWBMw",
        "colab": {
          "base_uri": "https://localhost:8080/"
        },
        "outputId": "4b8ebe6f-2cd7-4082-bc92-dc71121d334e"
      },
      "source": [
        "# ทบทวนตัวแปร grade ตัวเดิม\n",
        "grade"
      ],
      "execution_count": null,
      "outputs": [
        {
          "output_type": "execute_result",
          "data": {
            "text/plain": [
              "{'A': 80, 'B': 70, 'B+': 75, 'C': 60, 'D': 50}"
            ]
          },
          "metadata": {
            "tags": []
          },
          "execution_count": 99
        }
      ]
    },
    {
      "cell_type": "code",
      "metadata": {
        "id": "C7bVD-2V75P-",
        "colab": {
          "base_uri": "https://localhost:8080/"
        },
        "outputId": "f0032dfa-0277-4c11-c231-13e5f0806ea6"
      },
      "source": [
        "score = 75\n",
        "if score >= grade[\"A\"]:\n",
        "  print(\"A\")\n",
        "  print(\"Good Job!\")\n",
        "elif score >= grade[\"B+\"]:\n",
        "  print(\"B+\")\n",
        "elif score >= grade[\"B\"]:\n",
        "  print(\"B\")\n",
        "elif score >= grade[\"C\"]:\n",
        "  print(\"C\")\n",
        "elif score >= grade[\"D\"]:\n",
        "  print(\"D\")\n",
        "else:\n",
        "  print(\"F\")"
      ],
      "execution_count": null,
      "outputs": [
        {
          "output_type": "stream",
          "text": [
            "B+\n"
          ],
          "name": "stdout"
        }
      ]
    },
    {
      "cell_type": "markdown",
      "metadata": {
        "id": "Ftu2euHycYAA"
      },
      "source": [
        "# Python Packages\n",
        "\n",
        "Python Packages คือ การรวบรวม function อื่น ๆ เพิ่มเติมให้สามารถเรียกใช้ได้ มีสองประเภท ได้แก่\n",
        "1. Built-in package คือ package ที่มาจาก Python สามารถเรียกใช้ได้เลยโดยไม่ต้อง install เพิ่มเติม\n",
        "2. 3rd party package คือ package อื่น ๆ ที่ถูกพัฒนาเพื่อให้ใช้และติดตั้งได้ฟรี สามารถ install ได้ผ่าน pip ซึ่งเป็น ตัวจัดการ package ของ python คำสั่งในการ install คือ `pip install [ชื่อ package]`\n",
        "\n",
        "บางครั้ง package ก็เรียกว่าเป็น library ได้เหมือนกัน"
      ]
    },
    {
      "cell_type": "markdown",
      "metadata": {
        "id": "6_O3wldFOs7X"
      },
      "source": [
        "มาลอง Hello World! กันด้วยการ import กัน"
      ]
    },
    {
      "cell_type": "code",
      "metadata": {
        "id": "efDIf2UvcjT8",
        "colab": {
          "base_uri": "https://localhost:8080/"
        },
        "outputId": "04c88b5c-e412-4386-edef-62e902c244ea"
      },
      "source": [
        "import __hello__"
      ],
      "execution_count": null,
      "outputs": [
        {
          "output_type": "stream",
          "text": [
            "Hello world!\n"
          ],
          "name": "stdout"
        }
      ]
    },
    {
      "cell_type": "markdown",
      "metadata": {
        "id": "oq5wnw8ECMRB"
      },
      "source": [
        "## Math\n",
        "\n",
        "Package สำหรับคำนวณตัวเลข เช่น Log, Exponential และเรียกใช้ค่าสำคัญทางคณิตศาสตร์ เช่น Pi"
      ]
    },
    {
      "cell_type": "code",
      "metadata": {
        "id": "7_LUlsGTcxDT",
        "colab": {
          "base_uri": "https://localhost:8080/"
        },
        "outputId": "c0620d98-ce0f-4506-d567-e47cc5e1b561"
      },
      "source": [
        "import math\n",
        "\n",
        "math.pi"
      ],
      "execution_count": null,
      "outputs": [
        {
          "output_type": "execute_result",
          "data": {
            "text/plain": [
              "3.141592653589793"
            ]
          },
          "metadata": {
            "tags": []
          },
          "execution_count": 103
        }
      ]
    },
    {
      "cell_type": "markdown",
      "metadata": {
        "id": "USn2zGrvdYOy"
      },
      "source": [
        "นอกจากการ import แบบตรง สามารถ import เฉพาะตัวแปร หรือ fuction ได้เช่นกัน โดยใช้ `from [ชื่อ package] import [ชื่อ function หรือ ตัวแปรที่ต้องการ import]`"
      ]
    },
    {
      "cell_type": "code",
      "metadata": {
        "id": "YVigxwRvdFcL",
        "colab": {
          "base_uri": "https://localhost:8080/"
        },
        "outputId": "9dbbb5db-8986-422b-b335-ac9e1b5dd506"
      },
      "source": [
        "from math import pi\n",
        "\n",
        "pi"
      ],
      "execution_count": null,
      "outputs": [
        {
          "output_type": "execute_result",
          "data": {
            "text/plain": [
              "3.141592653589793"
            ]
          },
          "metadata": {
            "tags": []
          },
          "execution_count": 104
        }
      ]
    },
    {
      "cell_type": "markdown",
      "metadata": {
        "id": "dEyyUh5P70iV"
      },
      "source": [
        "## Datetime\n",
        "Datetime เป็น Package สำหรับจัดการข้อมูลวันเวลา เช่น เวลาในแต่ละ Timezone, ดึงวันเวลาในวันนี้\n",
        "\n",
        "\n",
        "โดยทั่วไป เวลามักจะเป็นเวลา UTC (Universal Time Coordinated) คือเป็นเวลาตามเวลามาตรฐานโลก ไม่อิงตาม timezone\n",
        "\n",
        "เวลาประเทศไทย จะเป็นเวลาที่เรียกว่า Indochina Time (ICT) คือ เป็นเวลา UTC + 7 ชั่วโมง"
      ]
    },
    {
      "cell_type": "code",
      "metadata": {
        "id": "ax5KF8c3sKpI"
      },
      "source": [
        "?datetime"
      ],
      "execution_count": null,
      "outputs": []
    },
    {
      "cell_type": "code",
      "metadata": {
        "id": "qFB9ARmS5Ay_",
        "colab": {
          "base_uri": "https://localhost:8080/"
        },
        "outputId": "99cda656-5de9-4748-ef01-167ed7fe8295"
      },
      "source": [
        "import datetime\n",
        "\n",
        "now = datetime.datetime.now()\n",
        "now"
      ],
      "execution_count": null,
      "outputs": [
        {
          "output_type": "execute_result",
          "data": {
            "text/plain": [
              "datetime.datetime(2021, 8, 14, 8, 4, 42, 155313)"
            ]
          },
          "metadata": {
            "tags": []
          },
          "execution_count": 105
        }
      ]
    },
    {
      "cell_type": "markdown",
      "metadata": {
        "id": "h8R1AWnNBTv9"
      },
      "source": [
        "isoformat คือ format มาตรฐานที่นิยมใช้ใน timestamp ที่เก็บไว้บน database / data warehouse"
      ]
    },
    {
      "cell_type": "code",
      "metadata": {
        "id": "Hjf2A4WAO4Sh",
        "colab": {
          "base_uri": "https://localhost:8080/",
          "height": 35
        },
        "outputId": "c1cd67d5-b627-49be-f773-f370ea1ba956"
      },
      "source": [
        "now.isoformat()"
      ],
      "execution_count": null,
      "outputs": [
        {
          "output_type": "execute_result",
          "data": {
            "application/vnd.google.colaboratory.intrinsic+json": {
              "type": "string"
            },
            "text/plain": [
              "'2021-08-14T08:04:42.155313'"
            ]
          },
          "metadata": {
            "tags": []
          },
          "execution_count": 110
        }
      ]
    },
    {
      "cell_type": "markdown",
      "metadata": {
        "id": "-HwGVggcQZjK"
      },
      "source": [
        "การเรียกดูวันที่วันปัจจุบัน"
      ]
    },
    {
      "cell_type": "code",
      "metadata": {
        "id": "mP7YZxDR5X6l",
        "colab": {
          "base_uri": "https://localhost:8080/"
        },
        "outputId": "9453b68b-59b0-4cfb-c1d9-c87d0dbbd69d"
      },
      "source": [
        "today = datetime.date.today()\n",
        "today"
      ],
      "execution_count": null,
      "outputs": [
        {
          "output_type": "execute_result",
          "data": {
            "text/plain": [
              "datetime.date(2021, 8, 14)"
            ]
          },
          "metadata": {
            "tags": []
          },
          "execution_count": 112
        }
      ]
    },
    {
      "cell_type": "markdown",
      "metadata": {
        "id": "HqUkTGGGQKFH"
      },
      "source": [
        "รูปแบบมาตรฐานของ date คือ YYYY-mm-dd"
      ]
    },
    {
      "cell_type": "code",
      "metadata": {
        "id": "yaWMiGH0O-sI",
        "colab": {
          "base_uri": "https://localhost:8080/",
          "height": 35
        },
        "outputId": "526f3a6b-54ef-421c-ff18-c98bc2f69740"
      },
      "source": [
        "today.isoformat()"
      ],
      "execution_count": null,
      "outputs": [
        {
          "output_type": "execute_result",
          "data": {
            "application/vnd.google.colaboratory.intrinsic+json": {
              "type": "string"
            },
            "text/plain": [
              "'2021-08-14'"
            ]
          },
          "metadata": {
            "tags": []
          },
          "execution_count": 113
        }
      ]
    },
    {
      "cell_type": "markdown",
      "metadata": {
        "id": "pjRhF6m9w0WZ"
      },
      "source": [
        "# Simple functions\n",
        "\n",
        "Function คือ การกำหนดการคำนวณที่ใช้ซ้ำบ่อย ๆ เพื่อให้เรียกใช้ได้สะดวก\n",
        "ในการเรียกใช้ Function ผู้ใช้ส่งตัวแปรเข้ามากี่ตัวก็ได้ (เรียกว่า argument หรือ parameter) เช่น height และ width\n",
        "และสามารถกำหนดค่าในกรณีที่ผู้ใช้ใส่ตัวแปรใน parameter มาไม่ครบ เรียกว่า default parameter (ในตัวอย่างเช่น rate ตัวแปรค่าเงินที่สามารถกำหนดค่า default ได้)\n",
        "การ return คือการ คืนค่าออกไปเพื่อเป็นผลลัพธ์ชอง function\n",
        "\n",
        "parameter ของ function คือ ตัวแปรรับเข้าที่เปลี่ยนค่าได้"
      ]
    },
    {
      "cell_type": "code",
      "metadata": {
        "id": "4Qruy5d21l76",
        "colab": {
          "base_uri": "https://localhost:8080/"
        },
        "outputId": "bfceac66-f995-452c-d5c5-56a9e5e1a1a8"
      },
      "source": [
        "def circle_area(radius):\n",
        "  return pi * radius * radius\n",
        "\n",
        "circle_area(2)"
      ],
      "execution_count": null,
      "outputs": [
        {
          "output_type": "execute_result",
          "data": {
            "text/plain": [
              "12.566370614359172"
            ]
          },
          "metadata": {
            "tags": []
          },
          "execution_count": 114
        }
      ]
    },
    {
      "cell_type": "code",
      "metadata": {
        "id": "-rtsx6QW12aM",
        "colab": {
          "base_uri": "https://localhost:8080/"
        },
        "outputId": "f61ffbc5-9afe-40e0-d838-6c305546da05"
      },
      "source": [
        "def rectangle_area(height, width):\n",
        "  return height * width\n",
        "\n",
        "rectangle_area(4, 5)"
      ],
      "execution_count": null,
      "outputs": [
        {
          "output_type": "execute_result",
          "data": {
            "text/plain": [
              "20"
            ]
          },
          "metadata": {
            "tags": []
          },
          "execution_count": 115
        }
      ]
    },
    {
      "cell_type": "markdown",
      "metadata": {
        "id": "79Z-syzgVcO-"
      },
      "source": [
        "สร้างฟังก์ชันเพื่อแปลงค่าเงิน โดย rate จะมี default parameter อยู่ที่ 31.33"
      ]
    },
    {
      "cell_type": "code",
      "metadata": {
        "id": "lswe1z6S3rtX",
        "colab": {
          "base_uri": "https://localhost:8080/"
        },
        "outputId": "d12f8dd5-7375-41ce-9f52-0654e166a579"
      },
      "source": [
        "def conversion(amount, rate=31.33):\n",
        "  return amount * rate\n",
        "\n",
        "\n",
        "conversion(30)"
      ],
      "execution_count": null,
      "outputs": [
        {
          "output_type": "execute_result",
          "data": {
            "text/plain": [
              "939.9"
            ]
          },
          "metadata": {
            "tags": []
          },
          "execution_count": 116
        }
      ]
    },
    {
      "cell_type": "markdown",
      "metadata": {
        "id": "AGxbFCgJVk1V"
      },
      "source": [
        "แต่สามารถปรับเปลี่ยนค่า rate ได้เหมือนฟังก์ชั่นปกติ ถ้าเกิดมีการใส่ rate มา"
      ]
    },
    {
      "cell_type": "code",
      "metadata": {
        "id": "uWD-VVlP4jFx",
        "colab": {
          "base_uri": "https://localhost:8080/"
        },
        "outputId": "f735f4de-382d-466b-bf53-4036d6344a5d"
      },
      "source": [
        "conversion(30, 33.3333)"
      ],
      "execution_count": null,
      "outputs": [
        {
          "output_type": "execute_result",
          "data": {
            "text/plain": [
              "999.999"
            ]
          },
          "metadata": {
            "tags": []
          },
          "execution_count": 117
        }
      ]
    },
    {
      "cell_type": "markdown",
      "metadata": {
        "id": "OaxEeWQTwA1V"
      },
      "source": [
        "# Working with files การทำงานร่วมกับไฟล์"
      ]
    },
    {
      "cell_type": "markdown",
      "metadata": {
        "id": "Z5184gI48YK-"
      },
      "source": [
        "## Write file การเขียนไฟล์\n",
        "\n",
        "การเขียนไฟล์ จะใช้คำสั่ง open เพื่อเปิดไฟล์ และเขียนไฟล์ลงไป\n",
        "\n",
        "\"w\" ข้างหลัง (write) คือ โหมดของการเปิดไฟล์แบบเขียน ซึ่งจะสร้างไฟล์ใหม่ขึ้นมาเพื่อเขียน"
      ]
    },
    {
      "cell_type": "code",
      "metadata": {
        "id": "SjXJ5yiP4wfu"
      },
      "source": [
        "file = open(\"output.csv\", \"w\")\n",
        "file.write(\"date,item,price\\n\")\n",
        "file.write(\"2020-02-07,Milk,26.5\\n\")\n",
        "file.write(\"2020-02-08,Water,7\\n\")\n",
        "file.close()"
      ],
      "execution_count": null,
      "outputs": []
    },
    {
      "cell_type": "markdown",
      "metadata": {
        "id": "l9smesTSUUU9"
      },
      "source": [
        "การวนลูปเขียนไฟล์ จาก list ของ tuple"
      ]
    },
    {
      "cell_type": "code",
      "metadata": {
        "colab": {
          "base_uri": "https://localhost:8080/",
          "height": 35
        },
        "id": "vDpzVwSOt4F9",
        "outputId": "b50a8a5c-f87c-4ecd-a242-a9d609ac2cda"
      },
      "source": [
        "header = (\"date\", \"item\", \"price\")\n",
        "\",\".join(header) + \"\\n\""
      ],
      "execution_count": null,
      "outputs": [
        {
          "output_type": "execute_result",
          "data": {
            "application/vnd.google.colaboratory.intrinsic+json": {
              "type": "string"
            },
            "text/plain": [
              "'date,item,price\\n'"
            ]
          },
          "metadata": {
            "tags": []
          },
          "execution_count": 120
        }
      ]
    },
    {
      "cell_type": "code",
      "metadata": {
        "id": "W5C4Uoei93_9"
      },
      "source": [
        "header = (\"date\", \"item\", \"price\")\n",
        "content = [\n",
        "    (\"2020-02-07\", \"Milk\", \"26.5\"),\n",
        "    (\"2020-02-08\", \"Water\", \"7\"),\n",
        "    (\"2020-02-08\", \"Mask\", \"20\"),\n",
        "    (\"2020-02-08\", \"Lays\", \"10\"),\n",
        "    (\"2020-02-08\", \"Rice\", \"6\")\n",
        "]\n",
        "\n",
        "file = open('products.csv', 'w')\n",
        "file.write(\",\".join(header) + \"\\n\")\n",
        "\n",
        "for row in content:\n",
        "  file.write(\",\".join(row) + \"\\n\")\n",
        "\n",
        "file.close()"
      ],
      "execution_count": null,
      "outputs": []
    },
    {
      "cell_type": "markdown",
      "metadata": {
        "id": "PFMeyDyGAnxk"
      },
      "source": [
        "## Read file การอ่านไฟล์"
      ]
    },
    {
      "cell_type": "markdown",
      "metadata": {
        "id": "5QZHzeniUZ1O"
      },
      "source": [
        "การอ่านไฟล์ จะคล้ายคลึงกับ การเขียนไฟล์ตรงที่ต้อง open file เช่นกัน แตกต่างกันที่ mode จะ"
      ]
    },
    {
      "cell_type": "code",
      "metadata": {
        "id": "BKbZ1KQ9Am-3",
        "colab": {
          "base_uri": "https://localhost:8080/"
        },
        "outputId": "f14d38ee-4bcb-44b9-c7e6-1540f3965ac5"
      },
      "source": [
        "with open(\"products.csv\", \"r\") as f:\n",
        "  product = f.readlines()\n",
        "\n",
        "product"
      ],
      "execution_count": null,
      "outputs": [
        {
          "output_type": "execute_result",
          "data": {
            "text/plain": [
              "['date,item,price\\n',\n",
              " '2020-02-07,Milk,26.5\\n',\n",
              " '2020-02-08,Water,7\\n',\n",
              " '2020-02-08,Mask,20\\n',\n",
              " '2020-02-08,Lays,10\\n',\n",
              " '2020-02-08,Rice,6\\n']"
            ]
          },
          "metadata": {
            "tags": []
          },
          "execution_count": 123
        }
      ]
    },
    {
      "cell_type": "code",
      "metadata": {
        "colab": {
          "base_uri": "https://localhost:8080/"
        },
        "id": "lnCPJNWIu1AU",
        "outputId": "8778d17d-378c-428e-a4a2-905e276d7d0f"
      },
      "source": [
        "len(product)"
      ],
      "execution_count": null,
      "outputs": [
        {
          "output_type": "execute_result",
          "data": {
            "text/plain": [
              "6"
            ]
          },
          "metadata": {
            "tags": []
          },
          "execution_count": 125
        }
      ]
    },
    {
      "cell_type": "markdown",
      "metadata": {
        "id": "nu2d7t-dAisB"
      },
      "source": [
        "## Use Pandas to Read/Write file"
      ]
    },
    {
      "cell_type": "markdown",
      "metadata": {
        "id": "2u_LKLTOCD7r"
      },
      "source": [
        "การอ่านไฟล์ CSV ด้วย Pandas (3rd party package) สำหรับการอ่านและประมวลผลไฟล์ ในลักษณะของตาราง DataFrame\n",
        "\n",
        "Pandas เป็นที่นิยมใช้ในสาย data มาก เพราะสามารถช่วยให้วิเคราะห์และใช้งาน data ที่เป็น table ใน Python ได้ง่ายขึ้น\n",
        "\n",
        "เนื่องจากเป็น package ที่ python ไม่มี จึงต่อ import ก่อนด้วย\n",
        "> import pandas as pd\n",
        "\n",
        "(Google Colab ได้ install pandas ไว้อัตโนมัติอยู่แล้ว เพราะเป็น package ยอดนิยม)"
      ]
    },
    {
      "cell_type": "code",
      "metadata": {
        "id": "gaXfQ73DAh6v",
        "colab": {
          "base_uri": "https://localhost:8080/",
          "height": 437
        },
        "outputId": "0c67ce82-5eed-400d-e194-52555e31c083"
      },
      "source": [
        "import pandas as pd\n",
        "\n",
        "df = pd.read_csv(\"sample_data/california_housing_test.csv\")\n",
        "df"
      ],
      "execution_count": null,
      "outputs": [
        {
          "output_type": "execute_result",
          "data": {
            "text/html": [
              "<div>\n",
              "<style scoped>\n",
              "    .dataframe tbody tr th:only-of-type {\n",
              "        vertical-align: middle;\n",
              "    }\n",
              "\n",
              "    .dataframe tbody tr th {\n",
              "        vertical-align: top;\n",
              "    }\n",
              "\n",
              "    .dataframe thead th {\n",
              "        text-align: right;\n",
              "    }\n",
              "</style>\n",
              "<table border=\"1\" class=\"dataframe\">\n",
              "  <thead>\n",
              "    <tr style=\"text-align: right;\">\n",
              "      <th></th>\n",
              "      <th>longitude</th>\n",
              "      <th>latitude</th>\n",
              "      <th>housing_median_age</th>\n",
              "      <th>total_rooms</th>\n",
              "      <th>total_bedrooms</th>\n",
              "      <th>population</th>\n",
              "      <th>households</th>\n",
              "      <th>median_income</th>\n",
              "      <th>median_house_value</th>\n",
              "    </tr>\n",
              "  </thead>\n",
              "  <tbody>\n",
              "    <tr>\n",
              "      <th>0</th>\n",
              "      <td>-122.05</td>\n",
              "      <td>37.37</td>\n",
              "      <td>27.0</td>\n",
              "      <td>3885.0</td>\n",
              "      <td>661.0</td>\n",
              "      <td>1537.0</td>\n",
              "      <td>606.0</td>\n",
              "      <td>6.6085</td>\n",
              "      <td>344700.0</td>\n",
              "    </tr>\n",
              "    <tr>\n",
              "      <th>1</th>\n",
              "      <td>-118.30</td>\n",
              "      <td>34.26</td>\n",
              "      <td>43.0</td>\n",
              "      <td>1510.0</td>\n",
              "      <td>310.0</td>\n",
              "      <td>809.0</td>\n",
              "      <td>277.0</td>\n",
              "      <td>3.5990</td>\n",
              "      <td>176500.0</td>\n",
              "    </tr>\n",
              "    <tr>\n",
              "      <th>2</th>\n",
              "      <td>-117.81</td>\n",
              "      <td>33.78</td>\n",
              "      <td>27.0</td>\n",
              "      <td>3589.0</td>\n",
              "      <td>507.0</td>\n",
              "      <td>1484.0</td>\n",
              "      <td>495.0</td>\n",
              "      <td>5.7934</td>\n",
              "      <td>270500.0</td>\n",
              "    </tr>\n",
              "    <tr>\n",
              "      <th>3</th>\n",
              "      <td>-118.36</td>\n",
              "      <td>33.82</td>\n",
              "      <td>28.0</td>\n",
              "      <td>67.0</td>\n",
              "      <td>15.0</td>\n",
              "      <td>49.0</td>\n",
              "      <td>11.0</td>\n",
              "      <td>6.1359</td>\n",
              "      <td>330000.0</td>\n",
              "    </tr>\n",
              "    <tr>\n",
              "      <th>4</th>\n",
              "      <td>-119.67</td>\n",
              "      <td>36.33</td>\n",
              "      <td>19.0</td>\n",
              "      <td>1241.0</td>\n",
              "      <td>244.0</td>\n",
              "      <td>850.0</td>\n",
              "      <td>237.0</td>\n",
              "      <td>2.9375</td>\n",
              "      <td>81700.0</td>\n",
              "    </tr>\n",
              "    <tr>\n",
              "      <th>...</th>\n",
              "      <td>...</td>\n",
              "      <td>...</td>\n",
              "      <td>...</td>\n",
              "      <td>...</td>\n",
              "      <td>...</td>\n",
              "      <td>...</td>\n",
              "      <td>...</td>\n",
              "      <td>...</td>\n",
              "      <td>...</td>\n",
              "    </tr>\n",
              "    <tr>\n",
              "      <th>2995</th>\n",
              "      <td>-119.86</td>\n",
              "      <td>34.42</td>\n",
              "      <td>23.0</td>\n",
              "      <td>1450.0</td>\n",
              "      <td>642.0</td>\n",
              "      <td>1258.0</td>\n",
              "      <td>607.0</td>\n",
              "      <td>1.1790</td>\n",
              "      <td>225000.0</td>\n",
              "    </tr>\n",
              "    <tr>\n",
              "      <th>2996</th>\n",
              "      <td>-118.14</td>\n",
              "      <td>34.06</td>\n",
              "      <td>27.0</td>\n",
              "      <td>5257.0</td>\n",
              "      <td>1082.0</td>\n",
              "      <td>3496.0</td>\n",
              "      <td>1036.0</td>\n",
              "      <td>3.3906</td>\n",
              "      <td>237200.0</td>\n",
              "    </tr>\n",
              "    <tr>\n",
              "      <th>2997</th>\n",
              "      <td>-119.70</td>\n",
              "      <td>36.30</td>\n",
              "      <td>10.0</td>\n",
              "      <td>956.0</td>\n",
              "      <td>201.0</td>\n",
              "      <td>693.0</td>\n",
              "      <td>220.0</td>\n",
              "      <td>2.2895</td>\n",
              "      <td>62000.0</td>\n",
              "    </tr>\n",
              "    <tr>\n",
              "      <th>2998</th>\n",
              "      <td>-117.12</td>\n",
              "      <td>34.10</td>\n",
              "      <td>40.0</td>\n",
              "      <td>96.0</td>\n",
              "      <td>14.0</td>\n",
              "      <td>46.0</td>\n",
              "      <td>14.0</td>\n",
              "      <td>3.2708</td>\n",
              "      <td>162500.0</td>\n",
              "    </tr>\n",
              "    <tr>\n",
              "      <th>2999</th>\n",
              "      <td>-119.63</td>\n",
              "      <td>34.42</td>\n",
              "      <td>42.0</td>\n",
              "      <td>1765.0</td>\n",
              "      <td>263.0</td>\n",
              "      <td>753.0</td>\n",
              "      <td>260.0</td>\n",
              "      <td>8.5608</td>\n",
              "      <td>500001.0</td>\n",
              "    </tr>\n",
              "  </tbody>\n",
              "</table>\n",
              "<p>3000 rows × 9 columns</p>\n",
              "</div>"
            ],
            "text/plain": [
              "      longitude  latitude  ...  median_income  median_house_value\n",
              "0       -122.05     37.37  ...         6.6085            344700.0\n",
              "1       -118.30     34.26  ...         3.5990            176500.0\n",
              "2       -117.81     33.78  ...         5.7934            270500.0\n",
              "3       -118.36     33.82  ...         6.1359            330000.0\n",
              "4       -119.67     36.33  ...         2.9375             81700.0\n",
              "...         ...       ...  ...            ...                 ...\n",
              "2995    -119.86     34.42  ...         1.1790            225000.0\n",
              "2996    -118.14     34.06  ...         3.3906            237200.0\n",
              "2997    -119.70     36.30  ...         2.2895             62000.0\n",
              "2998    -117.12     34.10  ...         3.2708            162500.0\n",
              "2999    -119.63     34.42  ...         8.5608            500001.0\n",
              "\n",
              "[3000 rows x 9 columns]"
            ]
          },
          "metadata": {
            "tags": []
          },
          "execution_count": 127
        }
      ]
    },
    {
      "cell_type": "code",
      "metadata": {
        "id": "dmyfjfirRCqn",
        "colab": {
          "base_uri": "https://localhost:8080/"
        },
        "outputId": "17d6ad46-81d9-49a2-bf0a-a5fc1f9b629d"
      },
      "source": [
        "type(df)"
      ],
      "execution_count": null,
      "outputs": [
        {
          "output_type": "execute_result",
          "data": {
            "text/plain": [
              "pandas.core.frame.DataFrame"
            ]
          },
          "metadata": {
            "tags": []
          },
          "execution_count": 128
        }
      ]
    },
    {
      "cell_type": "markdown",
      "metadata": {
        "id": "RscjixvpCZ7A"
      },
      "source": [
        "เซฟไฟล์ CSV จาก DataFrame"
      ]
    },
    {
      "cell_type": "code",
      "metadata": {
        "id": "YGdfLXeHCHng"
      },
      "source": [
        "df.to_csv(\"new_data.csv\")\n"
      ],
      "execution_count": null,
      "outputs": []
    },
    {
      "cell_type": "markdown",
      "metadata": {
        "id": "QO-awEUvwEEo"
      },
      "source": [
        "## JSON"
      ]
    },
    {
      "cell_type": "markdown",
      "metadata": {
        "id": "zLJProKfGJXj"
      },
      "source": [
        "JSON dump = export JSON"
      ]
    },
    {
      "cell_type": "code",
      "metadata": {
        "id": "fj5To2YCRStw",
        "colab": {
          "base_uri": "https://localhost:8080/"
        },
        "outputId": "19dc7e65-2fe5-4810-c211-37aa59101220"
      },
      "source": [
        "grade"
      ],
      "execution_count": null,
      "outputs": [
        {
          "output_type": "execute_result",
          "data": {
            "text/plain": [
              "{'A': 80, 'B': 70, 'B+': 75, 'C': 60, 'D': 50}"
            ]
          },
          "metadata": {
            "tags": []
          },
          "execution_count": 130
        }
      ]
    },
    {
      "cell_type": "code",
      "metadata": {
        "id": "1qwDmHNuv_lR",
        "colab": {
          "base_uri": "https://localhost:8080/",
          "height": 35
        },
        "outputId": "32524b31-b75c-43f2-ecd1-b2af3e39e417"
      },
      "source": [
        "import json\n",
        "json.dumps(grade)"
      ],
      "execution_count": null,
      "outputs": [
        {
          "output_type": "execute_result",
          "data": {
            "application/vnd.google.colaboratory.intrinsic+json": {
              "type": "string"
            },
            "text/plain": [
              "'{\"A\": 80, \"B\": 70, \"C\": 60, \"D\": 50, \"B+\": 75}'"
            ]
          },
          "metadata": {
            "tags": []
          },
          "execution_count": 131
        }
      ]
    },
    {
      "cell_type": "code",
      "metadata": {
        "id": "b_HFy_oJRbee",
        "colab": {
          "base_uri": "https://localhost:8080/"
        },
        "outputId": "cf540048-7e80-47b9-a3c4-b61ee0d90d5a"
      },
      "source": [
        "type(json.dumps(grade))"
      ],
      "execution_count": null,
      "outputs": [
        {
          "output_type": "execute_result",
          "data": {
            "text/plain": [
              "str"
            ]
          },
          "metadata": {
            "tags": []
          },
          "execution_count": 132
        }
      ]
    },
    {
      "cell_type": "code",
      "metadata": {
        "id": "3VcEg89FwOdA"
      },
      "source": [
        "# Save to output file grade.json\n",
        "json.dump(grade, open(\"grade.json\", \"w\"))"
      ],
      "execution_count": null,
      "outputs": []
    },
    {
      "cell_type": "markdown",
      "metadata": {
        "id": "fcZ-ERRKGMwo"
      },
      "source": [
        "JSON load = import JSON"
      ]
    },
    {
      "cell_type": "code",
      "metadata": {
        "id": "DNe3gRwj6sKR",
        "colab": {
          "base_uri": "https://localhost:8080/"
        },
        "outputId": "e23862a1-864d-4c22-8a52-d0f8e719b999"
      },
      "source": [
        "students = json.loads('{\"student1\": \"Perth\", \"student2\": \"Fon\"}')\n",
        "students"
      ],
      "execution_count": null,
      "outputs": [
        {
          "output_type": "execute_result",
          "data": {
            "text/plain": [
              "{'student1': 'Perth', 'student2': 'Fon'}"
            ]
          },
          "metadata": {
            "tags": []
          },
          "execution_count": 134
        }
      ]
    },
    {
      "cell_type": "code",
      "metadata": {
        "id": "TaOV6cgQ7HWw",
        "colab": {
          "base_uri": "https://localhost:8080/"
        },
        "outputId": "59baf81c-f6db-4cc7-ba5a-a66cd3840f4e"
      },
      "source": [
        "type(students)"
      ],
      "execution_count": null,
      "outputs": [
        {
          "output_type": "execute_result",
          "data": {
            "text/plain": [
              "dict"
            ]
          },
          "metadata": {
            "tags": []
          },
          "execution_count": 135
        }
      ]
    },
    {
      "cell_type": "markdown",
      "metadata": {
        "id": "AT131s4MZ-0X"
      },
      "source": [
        "# Tips"
      ]
    },
    {
      "cell_type": "markdown",
      "metadata": {
        "id": "oqPb-n-pLRqm"
      },
      "source": [
        "ข้อควรระหว่างสำหรับการแปลงค่าความจริง ด้วย bool()\n",
        "เพราะ bool จะแปลงค่าตัวแปรทุกตัวที่มีค่า เป็น True ทั้งหมด\n",
        "\n",
        "string \"False\" จริงมีค่าเป็น True เพราะ ไม่ใช่ String ว่าง"
      ]
    },
    {
      "cell_type": "code",
      "metadata": {
        "id": "v7JsDop7ZuIZ",
        "colab": {
          "base_uri": "https://localhost:8080/"
        },
        "outputId": "bc728ede-8a5b-4bb7-c3d4-64415c4f4c54"
      },
      "source": [
        "bool(\"False\")"
      ],
      "execution_count": null,
      "outputs": [
        {
          "output_type": "execute_result",
          "data": {
            "text/plain": [
              "True"
            ]
          },
          "metadata": {
            "tags": []
          },
          "execution_count": 136
        }
      ]
    },
    {
      "cell_type": "markdown",
      "metadata": {
        "id": "UFezcRb4Lr_K"
      },
      "source": [
        "การแปลงค่า Boolean ที่ถูกต้อง จึงแนะนำ built-in function `literal_eval` ใน package `ast` เพื่อแปลงค่าที่ถูกต้อง"
      ]
    },
    {
      "cell_type": "code",
      "metadata": {
        "id": "HeRzcQUZaBbz",
        "colab": {
          "base_uri": "https://localhost:8080/"
        },
        "outputId": "c4c7488e-b2c8-441c-c4e7-20bbca24601f"
      },
      "source": [
        "import ast\n",
        "ast.literal_eval(\"False\")"
      ],
      "execution_count": null,
      "outputs": [
        {
          "output_type": "execute_result",
          "data": {
            "text/plain": [
              "False"
            ]
          },
          "metadata": {
            "tags": []
          },
          "execution_count": 137
        }
      ]
    },
    {
      "cell_type": "markdown",
      "metadata": {
        "id": "Xhbfd7h2MEdh"
      },
      "source": [
        "Bonus: แนวคิดการออกแบบ ภาษา Python สามารถดูได้โดยการ `import this`"
      ]
    },
    {
      "cell_type": "code",
      "metadata": {
        "id": "HIUfvGnyblch",
        "colab": {
          "base_uri": "https://localhost:8080/"
        },
        "outputId": "b933124f-12ea-420e-8746-2d02c5b6f558"
      },
      "source": [
        "import this"
      ],
      "execution_count": null,
      "outputs": [
        {
          "output_type": "stream",
          "text": [
            "The Zen of Python, by Tim Peters\n",
            "\n",
            "Beautiful is better than ugly.\n",
            "Explicit is better than implicit.\n",
            "Simple is better than complex.\n",
            "Complex is better than complicated.\n",
            "Flat is better than nested.\n",
            "Sparse is better than dense.\n",
            "Readability counts.\n",
            "Special cases aren't special enough to break the rules.\n",
            "Although practicality beats purity.\n",
            "Errors should never pass silently.\n",
            "Unless explicitly silenced.\n",
            "In the face of ambiguity, refuse the temptation to guess.\n",
            "There should be one-- and preferably only one --obvious way to do it.\n",
            "Although that way may not be obvious at first unless you're Dutch.\n",
            "Now is better than never.\n",
            "Although never is often better than *right* now.\n",
            "If the implementation is hard to explain, it's a bad idea.\n",
            "If the implementation is easy to explain, it may be a good idea.\n",
            "Namespaces are one honking great idea -- let's do more of those!\n"
          ],
          "name": "stdout"
        }
      ]
    },
    {
      "cell_type": "markdown",
      "metadata": {
        "id": "325icnU0U-zj"
      },
      "source": [
        "# Connect to MySQL using PyMysql"
      ]
    },
    {
      "cell_type": "code",
      "metadata": {
        "id": "XI69DrmIUvV2",
        "colab": {
          "base_uri": "https://localhost:8080/"
        },
        "outputId": "2362ac91-f031-485e-d945-d12cf9b036bb"
      },
      "source": [
        "!pip install pymysql"
      ],
      "execution_count": null,
      "outputs": [
        {
          "output_type": "stream",
          "text": [
            "Collecting pymysql\n",
            "  Downloading PyMySQL-1.0.2-py3-none-any.whl (43 kB)\n",
            "\u001b[?25l\r\u001b[K     |███████▌                        | 10 kB 23.1 MB/s eta 0:00:01\r\u001b[K     |███████████████                 | 20 kB 28.7 MB/s eta 0:00:01\r\u001b[K     |██████████████████████▍         | 30 kB 33.1 MB/s eta 0:00:01\r\u001b[K     |██████████████████████████████  | 40 kB 35.9 MB/s eta 0:00:01\r\u001b[K     |████████████████████████████████| 43 kB 2.4 MB/s \n",
            "\u001b[?25hInstalling collected packages: pymysql\n",
            "Successfully installed pymysql-1.0.2\n"
          ],
          "name": "stdout"
        }
      ]
    },
    {
      "cell_type": "markdown",
      "metadata": {
        "id": "U4Su6uewVv9w"
      },
      "source": [
        "Connect to Sample DB"
      ]
    },
    {
      "cell_type": "code",
      "metadata": {
        "id": "BpLkYzh_WFsr"
      },
      "source": [
        "class Config:\n",
        "  MYSQL_HOST = 'db4free.net'\n",
        "  MYSQL_PORT = 3306  # default port ของ MySQL คือ 3306\n",
        "  MYSQL_USER = 'datath'\n",
        "  MYSQL_PASSWORD = 'DataScience-chillchill'\n",
        "  MYSQL_DB = 'detraining'\n",
        "  MYSQL_CHARSET = 'utf8mb4'"
      ],
      "execution_count": null,
      "outputs": []
    },
    {
      "cell_type": "code",
      "metadata": {
        "id": "cgi4HP8dVypG"
      },
      "source": [
        "import pymysql.cursors\n",
        "import pandas as pd\n",
        "\n",
        "# Connect to the database\n",
        "connection = pymysql.connect(host=Config.MYSQL_HOST,\n",
        "                             port=Config.MYSQL_PORT,\n",
        "                             user=Config.MYSQL_USER,\n",
        "                             password=Config.MYSQL_PASSWORD,\n",
        "                             db=Config.MYSQL_DB,\n",
        "                             cursorclass=pymysql.cursors.DictCursor)"
      ],
      "execution_count": null,
      "outputs": []
    },
    {
      "cell_type": "code",
      "metadata": {
        "id": "6SjWev01Wg-_",
        "colab": {
          "base_uri": "https://localhost:8080/"
        },
        "outputId": "d608cedf-5839-482b-9f99-5809eba3cbec"
      },
      "source": [
        "# list all tables\n",
        "cursor = connection.cursor()\n",
        "cursor.execute(\"show tables;\")\n",
        "tables = cursor.fetchall()\n",
        "cursor.close()\n",
        "print(tables)"
      ],
      "execution_count": null,
      "outputs": [
        {
          "output_type": "stream",
          "text": [
            "[{'Tables_in_detraining': 'current_dept_emp'}, {'Tables_in_detraining': 'departments'}, {'Tables_in_detraining': 'dept_emp'}, {'Tables_in_detraining': 'dept_emp_latest_date'}, {'Tables_in_detraining': 'dept_manager'}, {'Tables_in_detraining': 'employees'}, {'Tables_in_detraining': 'online_retail'}, {'Tables_in_detraining': 'salaries'}, {'Tables_in_detraining': 'titles'}]\n"
          ],
          "name": "stdout"
        }
      ]
    },
    {
      "cell_type": "code",
      "metadata": {
        "id": "RBLRyhe_WOw-",
        "colab": {
          "base_uri": "https://localhost:8080/"
        },
        "outputId": "22d459ce-aed2-4fa7-f155-f3445c3fd8fd"
      },
      "source": [
        "# Use with statement instead of cursor.close()\n",
        "with connection.cursor() as cursor:\n",
        "  # Read a single record\n",
        "  sql = \"SELECT * FROM online_retail limit 500;\"\n",
        "  cursor.execute(sql)\n",
        "  result = cursor.fetchall()\n",
        "\n",
        "print(result)"
      ],
      "execution_count": null,
      "outputs": [
        {
          "output_type": "stream",
          "text": [
            "[{'InvoiceNo': 536365, 'StockCode': '85123A', 'Description': 'WHITE HANGING HEART T-LIGHT HOLDER', 'Quantity': 6, 'InvoiceDate': '1/12/2018 08:26', 'UnitPrice': 2.55, 'CustomerID': 17850, 'Country': 'United Kingdom'}, {'InvoiceNo': 536365, 'StockCode': '71053', 'Description': 'WHITE METAL LANTERN', 'Quantity': 6, 'InvoiceDate': '1/12/2018 08:26', 'UnitPrice': 3.39, 'CustomerID': 17850, 'Country': 'United Kingdom'}, {'InvoiceNo': 536365, 'StockCode': '84406B', 'Description': 'CREAM CUPID HEARTS COAT HANGER', 'Quantity': 8, 'InvoiceDate': '1/12/2018 08:26', 'UnitPrice': 2.75, 'CustomerID': 17850, 'Country': 'United Kingdom'}, {'InvoiceNo': 536365, 'StockCode': '84029G', 'Description': 'KNITTED UNION FLAG HOT WATER BOTTLE', 'Quantity': 6, 'InvoiceDate': '1/12/2018 08:26', 'UnitPrice': 3.39, 'CustomerID': 17850, 'Country': 'United Kingdom'}, {'InvoiceNo': 536365, 'StockCode': '84029E', 'Description': 'RED WOOLLY HOTTIE WHITE HEART.', 'Quantity': 6, 'InvoiceDate': '1/12/2018 08:26', 'UnitPrice': 3.39, 'CustomerID': 17850, 'Country': 'United Kingdom'}, {'InvoiceNo': 536365, 'StockCode': '22752', 'Description': 'SET 7 BABUSHKA NESTING BOXES', 'Quantity': 2, 'InvoiceDate': '1/12/2018 08:26', 'UnitPrice': 7.65, 'CustomerID': 17850, 'Country': 'United Kingdom'}, {'InvoiceNo': 536365, 'StockCode': '21730', 'Description': 'GLASS STAR FROSTED T-LIGHT HOLDER', 'Quantity': 6, 'InvoiceDate': '1/12/2018 08:26', 'UnitPrice': 4.25, 'CustomerID': 17850, 'Country': 'United Kingdom'}, {'InvoiceNo': 536366, 'StockCode': '22633', 'Description': 'HAND WARMER UNION JACK', 'Quantity': 6, 'InvoiceDate': '1/12/2018 08:28', 'UnitPrice': 1.85, 'CustomerID': 17850, 'Country': 'United Kingdom'}, {'InvoiceNo': 536366, 'StockCode': '22632', 'Description': 'HAND WARMER RED POLKA DOT', 'Quantity': 6, 'InvoiceDate': '1/12/2018 08:28', 'UnitPrice': 1.85, 'CustomerID': 17850, 'Country': 'United Kingdom'}, {'InvoiceNo': 536367, 'StockCode': '84879', 'Description': 'ASSORTED COLOUR BIRD ORNAMENT', 'Quantity': 32, 'InvoiceDate': '1/12/2018 08:34', 'UnitPrice': 1.69, 'CustomerID': 13047, 'Country': 'United Kingdom'}, {'InvoiceNo': 536367, 'StockCode': '22745', 'Description': \"POPPY'S PLAYHOUSE BEDROOM \", 'Quantity': 6, 'InvoiceDate': '1/12/2018 08:34', 'UnitPrice': 2.1, 'CustomerID': 13047, 'Country': 'United Kingdom'}, {'InvoiceNo': 536367, 'StockCode': '22748', 'Description': \"POPPY'S PLAYHOUSE KITCHEN\", 'Quantity': 6, 'InvoiceDate': '1/12/2018 08:34', 'UnitPrice': 2.1, 'CustomerID': 13047, 'Country': 'United Kingdom'}, {'InvoiceNo': 536367, 'StockCode': '22749', 'Description': 'FELTCRAFT PRINCESS CHARLOTTE DOLL', 'Quantity': 8, 'InvoiceDate': '1/12/2018 08:34', 'UnitPrice': 3.75, 'CustomerID': 13047, 'Country': 'United Kingdom'}, {'InvoiceNo': 536367, 'StockCode': '22310', 'Description': 'IVORY KNITTED MUG COSY ', 'Quantity': 6, 'InvoiceDate': '1/12/2018 08:34', 'UnitPrice': 1.65, 'CustomerID': 13047, 'Country': 'United Kingdom'}, {'InvoiceNo': 536367, 'StockCode': '84969', 'Description': 'BOX OF 6 ASSORTED COLOUR TEASPOONS', 'Quantity': 6, 'InvoiceDate': '1/12/2018 08:34', 'UnitPrice': 4.25, 'CustomerID': 13047, 'Country': 'United Kingdom'}, {'InvoiceNo': 536367, 'StockCode': '22623', 'Description': 'BOX OF VINTAGE JIGSAW BLOCKS ', 'Quantity': 3, 'InvoiceDate': '1/12/2018 08:34', 'UnitPrice': 4.95, 'CustomerID': 13047, 'Country': 'United Kingdom'}, {'InvoiceNo': 536367, 'StockCode': '22622', 'Description': 'BOX OF VINTAGE ALPHABET BLOCKS', 'Quantity': 2, 'InvoiceDate': '1/12/2018 08:34', 'UnitPrice': 9.95, 'CustomerID': 13047, 'Country': 'United Kingdom'}, {'InvoiceNo': 536367, 'StockCode': '21754', 'Description': 'HOME BUILDING BLOCK WORD', 'Quantity': 3, 'InvoiceDate': '1/12/2018 08:34', 'UnitPrice': 5.95, 'CustomerID': 13047, 'Country': 'United Kingdom'}, {'InvoiceNo': 536367, 'StockCode': '21755', 'Description': 'LOVE BUILDING BLOCK WORD', 'Quantity': 3, 'InvoiceDate': '1/12/2018 08:34', 'UnitPrice': 5.95, 'CustomerID': 13047, 'Country': 'United Kingdom'}, {'InvoiceNo': 536367, 'StockCode': '21777', 'Description': 'RECIPE BOX WITH METAL HEART', 'Quantity': 4, 'InvoiceDate': '1/12/2018 08:34', 'UnitPrice': 7.95, 'CustomerID': 13047, 'Country': 'United Kingdom'}, {'InvoiceNo': 536367, 'StockCode': '48187', 'Description': 'DOORMAT NEW ENGLAND', 'Quantity': 4, 'InvoiceDate': '1/12/2018 08:34', 'UnitPrice': 7.95, 'CustomerID': 13047, 'Country': 'United Kingdom'}, {'InvoiceNo': 536368, 'StockCode': '22960', 'Description': 'JAM MAKING SET WITH JARS', 'Quantity': 6, 'InvoiceDate': '1/12/2018 08:34', 'UnitPrice': 4.25, 'CustomerID': 13047, 'Country': 'United Kingdom'}, {'InvoiceNo': 536368, 'StockCode': '22913', 'Description': 'RED COAT RACK PARIS FASHION', 'Quantity': 3, 'InvoiceDate': '1/12/2018 08:34', 'UnitPrice': 4.95, 'CustomerID': 13047, 'Country': 'United Kingdom'}, {'InvoiceNo': 536368, 'StockCode': '22912', 'Description': 'YELLOW COAT RACK PARIS FASHION', 'Quantity': 3, 'InvoiceDate': '1/12/2018 08:34', 'UnitPrice': 4.95, 'CustomerID': 13047, 'Country': 'United Kingdom'}, {'InvoiceNo': 536368, 'StockCode': '22914', 'Description': 'BLUE COAT RACK PARIS FASHION', 'Quantity': 3, 'InvoiceDate': '1/12/2018 08:34', 'UnitPrice': 4.95, 'CustomerID': 13047, 'Country': 'United Kingdom'}, {'InvoiceNo': 536369, 'StockCode': '21756', 'Description': 'BATH BUILDING BLOCK WORD', 'Quantity': 3, 'InvoiceDate': '1/12/2018 08:35', 'UnitPrice': 5.95, 'CustomerID': 13047, 'Country': 'United Kingdom'}, {'InvoiceNo': 536370, 'StockCode': '22728', 'Description': 'ALARM CLOCK BAKELIKE PINK', 'Quantity': 24, 'InvoiceDate': '1/12/2018 08:45', 'UnitPrice': 3.75, 'CustomerID': 12583, 'Country': 'France'}, {'InvoiceNo': 536370, 'StockCode': '22727', 'Description': 'ALARM CLOCK BAKELIKE RED ', 'Quantity': 24, 'InvoiceDate': '1/12/2018 08:45', 'UnitPrice': 3.75, 'CustomerID': 12583, 'Country': 'France'}, {'InvoiceNo': 536370, 'StockCode': '22726', 'Description': 'ALARM CLOCK BAKELIKE GREEN', 'Quantity': 12, 'InvoiceDate': '1/12/2018 08:45', 'UnitPrice': 3.75, 'CustomerID': 12583, 'Country': 'France'}, {'InvoiceNo': 536370, 'StockCode': '21724', 'Description': 'PANDA AND BUNNIES STICKER SHEET', 'Quantity': 12, 'InvoiceDate': '1/12/2018 08:45', 'UnitPrice': 0.85, 'CustomerID': 12583, 'Country': 'France'}, {'InvoiceNo': 536370, 'StockCode': '21883', 'Description': 'STARS GIFT TAPE ', 'Quantity': 24, 'InvoiceDate': '1/12/2018 08:45', 'UnitPrice': 0.65, 'CustomerID': 12583, 'Country': 'France'}, {'InvoiceNo': 536370, 'StockCode': '10002', 'Description': 'INFLATABLE POLITICAL GLOBE ', 'Quantity': 48, 'InvoiceDate': '1/12/2018 08:45', 'UnitPrice': 0.85, 'CustomerID': 12583, 'Country': 'France'}, {'InvoiceNo': 536370, 'StockCode': '21791', 'Description': 'VINTAGE HEADS AND TAILS CARD GAME ', 'Quantity': 24, 'InvoiceDate': '1/12/2018 08:45', 'UnitPrice': 1.25, 'CustomerID': 12583, 'Country': 'France'}, {'InvoiceNo': 536370, 'StockCode': '21035', 'Description': 'SET/2 RED RETROSPOT TEA TOWELS ', 'Quantity': 18, 'InvoiceDate': '1/12/2018 08:45', 'UnitPrice': 2.95, 'CustomerID': 12583, 'Country': 'France'}, {'InvoiceNo': 536370, 'StockCode': '22326', 'Description': 'ROUND SNACK BOXES SET OF4 WOODLAND ', 'Quantity': 24, 'InvoiceDate': '1/12/2018 08:45', 'UnitPrice': 2.95, 'CustomerID': 12583, 'Country': 'France'}, {'InvoiceNo': 536370, 'StockCode': '22629', 'Description': 'SPACEBOY LUNCH BOX ', 'Quantity': 24, 'InvoiceDate': '1/12/2018 08:45', 'UnitPrice': 1.95, 'CustomerID': 12583, 'Country': 'France'}, {'InvoiceNo': 536370, 'StockCode': '22659', 'Description': 'LUNCH BOX I LOVE LONDON', 'Quantity': 24, 'InvoiceDate': '1/12/2018 08:45', 'UnitPrice': 1.95, 'CustomerID': 12583, 'Country': 'France'}, {'InvoiceNo': 536370, 'StockCode': '22631', 'Description': 'CIRCUS PARADE LUNCH BOX ', 'Quantity': 24, 'InvoiceDate': '1/12/2018 08:45', 'UnitPrice': 1.95, 'CustomerID': 12583, 'Country': 'France'}, {'InvoiceNo': 536370, 'StockCode': '22661', 'Description': 'CHARLOTTE BAG DOLLY GIRL DESIGN', 'Quantity': 20, 'InvoiceDate': '1/12/2018 08:45', 'UnitPrice': 0.85, 'CustomerID': 12583, 'Country': 'France'}, {'InvoiceNo': 536370, 'StockCode': '21731', 'Description': 'RED TOADSTOOL LED NIGHT LIGHT', 'Quantity': 24, 'InvoiceDate': '1/12/2018 08:45', 'UnitPrice': 1.65, 'CustomerID': 12583, 'Country': 'France'}, {'InvoiceNo': 536370, 'StockCode': '22900', 'Description': ' SET 2 TEA TOWELS I LOVE LONDON ', 'Quantity': 24, 'InvoiceDate': '1/12/2018 08:45', 'UnitPrice': 2.95, 'CustomerID': 12583, 'Country': 'France'}, {'InvoiceNo': 536370, 'StockCode': '21913', 'Description': 'VINTAGE SEASIDE JIGSAW PUZZLES', 'Quantity': 12, 'InvoiceDate': '1/12/2018 08:45', 'UnitPrice': 3.75, 'CustomerID': 12583, 'Country': 'France'}, {'InvoiceNo': 536370, 'StockCode': '22540', 'Description': 'MINI JIGSAW CIRCUS PARADE ', 'Quantity': 24, 'InvoiceDate': '1/12/2018 08:45', 'UnitPrice': 0.42, 'CustomerID': 12583, 'Country': 'France'}, {'InvoiceNo': 536370, 'StockCode': '22544', 'Description': 'MINI JIGSAW SPACEBOY', 'Quantity': 24, 'InvoiceDate': '1/12/2018 08:45', 'UnitPrice': 0.42, 'CustomerID': 12583, 'Country': 'France'}, {'InvoiceNo': 536370, 'StockCode': '22492', 'Description': 'MINI PAINT SET VINTAGE ', 'Quantity': 36, 'InvoiceDate': '1/12/2018 08:45', 'UnitPrice': 0.65, 'CustomerID': 12583, 'Country': 'France'}, {'InvoiceNo': 536370, 'StockCode': 'POST', 'Description': 'POSTAGE', 'Quantity': 3, 'InvoiceDate': '1/12/2018 08:45', 'UnitPrice': 18.0, 'CustomerID': 12583, 'Country': 'France'}, {'InvoiceNo': 536371, 'StockCode': '22086', 'Description': \"PAPER CHAIN KIT 50'S CHRISTMAS \", 'Quantity': 80, 'InvoiceDate': '1/12/2018 09:00', 'UnitPrice': 2.55, 'CustomerID': 13748, 'Country': 'United Kingdom'}, {'InvoiceNo': 536372, 'StockCode': '22632', 'Description': 'HAND WARMER RED POLKA DOT', 'Quantity': 6, 'InvoiceDate': '1/12/2018 09:01', 'UnitPrice': 1.85, 'CustomerID': 17850, 'Country': 'United Kingdom'}, {'InvoiceNo': 536372, 'StockCode': '22633', 'Description': 'HAND WARMER UNION JACK', 'Quantity': 6, 'InvoiceDate': '1/12/2018 09:01', 'UnitPrice': 1.85, 'CustomerID': 17850, 'Country': 'United Kingdom'}, {'InvoiceNo': 536373, 'StockCode': '85123A', 'Description': 'WHITE HANGING HEART T-LIGHT HOLDER', 'Quantity': 6, 'InvoiceDate': '1/12/2018 09:02', 'UnitPrice': 2.55, 'CustomerID': 17850, 'Country': 'United Kingdom'}, {'InvoiceNo': 536373, 'StockCode': '71053', 'Description': 'WHITE METAL LANTERN', 'Quantity': 6, 'InvoiceDate': '1/12/2018 09:02', 'UnitPrice': 3.39, 'CustomerID': 17850, 'Country': 'United Kingdom'}, {'InvoiceNo': 536373, 'StockCode': '84406B', 'Description': 'CREAM CUPID HEARTS COAT HANGER', 'Quantity': 8, 'InvoiceDate': '1/12/2018 09:02', 'UnitPrice': 2.75, 'CustomerID': 17850, 'Country': 'United Kingdom'}, {'InvoiceNo': 536373, 'StockCode': '20679', 'Description': 'EDWARDIAN PARASOL RED', 'Quantity': 6, 'InvoiceDate': '1/12/2018 09:02', 'UnitPrice': 4.95, 'CustomerID': 17850, 'Country': 'United Kingdom'}, {'InvoiceNo': 536373, 'StockCode': '37370', 'Description': 'RETRO COFFEE MUGS ASSORTED', 'Quantity': 6, 'InvoiceDate': '1/12/2018 09:02', 'UnitPrice': 1.06, 'CustomerID': 17850, 'Country': 'United Kingdom'}, {'InvoiceNo': 536373, 'StockCode': '21871', 'Description': 'SAVE THE PLANET MUG', 'Quantity': 6, 'InvoiceDate': '1/12/2018 09:02', 'UnitPrice': 1.06, 'CustomerID': 17850, 'Country': 'United Kingdom'}, {'InvoiceNo': 536373, 'StockCode': '21071', 'Description': 'VINTAGE BILLBOARD DRINK ME MUG', 'Quantity': 6, 'InvoiceDate': '1/12/2018 09:02', 'UnitPrice': 1.06, 'CustomerID': 17850, 'Country': 'United Kingdom'}, {'InvoiceNo': 536373, 'StockCode': '21068', 'Description': 'VINTAGE BILLBOARD LOVE/HATE MUG', 'Quantity': 6, 'InvoiceDate': '1/12/2018 09:02', 'UnitPrice': 1.06, 'CustomerID': 17850, 'Country': 'United Kingdom'}, {'InvoiceNo': 536373, 'StockCode': '82483', 'Description': 'WOOD 2 DRAWER CABINET WHITE FINISH', 'Quantity': 2, 'InvoiceDate': '1/12/2018 09:02', 'UnitPrice': 4.95, 'CustomerID': 17850, 'Country': 'United Kingdom'}, {'InvoiceNo': 536373, 'StockCode': '82486', 'Description': 'WOOD S/3 CABINET ANT WHITE FINISH', 'Quantity': 4, 'InvoiceDate': '1/12/2018 09:02', 'UnitPrice': 6.95, 'CustomerID': 17850, 'Country': 'United Kingdom'}, {'InvoiceNo': 536373, 'StockCode': '82482', 'Description': 'WOODEN PICTURE FRAME WHITE FINISH', 'Quantity': 6, 'InvoiceDate': '1/12/2018 09:02', 'UnitPrice': 2.1, 'CustomerID': 17850, 'Country': 'United Kingdom'}, {'InvoiceNo': 536373, 'StockCode': '82494L', 'Description': 'WOODEN FRAME ANTIQUE WHITE ', 'Quantity': 6, 'InvoiceDate': '1/12/2018 09:02', 'UnitPrice': 2.55, 'CustomerID': 17850, 'Country': 'United Kingdom'}, {'InvoiceNo': 536373, 'StockCode': '84029G', 'Description': 'KNITTED UNION FLAG HOT WATER BOTTLE', 'Quantity': 6, 'InvoiceDate': '1/12/2018 09:02', 'UnitPrice': 3.39, 'CustomerID': 17850, 'Country': 'United Kingdom'}, {'InvoiceNo': 536373, 'StockCode': '84029E', 'Description': 'RED WOOLLY HOTTIE WHITE HEART.', 'Quantity': 6, 'InvoiceDate': '1/12/2018 09:02', 'UnitPrice': 3.39, 'CustomerID': 17850, 'Country': 'United Kingdom'}, {'InvoiceNo': 536373, 'StockCode': '22752', 'Description': 'SET 7 BABUSHKA NESTING BOXES', 'Quantity': 2, 'InvoiceDate': '1/12/2018 09:02', 'UnitPrice': 7.65, 'CustomerID': 17850, 'Country': 'United Kingdom'}, {'InvoiceNo': 536373, 'StockCode': '21730', 'Description': 'GLASS STAR FROSTED T-LIGHT HOLDER', 'Quantity': 6, 'InvoiceDate': '1/12/2018 09:02', 'UnitPrice': 4.25, 'CustomerID': 17850, 'Country': 'United Kingdom'}, {'InvoiceNo': 536374, 'StockCode': '21258', 'Description': 'VICTORIAN SEWING BOX LARGE', 'Quantity': 32, 'InvoiceDate': '1/12/2018 09:09', 'UnitPrice': 10.95, 'CustomerID': 15100, 'Country': 'United Kingdom'}, {'InvoiceNo': 536375, 'StockCode': '85123A', 'Description': 'WHITE HANGING HEART T-LIGHT HOLDER', 'Quantity': 6, 'InvoiceDate': '1/12/2018 09:32', 'UnitPrice': 2.55, 'CustomerID': 17850, 'Country': 'United Kingdom'}, {'InvoiceNo': 536375, 'StockCode': '71053', 'Description': 'WHITE METAL LANTERN', 'Quantity': 6, 'InvoiceDate': '1/12/2018 09:32', 'UnitPrice': 3.39, 'CustomerID': 17850, 'Country': 'United Kingdom'}, {'InvoiceNo': 536375, 'StockCode': '84406B', 'Description': 'CREAM CUPID HEARTS COAT HANGER', 'Quantity': 8, 'InvoiceDate': '1/12/2018 09:32', 'UnitPrice': 2.75, 'CustomerID': 17850, 'Country': 'United Kingdom'}, {'InvoiceNo': 536375, 'StockCode': '20679', 'Description': 'EDWARDIAN PARASOL RED', 'Quantity': 6, 'InvoiceDate': '1/12/2018 09:32', 'UnitPrice': 4.95, 'CustomerID': 17850, 'Country': 'United Kingdom'}, {'InvoiceNo': 536375, 'StockCode': '37370', 'Description': 'RETRO COFFEE MUGS ASSORTED', 'Quantity': 6, 'InvoiceDate': '1/12/2018 09:32', 'UnitPrice': 1.06, 'CustomerID': 17850, 'Country': 'United Kingdom'}, {'InvoiceNo': 536375, 'StockCode': '21871', 'Description': 'SAVE THE PLANET MUG', 'Quantity': 6, 'InvoiceDate': '1/12/2018 09:32', 'UnitPrice': 1.06, 'CustomerID': 17850, 'Country': 'United Kingdom'}, {'InvoiceNo': 536375, 'StockCode': '21071', 'Description': 'VINTAGE BILLBOARD DRINK ME MUG', 'Quantity': 6, 'InvoiceDate': '1/12/2018 09:32', 'UnitPrice': 1.06, 'CustomerID': 17850, 'Country': 'United Kingdom'}, {'InvoiceNo': 536375, 'StockCode': '21068', 'Description': 'VINTAGE BILLBOARD LOVE/HATE MUG', 'Quantity': 6, 'InvoiceDate': '1/12/2018 09:32', 'UnitPrice': 1.06, 'CustomerID': 17850, 'Country': 'United Kingdom'}, {'InvoiceNo': 536375, 'StockCode': '82483', 'Description': 'WOOD 2 DRAWER CABINET WHITE FINISH', 'Quantity': 2, 'InvoiceDate': '1/12/2018 09:32', 'UnitPrice': 4.95, 'CustomerID': 17850, 'Country': 'United Kingdom'}, {'InvoiceNo': 536375, 'StockCode': '82486', 'Description': 'WOOD S/3 CABINET ANT WHITE FINISH', 'Quantity': 4, 'InvoiceDate': '1/12/2018 09:32', 'UnitPrice': 6.95, 'CustomerID': 17850, 'Country': 'United Kingdom'}, {'InvoiceNo': 536375, 'StockCode': '82482', 'Description': 'WOODEN PICTURE FRAME WHITE FINISH', 'Quantity': 6, 'InvoiceDate': '1/12/2018 09:32', 'UnitPrice': 2.1, 'CustomerID': 17850, 'Country': 'United Kingdom'}, {'InvoiceNo': 536375, 'StockCode': '82494L', 'Description': 'WOODEN FRAME ANTIQUE WHITE ', 'Quantity': 6, 'InvoiceDate': '1/12/2018 09:32', 'UnitPrice': 2.55, 'CustomerID': 17850, 'Country': 'United Kingdom'}, {'InvoiceNo': 536375, 'StockCode': '84029G', 'Description': 'KNITTED UNION FLAG HOT WATER BOTTLE', 'Quantity': 6, 'InvoiceDate': '1/12/2018 09:32', 'UnitPrice': 3.39, 'CustomerID': 17850, 'Country': 'United Kingdom'}, {'InvoiceNo': 536375, 'StockCode': '84029E', 'Description': 'RED WOOLLY HOTTIE WHITE HEART.', 'Quantity': 6, 'InvoiceDate': '1/12/2018 09:32', 'UnitPrice': 3.39, 'CustomerID': 17850, 'Country': 'United Kingdom'}, {'InvoiceNo': 536375, 'StockCode': '22752', 'Description': 'SET 7 BABUSHKA NESTING BOXES', 'Quantity': 2, 'InvoiceDate': '1/12/2018 09:32', 'UnitPrice': 7.65, 'CustomerID': 17850, 'Country': 'United Kingdom'}, {'InvoiceNo': 536375, 'StockCode': '21730', 'Description': 'GLASS STAR FROSTED T-LIGHT HOLDER', 'Quantity': 6, 'InvoiceDate': '1/12/2018 09:32', 'UnitPrice': 4.25, 'CustomerID': 17850, 'Country': 'United Kingdom'}, {'InvoiceNo': 536376, 'StockCode': '22114', 'Description': 'HOT WATER BOTTLE TEA AND SYMPATHY', 'Quantity': 48, 'InvoiceDate': '1/12/2018 09:32', 'UnitPrice': 3.45, 'CustomerID': 15291, 'Country': 'United Kingdom'}, {'InvoiceNo': 536376, 'StockCode': '21733', 'Description': 'RED HANGING HEART T-LIGHT HOLDER', 'Quantity': 64, 'InvoiceDate': '1/12/2018 09:32', 'UnitPrice': 2.55, 'CustomerID': 15291, 'Country': 'United Kingdom'}, {'InvoiceNo': 536377, 'StockCode': '22632', 'Description': 'HAND WARMER RED POLKA DOT', 'Quantity': 6, 'InvoiceDate': '1/12/2018 09:34', 'UnitPrice': 1.85, 'CustomerID': 17850, 'Country': 'United Kingdom'}, {'InvoiceNo': 536377, 'StockCode': '22633', 'Description': 'HAND WARMER UNION JACK', 'Quantity': 6, 'InvoiceDate': '1/12/2018 09:34', 'UnitPrice': 1.85, 'CustomerID': 17850, 'Country': 'United Kingdom'}, {'InvoiceNo': 536378, 'StockCode': '22386', 'Description': 'JUMBO BAG PINK POLKADOT', 'Quantity': 10, 'InvoiceDate': '1/12/2018 09:37', 'UnitPrice': 1.95, 'CustomerID': 14688, 'Country': 'United Kingdom'}, {'InvoiceNo': 536378, 'StockCode': '85099C', 'Description': 'JUMBO  BAG BAROQUE BLACK WHITE', 'Quantity': 10, 'InvoiceDate': '1/12/2018 09:37', 'UnitPrice': 1.95, 'CustomerID': 14688, 'Country': 'United Kingdom'}, {'InvoiceNo': 536378, 'StockCode': '21033', 'Description': 'JUMBO BAG CHARLIE AND LOLA TOYS', 'Quantity': 10, 'InvoiceDate': '1/12/2018 09:37', 'UnitPrice': 2.95, 'CustomerID': 14688, 'Country': 'United Kingdom'}, {'InvoiceNo': 536378, 'StockCode': '20723', 'Description': 'STRAWBERRY CHARLOTTE BAG', 'Quantity': 10, 'InvoiceDate': '1/12/2018 09:37', 'UnitPrice': 0.85, 'CustomerID': 14688, 'Country': 'United Kingdom'}, {'InvoiceNo': 536378, 'StockCode': '84997B', 'Description': 'RED 3 PIECE RETROSPOT CUTLERY SET', 'Quantity': 12, 'InvoiceDate': '1/12/2018 09:37', 'UnitPrice': 3.75, 'CustomerID': 14688, 'Country': 'United Kingdom'}, {'InvoiceNo': 536378, 'StockCode': '84997C', 'Description': 'BLUE 3 PIECE POLKADOT CUTLERY SET', 'Quantity': 6, 'InvoiceDate': '1/12/2018 09:37', 'UnitPrice': 3.75, 'CustomerID': 14688, 'Country': 'United Kingdom'}, {'InvoiceNo': 536378, 'StockCode': '21094', 'Description': 'SET/6 RED SPOTTY PAPER PLATES', 'Quantity': 12, 'InvoiceDate': '1/12/2018 09:37', 'UnitPrice': 0.85, 'CustomerID': 14688, 'Country': 'United Kingdom'}, {'InvoiceNo': 536378, 'StockCode': '20725', 'Description': 'LUNCH BAG RED RETROSPOT', 'Quantity': 10, 'InvoiceDate': '1/12/2018 09:37', 'UnitPrice': 1.65, 'CustomerID': 14688, 'Country': 'United Kingdom'}, {'InvoiceNo': 536378, 'StockCode': '21559', 'Description': 'STRAWBERRY LUNCH BOX WITH CUTLERY', 'Quantity': 6, 'InvoiceDate': '1/12/2018 09:37', 'UnitPrice': 2.55, 'CustomerID': 14688, 'Country': 'United Kingdom'}, {'InvoiceNo': 536378, 'StockCode': '22352', 'Description': 'LUNCH BOX WITH CUTLERY RETROSPOT ', 'Quantity': 6, 'InvoiceDate': '1/12/2018 09:37', 'UnitPrice': 2.55, 'CustomerID': 14688, 'Country': 'United Kingdom'}, {'InvoiceNo': 536378, 'StockCode': '21212', 'Description': 'PACK OF 72 RETROSPOT CAKE CASES', 'Quantity': 120, 'InvoiceDate': '1/12/2018 09:37', 'UnitPrice': 0.42, 'CustomerID': 14688, 'Country': 'United Kingdom'}, {'InvoiceNo': 536378, 'StockCode': '21975', 'Description': 'PACK OF 60 DINOSAUR CAKE CASES', 'Quantity': 24, 'InvoiceDate': '1/12/2018 09:37', 'UnitPrice': 0.55, 'CustomerID': 14688, 'Country': 'United Kingdom'}, {'InvoiceNo': 536378, 'StockCode': '21977', 'Description': 'PACK OF 60 PINK PAISLEY CAKE CASES', 'Quantity': 24, 'InvoiceDate': '1/12/2018 09:37', 'UnitPrice': 0.55, 'CustomerID': 14688, 'Country': 'United Kingdom'}, {'InvoiceNo': 536378, 'StockCode': '84991', 'Description': '60 TEATIME FAIRY CAKE CASES', 'Quantity': 24, 'InvoiceDate': '1/12/2018 09:37', 'UnitPrice': 0.55, 'CustomerID': 14688, 'Country': 'United Kingdom'}, {'InvoiceNo': 536378, 'StockCode': '84519A', 'Description': 'TOMATO CHARLIE+LOLA COASTER SET', 'Quantity': 6, 'InvoiceDate': '1/12/2018 09:37', 'UnitPrice': 2.95, 'CustomerID': 14688, 'Country': 'United Kingdom'}, {'InvoiceNo': 536378, 'StockCode': '85183B', 'Description': 'CHARLIE & LOLA WASTEPAPER BIN FLORA', 'Quantity': 48, 'InvoiceDate': '1/12/2018 09:37', 'UnitPrice': 1.25, 'CustomerID': 14688, 'Country': 'United Kingdom'}, {'InvoiceNo': 536378, 'StockCode': '85071B', 'Description': 'RED CHARLIE+LOLA PERSONAL DOORSIGN', 'Quantity': 96, 'InvoiceDate': '1/12/2018 09:37', 'UnitPrice': 0.38, 'CustomerID': 14688, 'Country': 'United Kingdom'}, {'InvoiceNo': 536378, 'StockCode': '21931', 'Description': 'JUMBO STORAGE BAG SUKI', 'Quantity': 10, 'InvoiceDate': '1/12/2018 09:37', 'UnitPrice': 1.95, 'CustomerID': 14688, 'Country': 'United Kingdom'}, {'InvoiceNo': 536378, 'StockCode': '21929', 'Description': 'JUMBO BAG PINK VINTAGE PAISLEY', 'Quantity': 10, 'InvoiceDate': '1/12/2018 09:37', 'UnitPrice': 1.95, 'CustomerID': 14688, 'Country': 'United Kingdom'}, {'InvoiceNo': 536380, 'StockCode': '22961', 'Description': 'JAM MAKING SET PRINTED', 'Quantity': 24, 'InvoiceDate': '1/12/2018 09:41', 'UnitPrice': 1.45, 'CustomerID': 17809, 'Country': 'United Kingdom'}, {'InvoiceNo': 536381, 'StockCode': '22139', 'Description': 'RETROSPOT TEA SET CERAMIC 11 PC ', 'Quantity': 23, 'InvoiceDate': '1/12/2018 09:41', 'UnitPrice': 4.25, 'CustomerID': 15311, 'Country': 'United Kingdom'}, {'InvoiceNo': 536381, 'StockCode': '84854', 'Description': 'GIRLY PINK TOOL SET', 'Quantity': 5, 'InvoiceDate': '1/12/2018 09:41', 'UnitPrice': 4.95, 'CustomerID': 15311, 'Country': 'United Kingdom'}, {'InvoiceNo': 536381, 'StockCode': '22411', 'Description': 'JUMBO SHOPPER VINTAGE RED PAISLEY', 'Quantity': 10, 'InvoiceDate': '1/12/2018 09:41', 'UnitPrice': 1.95, 'CustomerID': 15311, 'Country': 'United Kingdom'}, {'InvoiceNo': 536381, 'StockCode': '82567', 'Description': 'AIRLINE LOUNGE,METAL SIGN', 'Quantity': 2, 'InvoiceDate': '1/12/2018 09:41', 'UnitPrice': 2.1, 'CustomerID': 15311, 'Country': 'United Kingdom'}, {'InvoiceNo': 536381, 'StockCode': '21672', 'Description': 'WHITE SPOT RED CERAMIC DRAWER KNOB', 'Quantity': 6, 'InvoiceDate': '1/12/2018 09:41', 'UnitPrice': 1.25, 'CustomerID': 15311, 'Country': 'United Kingdom'}, {'InvoiceNo': 536381, 'StockCode': '22774', 'Description': 'RED DRAWER KNOB ACRYLIC EDWARDIAN', 'Quantity': 24, 'InvoiceDate': '1/12/2018 09:41', 'UnitPrice': 1.25, 'CustomerID': 15311, 'Country': 'United Kingdom'}, {'InvoiceNo': 536381, 'StockCode': '22771', 'Description': 'CLEAR DRAWER KNOB ACRYLIC EDWARDIAN', 'Quantity': 24, 'InvoiceDate': '1/12/2018 09:41', 'UnitPrice': 1.25, 'CustomerID': 15311, 'Country': 'United Kingdom'}, {'InvoiceNo': 536381, 'StockCode': '71270', 'Description': 'PHOTO CLIP LINE', 'Quantity': 1, 'InvoiceDate': '1/12/2018 09:41', 'UnitPrice': 1.25, 'CustomerID': 15311, 'Country': 'United Kingdom'}, {'InvoiceNo': 536381, 'StockCode': '22262', 'Description': 'FELT EGG COSY CHICKEN', 'Quantity': 1, 'InvoiceDate': '1/12/2018 09:41', 'UnitPrice': 0.85, 'CustomerID': 15311, 'Country': 'United Kingdom'}, {'InvoiceNo': 536381, 'StockCode': '22637', 'Description': 'PIGGY BANK RETROSPOT ', 'Quantity': 1, 'InvoiceDate': '1/12/2018 09:41', 'UnitPrice': 2.55, 'CustomerID': 15311, 'Country': 'United Kingdom'}, {'InvoiceNo': 536381, 'StockCode': '21934', 'Description': 'SKULL SHOULDER BAG', 'Quantity': 10, 'InvoiceDate': '1/12/2018 09:41', 'UnitPrice': 1.65, 'CustomerID': 15311, 'Country': 'United Kingdom'}, {'InvoiceNo': 536381, 'StockCode': '21169', 'Description': \"YOU'RE CONFUSING ME METAL SIGN \", 'Quantity': 3, 'InvoiceDate': '1/12/2018 09:41', 'UnitPrice': 1.69, 'CustomerID': 15311, 'Country': 'United Kingdom'}, {'InvoiceNo': 536381, 'StockCode': '21166', 'Description': 'COOK WITH WINE METAL SIGN ', 'Quantity': 1, 'InvoiceDate': '1/12/2018 09:41', 'UnitPrice': 1.95, 'CustomerID': 15311, 'Country': 'United Kingdom'}, {'InvoiceNo': 536381, 'StockCode': '21175', 'Description': 'GIN + TONIC DIET METAL SIGN', 'Quantity': 2, 'InvoiceDate': '1/12/2018 09:41', 'UnitPrice': 2.1, 'CustomerID': 15311, 'Country': 'United Kingdom'}, {'InvoiceNo': 536381, 'StockCode': '37444A', 'Description': 'YELLOW BREAKFAST CUP AND SAUCER', 'Quantity': 1, 'InvoiceDate': '1/12/2018 09:41', 'UnitPrice': 2.95, 'CustomerID': 15311, 'Country': 'United Kingdom'}, {'InvoiceNo': 536381, 'StockCode': '37444C', 'Description': 'PINK BREAKFAST CUP AND SAUCER ', 'Quantity': 1, 'InvoiceDate': '1/12/2018 09:41', 'UnitPrice': 2.95, 'CustomerID': 15311, 'Country': 'United Kingdom'}, {'InvoiceNo': 536381, 'StockCode': '22086', 'Description': \"PAPER CHAIN KIT 50'S CHRISTMAS \", 'Quantity': 4, 'InvoiceDate': '1/12/2018 09:41', 'UnitPrice': 2.95, 'CustomerID': 15311, 'Country': 'United Kingdom'}, {'InvoiceNo': 536381, 'StockCode': '22083', 'Description': 'PAPER CHAIN KIT RETROSPOT', 'Quantity': 1, 'InvoiceDate': '1/12/2018 09:41', 'UnitPrice': 2.95, 'CustomerID': 15311, 'Country': 'United Kingdom'}, {'InvoiceNo': 536381, 'StockCode': '84971S', 'Description': 'SMALL HEART FLOWERS HOOK ', 'Quantity': 6, 'InvoiceDate': '1/12/2018 09:41', 'UnitPrice': 0.85, 'CustomerID': 15311, 'Country': 'United Kingdom'}, {'InvoiceNo': 536381, 'StockCode': '71270', 'Description': 'PHOTO CLIP LINE', 'Quantity': 3, 'InvoiceDate': '1/12/2018 09:41', 'UnitPrice': 1.25, 'CustomerID': 15311, 'Country': 'United Kingdom'}, {'InvoiceNo': 536381, 'StockCode': '47580', 'Description': 'TEA TIME DES TEA COSY', 'Quantity': 2, 'InvoiceDate': '1/12/2018 09:41', 'UnitPrice': 2.55, 'CustomerID': 15311, 'Country': 'United Kingdom'}, {'InvoiceNo': 536381, 'StockCode': '22261', 'Description': 'FELT EGG COSY WHITE RABBIT ', 'Quantity': 1, 'InvoiceDate': '1/12/2018 09:41', 'UnitPrice': 0.85, 'CustomerID': 15311, 'Country': 'United Kingdom'}, {'InvoiceNo': 536381, 'StockCode': '84832', 'Description': 'ZINC WILLIE WINKIE  CANDLE STICK', 'Quantity': 1, 'InvoiceDate': '1/12/2018 09:41', 'UnitPrice': 0.85, 'CustomerID': 15311, 'Country': 'United Kingdom'}, {'InvoiceNo': 536381, 'StockCode': '22644', 'Description': 'CERAMIC CHERRY CAKE MONEY BANK', 'Quantity': 1, 'InvoiceDate': '1/12/2018 09:41', 'UnitPrice': 1.45, 'CustomerID': 15311, 'Country': 'United Kingdom'}, {'InvoiceNo': 536381, 'StockCode': '21533', 'Description': 'RETROSPOT LARGE MILK JUG', 'Quantity': 1, 'InvoiceDate': '1/12/2018 09:41', 'UnitPrice': 4.95, 'CustomerID': 15311, 'Country': 'United Kingdom'}, {'InvoiceNo': 536381, 'StockCode': '21557', 'Description': 'SET OF 6 FUNKY BEAKERS', 'Quantity': 2, 'InvoiceDate': '1/12/2018 09:41', 'UnitPrice': 2.95, 'CustomerID': 15311, 'Country': 'United Kingdom'}, {'InvoiceNo': 536381, 'StockCode': '15056BL', 'Description': 'EDWARDIAN PARASOL BLACK', 'Quantity': 2, 'InvoiceDate': '1/12/2018 09:41', 'UnitPrice': 5.95, 'CustomerID': 15311, 'Country': 'United Kingdom'}, {'InvoiceNo': 536381, 'StockCode': '15056N', 'Description': 'EDWARDIAN PARASOL NATURAL', 'Quantity': 2, 'InvoiceDate': '1/12/2018 09:41', 'UnitPrice': 5.95, 'CustomerID': 15311, 'Country': 'United Kingdom'}, {'InvoiceNo': 536381, 'StockCode': '22646', 'Description': 'CERAMIC STRAWBERRY CAKE MONEY BANK', 'Quantity': 4, 'InvoiceDate': '1/12/2018 09:41', 'UnitPrice': 1.45, 'CustomerID': 15311, 'Country': 'United Kingdom'}, {'InvoiceNo': 536381, 'StockCode': '22176', 'Description': 'BLUE OWL SOFT TOY', 'Quantity': 1, 'InvoiceDate': '1/12/2018 09:41', 'UnitPrice': 2.95, 'CustomerID': 15311, 'Country': 'United Kingdom'}, {'InvoiceNo': 536381, 'StockCode': '22438', 'Description': 'BALLOON ART MAKE YOUR OWN FLOWERS', 'Quantity': 1, 'InvoiceDate': '1/12/2018 09:41', 'UnitPrice': 1.95, 'CustomerID': 15311, 'Country': 'United Kingdom'}, {'InvoiceNo': 536381, 'StockCode': '21731', 'Description': 'RED TOADSTOOL LED NIGHT LIGHT', 'Quantity': 2, 'InvoiceDate': '1/12/2018 09:41', 'UnitPrice': 1.65, 'CustomerID': 15311, 'Country': 'United Kingdom'}, {'InvoiceNo': 536381, 'StockCode': '22778', 'Description': 'GLASS CLOCHE SMALL', 'Quantity': 3, 'InvoiceDate': '1/12/2018 09:41', 'UnitPrice': 3.95, 'CustomerID': 15311, 'Country': 'United Kingdom'}, {'InvoiceNo': 536381, 'StockCode': '22719', 'Description': 'GUMBALL MONOCHROME COAT RACK', 'Quantity': 36, 'InvoiceDate': '1/12/2018 09:41', 'UnitPrice': 1.06, 'CustomerID': 15311, 'Country': 'United Kingdom'}, {'InvoiceNo': 536381, 'StockCode': '21523', 'Description': 'DOORMAT FANCY FONT HOME SWEET HOME', 'Quantity': 10, 'InvoiceDate': '1/12/2018 09:41', 'UnitPrice': 6.75, 'CustomerID': 15311, 'Country': 'United Kingdom'}, {'InvoiceNo': 536382, 'StockCode': '10002', 'Description': 'INFLATABLE POLITICAL GLOBE ', 'Quantity': 12, 'InvoiceDate': '1/12/2018 09:45', 'UnitPrice': 0.85, 'CustomerID': 16098, 'Country': 'United Kingdom'}, {'InvoiceNo': 536382, 'StockCode': '21912', 'Description': 'VINTAGE SNAKES & LADDERS', 'Quantity': 8, 'InvoiceDate': '1/12/2018 09:45', 'UnitPrice': 3.75, 'CustomerID': 16098, 'Country': 'United Kingdom'}, {'InvoiceNo': 536382, 'StockCode': '21832', 'Description': 'CHOCOLATE CALCULATOR', 'Quantity': 12, 'InvoiceDate': '1/12/2018 09:45', 'UnitPrice': 1.65, 'CustomerID': 16098, 'Country': 'United Kingdom'}, {'InvoiceNo': 536382, 'StockCode': '22411', 'Description': 'JUMBO SHOPPER VINTAGE RED PAISLEY', 'Quantity': 10, 'InvoiceDate': '1/12/2018 09:45', 'UnitPrice': 1.95, 'CustomerID': 16098, 'Country': 'United Kingdom'}, {'InvoiceNo': 536382, 'StockCode': '22379', 'Description': 'RECYCLING BAG RETROSPOT ', 'Quantity': 10, 'InvoiceDate': '1/12/2018 09:45', 'UnitPrice': 2.1, 'CustomerID': 16098, 'Country': 'United Kingdom'}, {'InvoiceNo': 536382, 'StockCode': '22381', 'Description': 'TOY TIDY PINK POLKADOT', 'Quantity': 50, 'InvoiceDate': '1/12/2018 09:45', 'UnitPrice': 1.85, 'CustomerID': 16098, 'Country': 'United Kingdom'}, {'InvoiceNo': 536382, 'StockCode': '22798', 'Description': 'ANTIQUE GLASS DRESSING TABLE POT', 'Quantity': 8, 'InvoiceDate': '1/12/2018 09:45', 'UnitPrice': 2.95, 'CustomerID': 16098, 'Country': 'United Kingdom'}, {'InvoiceNo': 536382, 'StockCode': '22726', 'Description': 'ALARM CLOCK BAKELIKE GREEN', 'Quantity': 4, 'InvoiceDate': '1/12/2018 09:45', 'UnitPrice': 3.75, 'CustomerID': 16098, 'Country': 'United Kingdom'}, {'InvoiceNo': 536382, 'StockCode': '22926', 'Description': 'IVORY GIANT GARDEN THERMOMETER', 'Quantity': 12, 'InvoiceDate': '1/12/2018 09:45', 'UnitPrice': 5.95, 'CustomerID': 16098, 'Country': 'United Kingdom'}, {'InvoiceNo': 536382, 'StockCode': '22839', 'Description': '3 TIER CAKE TIN GREEN AND CREAM', 'Quantity': 2, 'InvoiceDate': '1/12/2018 09:45', 'UnitPrice': 14.95, 'CustomerID': 16098, 'Country': 'United Kingdom'}, {'InvoiceNo': 536382, 'StockCode': '22838', 'Description': '3 TIER CAKE TIN RED AND CREAM', 'Quantity': 2, 'InvoiceDate': '1/12/2018 09:45', 'UnitPrice': 14.95, 'CustomerID': 16098, 'Country': 'United Kingdom'}, {'InvoiceNo': 536382, 'StockCode': '22783', 'Description': 'SET 3 WICKER OVAL BASKETS W LIDS', 'Quantity': 4, 'InvoiceDate': '1/12/2018 09:45', 'UnitPrice': 16.95, 'CustomerID': 16098, 'Country': 'United Kingdom'}, {'InvoiceNo': 536384, 'StockCode': '82484', 'Description': 'WOOD BLACK BOARD ANT WHITE FINISH', 'Quantity': 3, 'InvoiceDate': '1/12/2018 09:53', 'UnitPrice': 6.45, 'CustomerID': 18074, 'Country': 'United Kingdom'}, {'InvoiceNo': 536384, 'StockCode': '84755', 'Description': 'COLOUR GLASS T-LIGHT HOLDER HANGING', 'Quantity': 48, 'InvoiceDate': '1/12/2018 09:53', 'UnitPrice': 0.65, 'CustomerID': 18074, 'Country': 'United Kingdom'}, {'InvoiceNo': 536384, 'StockCode': '22464', 'Description': 'HANGING METAL HEART LANTERN', 'Quantity': 12, 'InvoiceDate': '1/12/2018 09:53', 'UnitPrice': 1.65, 'CustomerID': 18074, 'Country': 'United Kingdom'}, {'InvoiceNo': 536384, 'StockCode': '21324', 'Description': 'HANGING MEDINA LANTERN SMALL', 'Quantity': 6, 'InvoiceDate': '1/12/2018 09:53', 'UnitPrice': 2.95, 'CustomerID': 18074, 'Country': 'United Kingdom'}, {'InvoiceNo': 536384, 'StockCode': '22457', 'Description': 'NATURAL SLATE HEART CHALKBOARD ', 'Quantity': 12, 'InvoiceDate': '1/12/2018 09:53', 'UnitPrice': 2.95, 'CustomerID': 18074, 'Country': 'United Kingdom'}, {'InvoiceNo': 536384, 'StockCode': '22469', 'Description': 'HEART OF WICKER SMALL', 'Quantity': 40, 'InvoiceDate': '1/12/2018 09:53', 'UnitPrice': 1.45, 'CustomerID': 18074, 'Country': 'United Kingdom'}, {'InvoiceNo': 536384, 'StockCode': '22470', 'Description': 'HEART OF WICKER LARGE', 'Quantity': 40, 'InvoiceDate': '1/12/2018 09:53', 'UnitPrice': 2.55, 'CustomerID': 18074, 'Country': 'United Kingdom'}, {'InvoiceNo': 536384, 'StockCode': '22224', 'Description': 'WHITE LOVEBIRD LANTERN', 'Quantity': 6, 'InvoiceDate': '1/12/2018 09:53', 'UnitPrice': 2.95, 'CustomerID': 18074, 'Country': 'United Kingdom'}, {'InvoiceNo': 536384, 'StockCode': '21340', 'Description': 'CLASSIC METAL BIRDCAGE PLANT HOLDER', 'Quantity': 2, 'InvoiceDate': '1/12/2018 09:53', 'UnitPrice': 12.75, 'CustomerID': 18074, 'Country': 'United Kingdom'}, {'InvoiceNo': 536384, 'StockCode': '22189', 'Description': 'CREAM HEART CARD HOLDER', 'Quantity': 4, 'InvoiceDate': '1/12/2018 09:53', 'UnitPrice': 3.95, 'CustomerID': 18074, 'Country': 'United Kingdom'}, {'InvoiceNo': 536384, 'StockCode': '22427', 'Description': 'ENAMEL FLOWER JUG CREAM', 'Quantity': 3, 'InvoiceDate': '1/12/2018 09:53', 'UnitPrice': 5.95, 'CustomerID': 18074, 'Country': 'United Kingdom'}, {'InvoiceNo': 536384, 'StockCode': '22428', 'Description': 'ENAMEL FIRE BUCKET CREAM', 'Quantity': 6, 'InvoiceDate': '1/12/2018 09:53', 'UnitPrice': 6.95, 'CustomerID': 18074, 'Country': 'United Kingdom'}, {'InvoiceNo': 536384, 'StockCode': '22424', 'Description': 'ENAMEL BREAD BIN CREAM', 'Quantity': 8, 'InvoiceDate': '1/12/2018 09:53', 'UnitPrice': 10.95, 'CustomerID': 18074, 'Country': 'United Kingdom'}, {'InvoiceNo': 536385, 'StockCode': '22783', 'Description': 'SET 3 WICKER OVAL BASKETS W LIDS', 'Quantity': 1, 'InvoiceDate': '1/12/2018 09:56', 'UnitPrice': 19.95, 'CustomerID': 17420, 'Country': 'United Kingdom'}, {'InvoiceNo': 536385, 'StockCode': '22961', 'Description': 'JAM MAKING SET PRINTED', 'Quantity': 12, 'InvoiceDate': '1/12/2018 09:56', 'UnitPrice': 1.45, 'CustomerID': 17420, 'Country': 'United Kingdom'}, {'InvoiceNo': 536385, 'StockCode': '22960', 'Description': 'JAM MAKING SET WITH JARS', 'Quantity': 6, 'InvoiceDate': '1/12/2018 09:56', 'UnitPrice': 4.25, 'CustomerID': 17420, 'Country': 'United Kingdom'}, {'InvoiceNo': 536385, 'StockCode': '22663', 'Description': 'JUMBO BAG DOLLY GIRL DESIGN', 'Quantity': 10, 'InvoiceDate': '1/12/2018 09:56', 'UnitPrice': 1.95, 'CustomerID': 17420, 'Country': 'United Kingdom'}, {'InvoiceNo': 536385, 'StockCode': '85049A', 'Description': 'TRADITIONAL CHRISTMAS RIBBONS', 'Quantity': 12, 'InvoiceDate': '1/12/2018 09:56', 'UnitPrice': 1.25, 'CustomerID': 17420, 'Country': 'United Kingdom'}, {'InvoiceNo': 536385, 'StockCode': '22168', 'Description': 'ORGANISER WOOD ANTIQUE WHITE ', 'Quantity': 2, 'InvoiceDate': '1/12/2018 09:56', 'UnitPrice': 8.5, 'CustomerID': 17420, 'Country': 'United Kingdom'}, {'InvoiceNo': 536385, 'StockCode': '22662', 'Description': 'LUNCH BAG DOLLY GIRL DESIGN', 'Quantity': 10, 'InvoiceDate': '1/12/2018 09:56', 'UnitPrice': 1.65, 'CustomerID': 17420, 'Country': 'United Kingdom'}, {'InvoiceNo': 536386, 'StockCode': '84880', 'Description': 'WHITE WIRE EGG HOLDER', 'Quantity': 36, 'InvoiceDate': '1/12/2018 09:57', 'UnitPrice': 4.95, 'CustomerID': 16029, 'Country': 'United Kingdom'}, {'InvoiceNo': 536386, 'StockCode': '85099C', 'Description': 'JUMBO  BAG BAROQUE BLACK WHITE', 'Quantity': 100, 'InvoiceDate': '1/12/2018 09:57', 'UnitPrice': 1.65, 'CustomerID': 16029, 'Country': 'United Kingdom'}, {'InvoiceNo': 536386, 'StockCode': '85099B', 'Description': 'JUMBO BAG RED RETROSPOT', 'Quantity': 100, 'InvoiceDate': '1/12/2018 09:57', 'UnitPrice': 1.65, 'CustomerID': 16029, 'Country': 'United Kingdom'}, {'InvoiceNo': 536387, 'StockCode': '79321', 'Description': 'CHILLI LIGHTS', 'Quantity': 192, 'InvoiceDate': '1/12/2018 09:58', 'UnitPrice': 3.82, 'CustomerID': 16029, 'Country': 'United Kingdom'}, {'InvoiceNo': 536387, 'StockCode': '22780', 'Description': 'LIGHT GARLAND BUTTERFILES PINK', 'Quantity': 192, 'InvoiceDate': '1/12/2018 09:58', 'UnitPrice': 3.37, 'CustomerID': 16029, 'Country': 'United Kingdom'}, {'InvoiceNo': 536387, 'StockCode': '22779', 'Description': 'WOODEN OWLS LIGHT GARLAND ', 'Quantity': 192, 'InvoiceDate': '1/12/2018 09:58', 'UnitPrice': 3.37, 'CustomerID': 16029, 'Country': 'United Kingdom'}, {'InvoiceNo': 536387, 'StockCode': '22466', 'Description': 'FAIRY TALE COTTAGE NIGHTLIGHT', 'Quantity': 432, 'InvoiceDate': '1/12/2018 09:58', 'UnitPrice': 1.45, 'CustomerID': 16029, 'Country': 'United Kingdom'}, {'InvoiceNo': 536387, 'StockCode': '21731', 'Description': 'RED TOADSTOOL LED NIGHT LIGHT', 'Quantity': 432, 'InvoiceDate': '1/12/2018 09:58', 'UnitPrice': 1.25, 'CustomerID': 16029, 'Country': 'United Kingdom'}, {'InvoiceNo': 536388, 'StockCode': '21754', 'Description': 'HOME BUILDING BLOCK WORD', 'Quantity': 3, 'InvoiceDate': '1/12/2018 09:59', 'UnitPrice': 5.95, 'CustomerID': 16250, 'Country': 'United Kingdom'}, {'InvoiceNo': 536388, 'StockCode': '21755', 'Description': 'LOVE BUILDING BLOCK WORD', 'Quantity': 3, 'InvoiceDate': '1/12/2018 09:59', 'UnitPrice': 5.95, 'CustomerID': 16250, 'Country': 'United Kingdom'}, {'InvoiceNo': 536388, 'StockCode': '21523', 'Description': 'DOORMAT FANCY FONT HOME SWEET HOME', 'Quantity': 2, 'InvoiceDate': '1/12/2018 09:59', 'UnitPrice': 7.95, 'CustomerID': 16250, 'Country': 'United Kingdom'}, {'InvoiceNo': 536388, 'StockCode': '21363', 'Description': 'HOME SMALL WOOD LETTERS', 'Quantity': 3, 'InvoiceDate': '1/12/2018 09:59', 'UnitPrice': 4.95, 'CustomerID': 16250, 'Country': 'United Kingdom'}, {'InvoiceNo': 536388, 'StockCode': '21411', 'Description': 'GINGHAM HEART  DOORSTOP RED', 'Quantity': 3, 'InvoiceDate': '1/12/2018 09:59', 'UnitPrice': 4.25, 'CustomerID': 16250, 'Country': 'United Kingdom'}, {'InvoiceNo': 536388, 'StockCode': '22318', 'Description': 'FIVE HEART HANGING DECORATION', 'Quantity': 6, 'InvoiceDate': '1/12/2018 09:59', 'UnitPrice': 2.95, 'CustomerID': 16250, 'Country': 'United Kingdom'}, {'InvoiceNo': 536388, 'StockCode': '22464', 'Description': 'HANGING METAL HEART LANTERN', 'Quantity': 12, 'InvoiceDate': '1/12/2018 09:59', 'UnitPrice': 1.65, 'CustomerID': 16250, 'Country': 'United Kingdom'}, {'InvoiceNo': 536388, 'StockCode': '22915', 'Description': 'ASSORTED BOTTLE TOP  MAGNETS ', 'Quantity': 12, 'InvoiceDate': '1/12/2018 09:59', 'UnitPrice': 0.42, 'CustomerID': 16250, 'Country': 'United Kingdom'}, {'InvoiceNo': 536388, 'StockCode': '22922', 'Description': 'FRIDGE MAGNETS US DINER ASSORTED', 'Quantity': 12, 'InvoiceDate': '1/12/2018 09:59', 'UnitPrice': 0.85, 'CustomerID': 16250, 'Country': 'United Kingdom'}, {'InvoiceNo': 536388, 'StockCode': '22969', 'Description': 'HOMEMADE JAM SCENTED CANDLES', 'Quantity': 12, 'InvoiceDate': '1/12/2018 09:59', 'UnitPrice': 1.45, 'CustomerID': 16250, 'Country': 'United Kingdom'}, {'InvoiceNo': 536388, 'StockCode': '22923', 'Description': 'FRIDGE MAGNETS LES ENFANTS ASSORTED', 'Quantity': 12, 'InvoiceDate': '1/12/2018 09:59', 'UnitPrice': 0.85, 'CustomerID': 16250, 'Country': 'United Kingdom'}, {'InvoiceNo': 536388, 'StockCode': '21115', 'Description': 'ROSE CARAVAN DOORSTOP', 'Quantity': 4, 'InvoiceDate': '1/12/2018 09:59', 'UnitPrice': 6.75, 'CustomerID': 16250, 'Country': 'United Kingdom'}, {'InvoiceNo': 536388, 'StockCode': '22469', 'Description': 'HEART OF WICKER SMALL', 'Quantity': 12, 'InvoiceDate': '1/12/2018 09:59', 'UnitPrice': 1.65, 'CustomerID': 16250, 'Country': 'United Kingdom'}, {'InvoiceNo': 536388, 'StockCode': '22242', 'Description': '5 HOOK HANGER MAGIC TOADSTOOL', 'Quantity': 12, 'InvoiceDate': '1/12/2018 09:59', 'UnitPrice': 1.65, 'CustomerID': 16250, 'Country': 'United Kingdom'}, {'InvoiceNo': 536389, 'StockCode': '22941', 'Description': 'CHRISTMAS LIGHTS 10 REINDEER', 'Quantity': 6, 'InvoiceDate': '1/12/2018 10:03', 'UnitPrice': 8.5, 'CustomerID': 12431, 'Country': 'Australia'}, {'InvoiceNo': 536389, 'StockCode': '21622', 'Description': 'VINTAGE UNION JACK CUSHION COVER', 'Quantity': 8, 'InvoiceDate': '1/12/2018 10:03', 'UnitPrice': 4.95, 'CustomerID': 12431, 'Country': 'Australia'}, {'InvoiceNo': 536389, 'StockCode': '21791', 'Description': 'VINTAGE HEADS AND TAILS CARD GAME ', 'Quantity': 12, 'InvoiceDate': '1/12/2018 10:03', 'UnitPrice': 1.25, 'CustomerID': 12431, 'Country': 'Australia'}, {'InvoiceNo': 536389, 'StockCode': '35004C', 'Description': 'SET OF 3 COLOURED  FLYING DUCKS', 'Quantity': 6, 'InvoiceDate': '1/12/2018 10:03', 'UnitPrice': 5.45, 'CustomerID': 12431, 'Country': 'Australia'}, {'InvoiceNo': 536389, 'StockCode': '35004G', 'Description': 'SET OF 3 GOLD FLYING DUCKS', 'Quantity': 4, 'InvoiceDate': '1/12/2018 10:03', 'UnitPrice': 6.35, 'CustomerID': 12431, 'Country': 'Australia'}, {'InvoiceNo': 536389, 'StockCode': '85014B', 'Description': 'RED RETROSPOT UMBRELLA', 'Quantity': 6, 'InvoiceDate': '1/12/2018 10:03', 'UnitPrice': 5.95, 'CustomerID': 12431, 'Country': 'Australia'}, {'InvoiceNo': 536389, 'StockCode': '85014A', 'Description': 'BLACK/BLUE POLKADOT UMBRELLA', 'Quantity': 3, 'InvoiceDate': '1/12/2018 10:03', 'UnitPrice': 5.95, 'CustomerID': 12431, 'Country': 'Australia'}, {'InvoiceNo': 536389, 'StockCode': '22193', 'Description': 'RED DINER WALL CLOCK', 'Quantity': 2, 'InvoiceDate': '1/12/2018 10:03', 'UnitPrice': 8.5, 'CustomerID': 12431, 'Country': 'Australia'}, {'InvoiceNo': 536389, 'StockCode': '22726', 'Description': 'ALARM CLOCK BAKELIKE GREEN', 'Quantity': 4, 'InvoiceDate': '1/12/2018 10:03', 'UnitPrice': 3.75, 'CustomerID': 12431, 'Country': 'Australia'}, {'InvoiceNo': 536389, 'StockCode': '22727', 'Description': 'ALARM CLOCK BAKELIKE RED ', 'Quantity': 4, 'InvoiceDate': '1/12/2018 10:03', 'UnitPrice': 3.75, 'CustomerID': 12431, 'Country': 'Australia'}, {'InvoiceNo': 536389, 'StockCode': '22192', 'Description': 'BLUE DINER WALL CLOCK', 'Quantity': 2, 'InvoiceDate': '1/12/2018 10:03', 'UnitPrice': 8.5, 'CustomerID': 12431, 'Country': 'Australia'}, {'InvoiceNo': 536389, 'StockCode': '22191', 'Description': 'IVORY DINER WALL CLOCK', 'Quantity': 2, 'InvoiceDate': '1/12/2018 10:03', 'UnitPrice': 8.5, 'CustomerID': 12431, 'Country': 'Australia'}, {'InvoiceNo': 536389, 'StockCode': '22195', 'Description': 'LARGE HEART MEASURING SPOONS', 'Quantity': 24, 'InvoiceDate': '1/12/2018 10:03', 'UnitPrice': 1.65, 'CustomerID': 12431, 'Country': 'Australia'}, {'InvoiceNo': 536389, 'StockCode': '22196', 'Description': 'SMALL HEART MEASURING SPOONS', 'Quantity': 24, 'InvoiceDate': '1/12/2018 10:03', 'UnitPrice': 0.85, 'CustomerID': 12431, 'Country': 'Australia'}, {'InvoiceNo': 536390, 'StockCode': '22941', 'Description': 'CHRISTMAS LIGHTS 10 REINDEER', 'Quantity': 2, 'InvoiceDate': '1/12/2018 10:19', 'UnitPrice': 8.5, 'CustomerID': 17511, 'Country': 'United Kingdom'}, {'InvoiceNo': 536390, 'StockCode': '22960', 'Description': 'JAM MAKING SET WITH JARS', 'Quantity': 12, 'InvoiceDate': '1/12/2018 10:19', 'UnitPrice': 3.75, 'CustomerID': 17511, 'Country': 'United Kingdom'}, {'InvoiceNo': 536390, 'StockCode': '22961', 'Description': 'JAM MAKING SET PRINTED', 'Quantity': 12, 'InvoiceDate': '1/12/2018 10:19', 'UnitPrice': 1.45, 'CustomerID': 17511, 'Country': 'United Kingdom'}, {'InvoiceNo': 536390, 'StockCode': '22962', 'Description': 'JAM JAR WITH PINK LID', 'Quantity': 48, 'InvoiceDate': '1/12/2018 10:19', 'UnitPrice': 0.72, 'CustomerID': 17511, 'Country': 'United Kingdom'}, {'InvoiceNo': 536390, 'StockCode': '22963', 'Description': 'JAM JAR WITH GREEN LID', 'Quantity': 48, 'InvoiceDate': '1/12/2018 10:19', 'UnitPrice': 0.72, 'CustomerID': 17511, 'Country': 'United Kingdom'}, {'InvoiceNo': 536390, 'StockCode': '22968', 'Description': 'ROSE COTTAGE KEEPSAKE BOX ', 'Quantity': 8, 'InvoiceDate': '1/12/2018 10:19', 'UnitPrice': 8.5, 'CustomerID': 17511, 'Country': 'United Kingdom'}, {'InvoiceNo': 536390, 'StockCode': '84970S', 'Description': 'HANGING HEART ZINC T-LIGHT HOLDER', 'Quantity': 144, 'InvoiceDate': '1/12/2018 10:19', 'UnitPrice': 0.64, 'CustomerID': 17511, 'Country': 'United Kingdom'}, {'InvoiceNo': 536390, 'StockCode': '22910', 'Description': 'PAPER CHAIN KIT VINTAGE CHRISTMAS', 'Quantity': 40, 'InvoiceDate': '1/12/2018 10:19', 'UnitPrice': 2.55, 'CustomerID': 17511, 'Country': 'United Kingdom'}, {'InvoiceNo': 536390, 'StockCode': '20668', 'Description': 'DISCO BALL CHRISTMAS DECORATION', 'Quantity': 288, 'InvoiceDate': '1/12/2018 10:19', 'UnitPrice': 0.1, 'CustomerID': 17511, 'Country': 'United Kingdom'}, {'InvoiceNo': 536390, 'StockCode': '85123A', 'Description': 'WHITE HANGING HEART T-LIGHT HOLDER', 'Quantity': 64, 'InvoiceDate': '1/12/2018 10:19', 'UnitPrice': 2.55, 'CustomerID': 17511, 'Country': 'United Kingdom'}, {'InvoiceNo': 536390, 'StockCode': '22197', 'Description': 'SMALL POPCORN HOLDER', 'Quantity': 100, 'InvoiceDate': '1/12/2018 10:19', 'UnitPrice': 0.72, 'CustomerID': 17511, 'Country': 'United Kingdom'}, {'InvoiceNo': 536390, 'StockCode': '22198', 'Description': 'LARGE POPCORN HOLDER ', 'Quantity': 50, 'InvoiceDate': '1/12/2018 10:19', 'UnitPrice': 1.45, 'CustomerID': 17511, 'Country': 'United Kingdom'}, {'InvoiceNo': 536390, 'StockCode': '21533', 'Description': 'RETROSPOT LARGE MILK JUG', 'Quantity': 12, 'InvoiceDate': '1/12/2018 10:19', 'UnitPrice': 4.25, 'CustomerID': 17511, 'Country': 'United Kingdom'}, {'InvoiceNo': 536390, 'StockCode': '21080', 'Description': 'SET/20 RED RETROSPOT PAPER NAPKINS ', 'Quantity': 96, 'InvoiceDate': '1/12/2018 10:19', 'UnitPrice': 0.64, 'CustomerID': 17511, 'Country': 'United Kingdom'}, {'InvoiceNo': 536390, 'StockCode': '21094', 'Description': 'SET/6 RED SPOTTY PAPER PLATES', 'Quantity': 96, 'InvoiceDate': '1/12/2018 10:19', 'UnitPrice': 0.64, 'CustomerID': 17511, 'Country': 'United Kingdom'}, {'InvoiceNo': 536390, 'StockCode': '21086', 'Description': 'SET/6 RED SPOTTY PAPER CUPS', 'Quantity': 48, 'InvoiceDate': '1/12/2018 10:19', 'UnitPrice': 0.65, 'CustomerID': 17511, 'Country': 'United Kingdom'}, {'InvoiceNo': 536390, 'StockCode': '21786', 'Description': 'POLKADOT RAIN HAT ', 'Quantity': 144, 'InvoiceDate': '1/12/2018 10:19', 'UnitPrice': 0.32, 'CustomerID': 17511, 'Country': 'United Kingdom'}, {'InvoiceNo': 536390, 'StockCode': '22654', 'Description': 'DELUXE SEWING KIT ', 'Quantity': 40, 'InvoiceDate': '1/12/2018 10:19', 'UnitPrice': 4.95, 'CustomerID': 17511, 'Country': 'United Kingdom'}, {'InvoiceNo': 536390, 'StockCode': '21485', 'Description': 'RETROSPOT HEART HOT WATER BOTTLE', 'Quantity': 24, 'InvoiceDate': '1/12/2018 10:19', 'UnitPrice': 4.25, 'CustomerID': 17511, 'Country': 'United Kingdom'}, {'InvoiceNo': 536390, 'StockCode': '84029G', 'Description': 'KNITTED UNION FLAG HOT WATER BOTTLE', 'Quantity': 24, 'InvoiceDate': '1/12/2018 10:19', 'UnitPrice': 3.39, 'CustomerID': 17511, 'Country': 'United Kingdom'}, {'InvoiceNo': 536390, 'StockCode': '84030E', 'Description': 'ENGLISH ROSE HOT WATER BOTTLE', 'Quantity': 24, 'InvoiceDate': '1/12/2018 10:19', 'UnitPrice': 3.75, 'CustomerID': 17511, 'Country': 'United Kingdom'}, {'InvoiceNo': 536390, 'StockCode': '22174', 'Description': 'PHOTO CUBE', 'Quantity': 48, 'InvoiceDate': '1/12/2018 10:19', 'UnitPrice': 1.48, 'CustomerID': 17511, 'Country': 'United Kingdom'}, {'InvoiceNo': 536390, 'StockCode': '22969', 'Description': 'HOMEMADE JAM SCENTED CANDLES', 'Quantity': 96, 'InvoiceDate': '1/12/2018 10:19', 'UnitPrice': 1.25, 'CustomerID': 17511, 'Country': 'United Kingdom'}, {'InvoiceNo': 536390, 'StockCode': '85099B', 'Description': 'JUMBO BAG RED RETROSPOT', 'Quantity': 100, 'InvoiceDate': '1/12/2018 10:19', 'UnitPrice': 1.65, 'CustomerID': 17511, 'Country': 'United Kingdom'}, {'InvoiceNo': 536392, 'StockCode': '22150', 'Description': '3 STRIPEY MICE FELTCRAFT', 'Quantity': 6, 'InvoiceDate': '1/12/2018 10:29', 'UnitPrice': 1.95, 'CustomerID': 13705, 'Country': 'United Kingdom'}, {'InvoiceNo': 536392, 'StockCode': '22619', 'Description': 'SET OF 6 SOLDIER SKITTLES', 'Quantity': 4, 'InvoiceDate': '1/12/2018 10:29', 'UnitPrice': 3.75, 'CustomerID': 13705, 'Country': 'United Kingdom'}, {'InvoiceNo': 536392, 'StockCode': '21891', 'Description': 'TRADITIONAL WOODEN SKIPPING ROPE', 'Quantity': 12, 'InvoiceDate': '1/12/2018 10:29', 'UnitPrice': 1.25, 'CustomerID': 13705, 'Country': 'United Kingdom'}, {'InvoiceNo': 536392, 'StockCode': '21889', 'Description': 'WOODEN BOX OF DOMINOES', 'Quantity': 12, 'InvoiceDate': '1/12/2018 10:29', 'UnitPrice': 1.25, 'CustomerID': 13705, 'Country': 'United Kingdom'}, {'InvoiceNo': 536392, 'StockCode': '22827', 'Description': 'RUSTIC  SEVENTEEN DRAWER SIDEBOARD', 'Quantity': 1, 'InvoiceDate': '1/12/2018 10:29', 'UnitPrice': 165.0, 'CustomerID': 13705, 'Country': 'United Kingdom'}, {'InvoiceNo': 536392, 'StockCode': '22127', 'Description': 'PARTY CONES CARNIVAL ASSORTED', 'Quantity': 12, 'InvoiceDate': '1/12/2018 10:29', 'UnitPrice': 1.25, 'CustomerID': 13705, 'Country': 'United Kingdom'}, {'InvoiceNo': 536392, 'StockCode': '22128', 'Description': 'PARTY CONES CANDY ASSORTED', 'Quantity': 12, 'InvoiceDate': '1/12/2018 10:29', 'UnitPrice': 1.25, 'CustomerID': 13705, 'Country': 'United Kingdom'}, {'InvoiceNo': 536392, 'StockCode': '22502', 'Description': 'PICNIC BASKET WICKER SMALL', 'Quantity': 4, 'InvoiceDate': '1/12/2018 10:29', 'UnitPrice': 5.95, 'CustomerID': 13705, 'Country': 'United Kingdom'}, {'InvoiceNo': 536392, 'StockCode': '84879', 'Description': 'ASSORTED COLOUR BIRD ORNAMENT', 'Quantity': 16, 'InvoiceDate': '1/12/2018 10:29', 'UnitPrice': 1.69, 'CustomerID': 13705, 'Country': 'United Kingdom'}, {'InvoiceNo': 536392, 'StockCode': '22338', 'Description': 'STAR DECORATION PAINTED ZINC ', 'Quantity': 24, 'InvoiceDate': '1/12/2018 10:29', 'UnitPrice': 0.65, 'CustomerID': 13705, 'Country': 'United Kingdom'}, {'InvoiceNo': 536393, 'StockCode': '22180', 'Description': 'RETROSPOT LAMP', 'Quantity': 8, 'InvoiceDate': '1/12/2018 10:37', 'UnitPrice': 9.95, 'CustomerID': 13747, 'Country': 'United Kingdom'}, {'InvoiceNo': 536394, 'StockCode': '21506', 'Description': 'FANCY FONT BIRTHDAY CARD, ', 'Quantity': 24, 'InvoiceDate': '1/12/2018 10:39', 'UnitPrice': 0.42, 'CustomerID': 13408, 'Country': 'United Kingdom'}, {'InvoiceNo': 536394, 'StockCode': '22633', 'Description': 'HAND WARMER UNION JACK', 'Quantity': 96, 'InvoiceDate': '1/12/2018 10:39', 'UnitPrice': 1.85, 'CustomerID': 13408, 'Country': 'United Kingdom'}, {'InvoiceNo': 536394, 'StockCode': '22866', 'Description': 'HAND WARMER SCOTTY DOG DESIGN', 'Quantity': 96, 'InvoiceDate': '1/12/2018 10:39', 'UnitPrice': 1.85, 'CustomerID': 13408, 'Country': 'United Kingdom'}, {'InvoiceNo': 536394, 'StockCode': '22865', 'Description': 'HAND WARMER OWL DESIGN', 'Quantity': 96, 'InvoiceDate': '1/12/2018 10:39', 'UnitPrice': 1.85, 'CustomerID': 13408, 'Country': 'United Kingdom'}, {'InvoiceNo': 536394, 'StockCode': '22632', 'Description': 'HAND WARMER RED RETROSPOT', 'Quantity': 96, 'InvoiceDate': '1/12/2018 10:39', 'UnitPrice': 1.85, 'CustomerID': 13408, 'Country': 'United Kingdom'}, {'InvoiceNo': 536394, 'StockCode': '21485', 'Description': 'RETROSPOT HEART HOT WATER BOTTLE', 'Quantity': 12, 'InvoiceDate': '1/12/2018 10:39', 'UnitPrice': 4.95, 'CustomerID': 13408, 'Country': 'United Kingdom'}, {'InvoiceNo': 536394, 'StockCode': '22349', 'Description': 'DOG BOWL CHASING BALL DESIGN', 'Quantity': 12, 'InvoiceDate': '1/12/2018 10:39', 'UnitPrice': 3.75, 'CustomerID': 13408, 'Country': 'United Kingdom'}, {'InvoiceNo': 536394, 'StockCode': '22558', 'Description': 'CLOTHES PEGS RETROSPOT PACK 24 ', 'Quantity': 48, 'InvoiceDate': '1/12/2018 10:39', 'UnitPrice': 1.25, 'CustomerID': 13408, 'Country': 'United Kingdom'}, {'InvoiceNo': 536394, 'StockCode': '85152', 'Description': 'HAND OVER THE CHOCOLATE   SIGN ', 'Quantity': 12, 'InvoiceDate': '1/12/2018 10:39', 'UnitPrice': 2.1, 'CustomerID': 13408, 'Country': 'United Kingdom'}, {'InvoiceNo': 536394, 'StockCode': '85123A', 'Description': 'WHITE HANGING HEART T-LIGHT HOLDER', 'Quantity': 32, 'InvoiceDate': '1/12/2018 10:39', 'UnitPrice': 2.55, 'CustomerID': 13408, 'Country': 'United Kingdom'}, {'InvoiceNo': 536394, 'StockCode': '22652', 'Description': 'TRAVEL SEWING KIT', 'Quantity': 20, 'InvoiceDate': '1/12/2018 10:39', 'UnitPrice': 1.65, 'CustomerID': 13408, 'Country': 'United Kingdom'}, {'InvoiceNo': 536395, 'StockCode': '22188', 'Description': 'BLACK HEART CARD HOLDER', 'Quantity': 8, 'InvoiceDate': '1/12/2018 10:47', 'UnitPrice': 3.95, 'CustomerID': 13767, 'Country': 'United Kingdom'}, {'InvoiceNo': 536395, 'StockCode': '84879', 'Description': 'ASSORTED COLOUR BIRD ORNAMENT', 'Quantity': 32, 'InvoiceDate': '1/12/2018 10:47', 'UnitPrice': 1.69, 'CustomerID': 13767, 'Country': 'United Kingdom'}, {'InvoiceNo': 536395, 'StockCode': '21977', 'Description': 'PACK OF 60 PINK PAISLEY CAKE CASES', 'Quantity': 24, 'InvoiceDate': '1/12/2018 10:47', 'UnitPrice': 0.55, 'CustomerID': 13767, 'Country': 'United Kingdom'}, {'InvoiceNo': 536395, 'StockCode': '84991', 'Description': '60 TEATIME FAIRY CAKE CASES', 'Quantity': 24, 'InvoiceDate': '1/12/2018 10:47', 'UnitPrice': 0.55, 'CustomerID': 13767, 'Country': 'United Kingdom'}, {'InvoiceNo': 536395, 'StockCode': '21212', 'Description': 'PACK OF 72 RETROSPOT CAKE CASES', 'Quantity': 24, 'InvoiceDate': '1/12/2018 10:47', 'UnitPrice': 0.55, 'CustomerID': 13767, 'Country': 'United Kingdom'}, {'InvoiceNo': 536395, 'StockCode': '21484', 'Description': 'CHICK GREY HOT WATER BOTTLE', 'Quantity': 8, 'InvoiceDate': '1/12/2018 10:47', 'UnitPrice': 3.45, 'CustomerID': 13767, 'Country': 'United Kingdom'}, {'InvoiceNo': 536395, 'StockCode': '21314', 'Description': 'SMALL GLASS HEART TRINKET POT', 'Quantity': 8, 'InvoiceDate': '1/12/2018 10:47', 'UnitPrice': 2.1, 'CustomerID': 13767, 'Country': 'United Kingdom'}, {'InvoiceNo': 536395, 'StockCode': '22730', 'Description': 'ALARM CLOCK BAKELIKE IVORY', 'Quantity': 4, 'InvoiceDate': '1/12/2018 10:47', 'UnitPrice': 3.75, 'CustomerID': 13767, 'Country': 'United Kingdom'}, {'InvoiceNo': 536395, 'StockCode': '22727', 'Description': 'ALARM CLOCK BAKELIKE RED ', 'Quantity': 8, 'InvoiceDate': '1/12/2018 10:47', 'UnitPrice': 3.75, 'CustomerID': 13767, 'Country': 'United Kingdom'}, {'InvoiceNo': 536395, 'StockCode': '22729', 'Description': 'ALARM CLOCK BAKELIKE ORANGE', 'Quantity': 8, 'InvoiceDate': '1/12/2018 10:47', 'UnitPrice': 3.75, 'CustomerID': 13767, 'Country': 'United Kingdom'}, {'InvoiceNo': 536395, 'StockCode': '22726', 'Description': 'ALARM CLOCK BAKELIKE GREEN', 'Quantity': 8, 'InvoiceDate': '1/12/2018 10:47', 'UnitPrice': 3.75, 'CustomerID': 13767, 'Country': 'United Kingdom'}, {'InvoiceNo': 536395, 'StockCode': '22114', 'Description': 'HOT WATER BOTTLE TEA AND SYMPATHY', 'Quantity': 8, 'InvoiceDate': '1/12/2018 10:47', 'UnitPrice': 3.95, 'CustomerID': 13767, 'Country': 'United Kingdom'}, {'InvoiceNo': 536395, 'StockCode': '22867', 'Description': 'HAND WARMER BIRD DESIGN', 'Quantity': 48, 'InvoiceDate': '1/12/2018 10:47', 'UnitPrice': 2.1, 'CustomerID': 13767, 'Country': 'United Kingdom'}, {'InvoiceNo': 536395, 'StockCode': '22866', 'Description': 'HAND WARMER SCOTTY DOG DESIGN', 'Quantity': 48, 'InvoiceDate': '1/12/2018 10:47', 'UnitPrice': 2.1, 'CustomerID': 13767, 'Country': 'United Kingdom'}, {'InvoiceNo': 536396, 'StockCode': '85123A', 'Description': 'WHITE HANGING HEART T-LIGHT HOLDER', 'Quantity': 6, 'InvoiceDate': '1/12/2018 10:51', 'UnitPrice': 2.55, 'CustomerID': 17850, 'Country': 'United Kingdom'}, {'InvoiceNo': 536396, 'StockCode': '71053', 'Description': 'WHITE METAL LANTERN', 'Quantity': 6, 'InvoiceDate': '1/12/2018 10:51', 'UnitPrice': 3.39, 'CustomerID': 17850, 'Country': 'United Kingdom'}, {'InvoiceNo': 536396, 'StockCode': '84406B', 'Description': 'CREAM CUPID HEARTS COAT HANGER', 'Quantity': 8, 'InvoiceDate': '1/12/2018 10:51', 'UnitPrice': 2.75, 'CustomerID': 17850, 'Country': 'United Kingdom'}, {'InvoiceNo': 536396, 'StockCode': '15056BL', 'Description': 'EDWARDIAN PARASOL BLACK', 'Quantity': 6, 'InvoiceDate': '1/12/2018 10:51', 'UnitPrice': 4.95, 'CustomerID': 17850, 'Country': 'United Kingdom'}, {'InvoiceNo': 536396, 'StockCode': '20679', 'Description': 'EDWARDIAN PARASOL RED', 'Quantity': 6, 'InvoiceDate': '1/12/2018 10:51', 'UnitPrice': 4.95, 'CustomerID': 17850, 'Country': 'United Kingdom'}, {'InvoiceNo': 536396, 'StockCode': '37370', 'Description': 'RETRO COFFEE MUGS ASSORTED', 'Quantity': 6, 'InvoiceDate': '1/12/2018 10:51', 'UnitPrice': 1.06, 'CustomerID': 17850, 'Country': 'United Kingdom'}, {'InvoiceNo': 536396, 'StockCode': '21871', 'Description': 'SAVE THE PLANET MUG', 'Quantity': 6, 'InvoiceDate': '1/12/2018 10:51', 'UnitPrice': 1.06, 'CustomerID': 17850, 'Country': 'United Kingdom'}, {'InvoiceNo': 536396, 'StockCode': '21071', 'Description': 'VINTAGE BILLBOARD DRINK ME MUG', 'Quantity': 6, 'InvoiceDate': '1/12/2018 10:51', 'UnitPrice': 1.06, 'CustomerID': 17850, 'Country': 'United Kingdom'}, {'InvoiceNo': 536396, 'StockCode': '21068', 'Description': 'VINTAGE BILLBOARD LOVE/HATE MUG', 'Quantity': 6, 'InvoiceDate': '1/12/2018 10:51', 'UnitPrice': 1.06, 'CustomerID': 17850, 'Country': 'United Kingdom'}, {'InvoiceNo': 536396, 'StockCode': '82483', 'Description': 'WOOD 2 DRAWER CABINET WHITE FINISH', 'Quantity': 2, 'InvoiceDate': '1/12/2018 10:51', 'UnitPrice': 4.95, 'CustomerID': 17850, 'Country': 'United Kingdom'}, {'InvoiceNo': 536396, 'StockCode': '82486', 'Description': 'WOOD S/3 CABINET ANT WHITE FINISH', 'Quantity': 4, 'InvoiceDate': '1/12/2018 10:51', 'UnitPrice': 6.95, 'CustomerID': 17850, 'Country': 'United Kingdom'}, {'InvoiceNo': 536396, 'StockCode': '82482', 'Description': 'WOODEN PICTURE FRAME WHITE FINISH', 'Quantity': 6, 'InvoiceDate': '1/12/2018 10:51', 'UnitPrice': 2.1, 'CustomerID': 17850, 'Country': 'United Kingdom'}, {'InvoiceNo': 536396, 'StockCode': '82494L', 'Description': 'WOODEN FRAME ANTIQUE WHITE ', 'Quantity': 12, 'InvoiceDate': '1/12/2018 10:51', 'UnitPrice': 2.55, 'CustomerID': 17850, 'Country': 'United Kingdom'}, {'InvoiceNo': 536396, 'StockCode': '84029G', 'Description': 'KNITTED UNION FLAG HOT WATER BOTTLE', 'Quantity': 6, 'InvoiceDate': '1/12/2018 10:51', 'UnitPrice': 3.39, 'CustomerID': 17850, 'Country': 'United Kingdom'}, {'InvoiceNo': 536396, 'StockCode': '84029E', 'Description': 'RED WOOLLY HOTTIE WHITE HEART.', 'Quantity': 6, 'InvoiceDate': '1/12/2018 10:51', 'UnitPrice': 3.39, 'CustomerID': 17850, 'Country': 'United Kingdom'}, {'InvoiceNo': 536396, 'StockCode': '22752', 'Description': 'SET 7 BABUSHKA NESTING BOXES', 'Quantity': 2, 'InvoiceDate': '1/12/2018 10:51', 'UnitPrice': 7.65, 'CustomerID': 17850, 'Country': 'United Kingdom'}, {'InvoiceNo': 536396, 'StockCode': '22803', 'Description': 'IVORY EMBROIDERED QUILT ', 'Quantity': 2, 'InvoiceDate': '1/12/2018 10:51', 'UnitPrice': 35.75, 'CustomerID': 17850, 'Country': 'United Kingdom'}, {'InvoiceNo': 536396, 'StockCode': '21730', 'Description': 'GLASS STAR FROSTED T-LIGHT HOLDER', 'Quantity': 6, 'InvoiceDate': '1/12/2018 10:51', 'UnitPrice': 4.25, 'CustomerID': 17850, 'Country': 'United Kingdom'}, {'InvoiceNo': 536397, 'StockCode': '35004B', 'Description': 'SET OF 3 BLACK FLYING DUCKS', 'Quantity': 12, 'InvoiceDate': '1/12/2018 10:51', 'UnitPrice': 4.65, 'CustomerID': 17924, 'Country': 'United Kingdom'}, {'InvoiceNo': 536397, 'StockCode': '35004C', 'Description': 'SET OF 3 COLOURED  FLYING DUCKS', 'Quantity': 48, 'InvoiceDate': '1/12/2018 10:51', 'UnitPrice': 4.65, 'CustomerID': 17924, 'Country': 'United Kingdom'}, {'InvoiceNo': 536398, 'StockCode': '21980', 'Description': 'PACK OF 12 RED RETROSPOT TISSUES ', 'Quantity': 24, 'InvoiceDate': '1/12/2018 10:52', 'UnitPrice': 0.29, 'CustomerID': 13448, 'Country': 'United Kingdom'}, {'InvoiceNo': 536398, 'StockCode': '21844', 'Description': 'RED RETROSPOT MUG', 'Quantity': 6, 'InvoiceDate': '1/12/2018 10:52', 'UnitPrice': 2.95, 'CustomerID': 13448, 'Country': 'United Kingdom'}, {'InvoiceNo': 536398, 'StockCode': '22468', 'Description': 'BABUSHKA LIGHTS STRING OF 10', 'Quantity': 4, 'InvoiceDate': '1/12/2018 10:52', 'UnitPrice': 6.75, 'CustomerID': 13448, 'Country': 'United Kingdom'}, {'InvoiceNo': 536398, 'StockCode': '22637', 'Description': 'PIGGY BANK RETROSPOT ', 'Quantity': 8, 'InvoiceDate': '1/12/2018 10:52', 'UnitPrice': 2.55, 'CustomerID': 13448, 'Country': 'United Kingdom'}, {'InvoiceNo': 536398, 'StockCode': '22752', 'Description': 'SET 7 BABUSHKA NESTING BOXES', 'Quantity': 6, 'InvoiceDate': '1/12/2018 10:52', 'UnitPrice': 8.5, 'CustomerID': 13448, 'Country': 'United Kingdom'}, {'InvoiceNo': 536398, 'StockCode': '48185', 'Description': 'DOORMAT FAIRY CAKE', 'Quantity': 2, 'InvoiceDate': '1/12/2018 10:52', 'UnitPrice': 7.95, 'CustomerID': 13448, 'Country': 'United Kingdom'}, {'InvoiceNo': 536398, 'StockCode': '22632', 'Description': 'HAND WARMER RED RETROSPOT', 'Quantity': 12, 'InvoiceDate': '1/12/2018 10:52', 'UnitPrice': 2.1, 'CustomerID': 13448, 'Country': 'United Kingdom'}, {'InvoiceNo': 536398, 'StockCode': '22866', 'Description': 'HAND WARMER SCOTTY DOG DESIGN', 'Quantity': 12, 'InvoiceDate': '1/12/2018 10:52', 'UnitPrice': 2.1, 'CustomerID': 13448, 'Country': 'United Kingdom'}, {'InvoiceNo': 536398, 'StockCode': '22865', 'Description': 'HAND WARMER OWL DESIGN', 'Quantity': 12, 'InvoiceDate': '1/12/2018 10:52', 'UnitPrice': 2.1, 'CustomerID': 13448, 'Country': 'United Kingdom'}, {'InvoiceNo': 536398, 'StockCode': '21232', 'Description': 'STRAWBERRY CERAMIC TRINKET BOX', 'Quantity': 12, 'InvoiceDate': '1/12/2018 10:52', 'UnitPrice': 1.25, 'CustomerID': 13448, 'Country': 'United Kingdom'}, {'InvoiceNo': 536398, 'StockCode': '22064', 'Description': 'PINK DOUGHNUT TRINKET POT ', 'Quantity': 12, 'InvoiceDate': '1/12/2018 10:52', 'UnitPrice': 1.65, 'CustomerID': 13448, 'Country': 'United Kingdom'}, {'InvoiceNo': 536398, 'StockCode': '22449', 'Description': 'SILK PURSE BABUSHKA PINK', 'Quantity': 6, 'InvoiceDate': '1/12/2018 10:52', 'UnitPrice': 3.35, 'CustomerID': 13448, 'Country': 'United Kingdom'}, {'InvoiceNo': 536398, 'StockCode': '22114', 'Description': 'HOT WATER BOTTLE TEA AND SYMPATHY', 'Quantity': 4, 'InvoiceDate': '1/12/2018 10:52', 'UnitPrice': 3.95, 'CustomerID': 13448, 'Country': 'United Kingdom'}, {'InvoiceNo': 536398, 'StockCode': '22835', 'Description': 'HOT WATER BOTTLE I AM SO POORLY', 'Quantity': 8, 'InvoiceDate': '1/12/2018 10:52', 'UnitPrice': 4.65, 'CustomerID': 13448, 'Country': 'United Kingdom'}, {'InvoiceNo': 536398, 'StockCode': '22112', 'Description': 'CHOCOLATE HOT WATER BOTTLE', 'Quantity': 9, 'InvoiceDate': '1/12/2018 10:52', 'UnitPrice': 4.95, 'CustomerID': 13448, 'Country': 'United Kingdom'}, {'InvoiceNo': 536398, 'StockCode': '21479', 'Description': 'WHITE SKULL HOT WATER BOTTLE ', 'Quantity': 4, 'InvoiceDate': '1/12/2018 10:52', 'UnitPrice': 3.75, 'CustomerID': 13448, 'Country': 'United Kingdom'}, {'InvoiceNo': 536398, 'StockCode': '22111', 'Description': 'SCOTTIE DOG HOT WATER BOTTLE', 'Quantity': 9, 'InvoiceDate': '1/12/2018 10:52', 'UnitPrice': 4.95, 'CustomerID': 13448, 'Country': 'United Kingdom'}, {'InvoiceNo': 536399, 'StockCode': '22632', 'Description': 'HAND WARMER RED POLKA DOT', 'Quantity': 6, 'InvoiceDate': '1/12/2018 10:52', 'UnitPrice': 1.85, 'CustomerID': 17850, 'Country': 'United Kingdom'}, {'InvoiceNo': 536399, 'StockCode': '22633', 'Description': 'HAND WARMER UNION JACK', 'Quantity': 6, 'InvoiceDate': '1/12/2018 10:52', 'UnitPrice': 1.85, 'CustomerID': 17850, 'Country': 'United Kingdom'}, {'InvoiceNo': 536400, 'StockCode': '22969', 'Description': 'HOMEMADE JAM SCENTED CANDLES', 'Quantity': 12, 'InvoiceDate': '1/12/2018 10:53', 'UnitPrice': 1.45, 'CustomerID': 13448, 'Country': 'United Kingdom'}, {'InvoiceNo': 536401, 'StockCode': '22110', 'Description': 'BIRD HOUSE HOT WATER BOTTLE', 'Quantity': 1, 'InvoiceDate': '1/12/2018 11:21', 'UnitPrice': 2.55, 'CustomerID': 15862, 'Country': 'United Kingdom'}, {'InvoiceNo': 536401, 'StockCode': '22098', 'Description': 'BOUDOIR SQUARE TISSUE BOX', 'Quantity': 1, 'InvoiceDate': '1/12/2018 11:21', 'UnitPrice': 1.25, 'CustomerID': 15862, 'Country': 'United Kingdom'}, {'InvoiceNo': 536401, 'StockCode': '22100', 'Description': 'SKULLS SQUARE TISSUE BOX', 'Quantity': 2, 'InvoiceDate': '1/12/2018 11:21', 'UnitPrice': 1.25, 'CustomerID': 15862, 'Country': 'United Kingdom'}, {'InvoiceNo': 536401, 'StockCode': '22766', 'Description': 'PHOTO FRAME CORNICE', 'Quantity': 1, 'InvoiceDate': '1/12/2018 11:21', 'UnitPrice': 2.95, 'CustomerID': 15862, 'Country': 'United Kingdom'}, {'InvoiceNo': 536401, 'StockCode': '22451', 'Description': 'SILK PURSE BABUSHKA RED', 'Quantity': 1, 'InvoiceDate': '1/12/2018 11:21', 'UnitPrice': 3.35, 'CustomerID': 15862, 'Country': 'United Kingdom'}, {'InvoiceNo': 536401, 'StockCode': '22549', 'Description': 'PICTURE DOMINOES', 'Quantity': 1, 'InvoiceDate': '1/12/2018 11:21', 'UnitPrice': 1.45, 'CustomerID': 15862, 'Country': 'United Kingdom'}, {'InvoiceNo': 536401, 'StockCode': '84744', 'Description': 'S/6 SEW ON CROCHET FLOWERS', 'Quantity': 1, 'InvoiceDate': '1/12/2018 11:21', 'UnitPrice': 1.25, 'CustomerID': 15862, 'Country': 'United Kingdom'}, {'InvoiceNo': 536401, 'StockCode': '85049E', 'Description': 'SCANDINAVIAN REDS RIBBONS', 'Quantity': 2, 'InvoiceDate': '1/12/2018 11:21', 'UnitPrice': 1.25, 'CustomerID': 15862, 'Country': 'United Kingdom'}, {'InvoiceNo': 536401, 'StockCode': '21328', 'Description': 'BALLOONS  WRITING SET ', 'Quantity': 1, 'InvoiceDate': '1/12/2018 11:21', 'UnitPrice': 1.65, 'CustomerID': 15862, 'Country': 'United Kingdom'}, {'InvoiceNo': 536401, 'StockCode': '22961', 'Description': 'JAM MAKING SET PRINTED', 'Quantity': 4, 'InvoiceDate': '1/12/2018 11:21', 'UnitPrice': 1.45, 'CustomerID': 15862, 'Country': 'United Kingdom'}, {'InvoiceNo': 536401, 'StockCode': '17091A', 'Description': 'LAVENDER INCENSE IN TIN', 'Quantity': 1, 'InvoiceDate': '1/12/2018 11:21', 'UnitPrice': 1.25, 'CustomerID': 15862, 'Country': 'United Kingdom'}, {'InvoiceNo': 536401, 'StockCode': '22473', 'Description': 'TV DINNER TRAY VINTAGE PAISLEY', 'Quantity': 1, 'InvoiceDate': '1/12/2018 11:21', 'UnitPrice': 4.95, 'CustomerID': 15862, 'Country': 'United Kingdom'}, {'InvoiceNo': 536401, 'StockCode': '84509A', 'Description': 'SET OF 4 ENGLISH ROSE PLACEMATS', 'Quantity': 2, 'InvoiceDate': '1/12/2018 11:21', 'UnitPrice': 3.75, 'CustomerID': 15862, 'Country': 'United Kingdom'}, {'InvoiceNo': 536401, 'StockCode': '84510A', 'Description': 'SET OF 4 ENGLISH ROSE COASTERS', 'Quantity': 2, 'InvoiceDate': '1/12/2018 11:21', 'UnitPrice': 1.25, 'CustomerID': 15862, 'Country': 'United Kingdom'}, {'InvoiceNo': 536401, 'StockCode': '22767', 'Description': 'TRIPLE PHOTO FRAME CORNICE ', 'Quantity': 2, 'InvoiceDate': '1/12/2018 11:21', 'UnitPrice': 9.95, 'CustomerID': 15862, 'Country': 'United Kingdom'}, {'InvoiceNo': 536401, 'StockCode': '22768', 'Description': 'FAMILY PHOTO FRAME CORNICE', 'Quantity': 1, 'InvoiceDate': '1/12/2018 11:21', 'UnitPrice': 9.95, 'CustomerID': 15862, 'Country': 'United Kingdom'}, {'InvoiceNo': 536401, 'StockCode': '21463', 'Description': 'MIRRORED DISCO BALL ', 'Quantity': 1, 'InvoiceDate': '1/12/2018 11:21', 'UnitPrice': 5.95, 'CustomerID': 15862, 'Country': 'United Kingdom'}, {'InvoiceNo': 536401, 'StockCode': '21464', 'Description': 'DISCO BALL ROTATOR BATTERY OPERATED', 'Quantity': 1, 'InvoiceDate': '1/12/2018 11:21', 'UnitPrice': 4.25, 'CustomerID': 15862, 'Country': 'United Kingdom'}, {'InvoiceNo': 536401, 'StockCode': '20820', 'Description': 'SILVER LOOKING MIRROR', 'Quantity': 3, 'InvoiceDate': '1/12/2018 11:21', 'UnitPrice': 4.95, 'CustomerID': 15862, 'Country': 'United Kingdom'}, {'InvoiceNo': 536401, 'StockCode': '85150', 'Description': 'LADIES & GENTLEMEN METAL SIGN', 'Quantity': 1, 'InvoiceDate': '1/12/2018 11:21', 'UnitPrice': 2.55, 'CustomerID': 15862, 'Country': 'United Kingdom'}, {'InvoiceNo': 536401, 'StockCode': '22117', 'Description': 'METAL SIGN HER DINNER IS SERVED ', 'Quantity': 1, 'InvoiceDate': '1/12/2018 11:21', 'UnitPrice': 2.95, 'CustomerID': 15862, 'Country': 'United Kingdom'}, {'InvoiceNo': 536401, 'StockCode': '21169', 'Description': \"YOU'RE CONFUSING ME METAL SIGN \", 'Quantity': 2, 'InvoiceDate': '1/12/2018 11:21', 'UnitPrice': 1.69, 'CustomerID': 15862, 'Country': 'United Kingdom'}, {'InvoiceNo': 536401, 'StockCode': '48129', 'Description': 'DOORMAT TOPIARY', 'Quantity': 1, 'InvoiceDate': '1/12/2018 11:21', 'UnitPrice': 7.95, 'CustomerID': 15862, 'Country': 'United Kingdom'}, {'InvoiceNo': 536401, 'StockCode': '82580', 'Description': 'BATHROOM METAL SIGN', 'Quantity': 1, 'InvoiceDate': '1/12/2018 11:21', 'UnitPrice': 0.55, 'CustomerID': 15862, 'Country': 'United Kingdom'}, {'InvoiceNo': 536401, 'StockCode': '82578', 'Description': 'KITCHEN METAL SIGN', 'Quantity': 1, 'InvoiceDate': '1/12/2018 11:21', 'UnitPrice': 0.55, 'CustomerID': 15862, 'Country': 'United Kingdom'}, {'InvoiceNo': 536401, 'StockCode': '82581', 'Description': 'TOILET METAL SIGN', 'Quantity': 2, 'InvoiceDate': '1/12/2018 11:21', 'UnitPrice': 0.55, 'CustomerID': 15862, 'Country': 'United Kingdom'}, {'InvoiceNo': 536401, 'StockCode': '22413', 'Description': 'METAL SIGN TAKE IT OR LEAVE IT ', 'Quantity': 4, 'InvoiceDate': '1/12/2018 11:21', 'UnitPrice': 2.95, 'CustomerID': 15862, 'Country': 'United Kingdom'}, {'InvoiceNo': 536401, 'StockCode': '21907', 'Description': \"I'M ON HOLIDAY METAL SIGN\", 'Quantity': 2, 'InvoiceDate': '1/12/2018 11:21', 'UnitPrice': 2.1, 'CustomerID': 15862, 'Country': 'United Kingdom'}, {'InvoiceNo': 536401, 'StockCode': '22441', 'Description': 'GROW YOUR OWN BASIL IN ENAMEL MUG', 'Quantity': 1, 'InvoiceDate': '1/12/2018 11:21', 'UnitPrice': 2.1, 'CustomerID': 15862, 'Country': 'United Kingdom'}, {'InvoiceNo': 536401, 'StockCode': '21122', 'Description': 'SET/10 PINK POLKADOT PARTY CANDLES', 'Quantity': 1, 'InvoiceDate': '1/12/2018 11:21', 'UnitPrice': 1.25, 'CustomerID': 15862, 'Country': 'United Kingdom'}, {'InvoiceNo': 536401, 'StockCode': '22851', 'Description': 'SET 20 NAPKINS FAIRY CAKES DESIGN ', 'Quantity': 1, 'InvoiceDate': '1/12/2018 11:21', 'UnitPrice': 0.85, 'CustomerID': 15862, 'Country': 'United Kingdom'}, {'InvoiceNo': 536401, 'StockCode': '84991', 'Description': '60 TEATIME FAIRY CAKE CASES', 'Quantity': 3, 'InvoiceDate': '1/12/2018 11:21', 'UnitPrice': 0.55, 'CustomerID': 15862, 'Country': 'United Kingdom'}, {'InvoiceNo': 536401, 'StockCode': '22810', 'Description': 'SET OF 6 T-LIGHTS SNOWMEN', 'Quantity': 1, 'InvoiceDate': '1/12/2018 11:21', 'UnitPrice': 2.95, 'CustomerID': 15862, 'Country': 'United Kingdom'}, {'InvoiceNo': 536401, 'StockCode': '22809', 'Description': 'SET OF 6 T-LIGHTS SANTA', 'Quantity': 1, 'InvoiceDate': '1/12/2018 11:21', 'UnitPrice': 2.95, 'CustomerID': 15862, 'Country': 'United Kingdom'}, {'InvoiceNo': 536401, 'StockCode': '22435', 'Description': 'SET OF 9 HEART SHAPED BALLOONS', 'Quantity': 2, 'InvoiceDate': '1/12/2018 11:21', 'UnitPrice': 1.25, 'CustomerID': 15862, 'Country': 'United Kingdom'}, {'InvoiceNo': 536401, 'StockCode': '20966', 'Description': 'SANDWICH BATH SPONGE', 'Quantity': 3, 'InvoiceDate': '1/12/2018 11:21', 'UnitPrice': 1.25, 'CustomerID': 15862, 'Country': 'United Kingdom'}, {'InvoiceNo': 536401, 'StockCode': '20963', 'Description': 'APPLE BATH SPONGE', 'Quantity': 1, 'InvoiceDate': '1/12/2018 11:21', 'UnitPrice': 1.25, 'CustomerID': 15862, 'Country': 'United Kingdom'}, {'InvoiceNo': 536401, 'StockCode': '20961', 'Description': 'STRAWBERRY BATH SPONGE ', 'Quantity': 1, 'InvoiceDate': '1/12/2018 11:21', 'UnitPrice': 1.25, 'CustomerID': 15862, 'Country': 'United Kingdom'}, {'InvoiceNo': 536401, 'StockCode': '22068', 'Description': 'BLACK PIRATE TREASURE CHEST', 'Quantity': 2, 'InvoiceDate': '1/12/2018 11:21', 'UnitPrice': 1.65, 'CustomerID': 15862, 'Country': 'United Kingdom'}, {'InvoiceNo': 536401, 'StockCode': '21743', 'Description': 'STAR PORTABLE TABLE LIGHT ', 'Quantity': 2, 'InvoiceDate': '1/12/2018 11:21', 'UnitPrice': 2.95, 'CustomerID': 15862, 'Country': 'United Kingdom'}, {'InvoiceNo': 536401, 'StockCode': '21744', 'Description': 'SNOWFLAKE PORTABLE TABLE LIGHT ', 'Quantity': 2, 'InvoiceDate': '1/12/2018 11:21', 'UnitPrice': 2.95, 'CustomerID': 15862, 'Country': 'United Kingdom'}, {'InvoiceNo': 536401, 'StockCode': '84709B', 'Description': 'PINK OVAL JEWELLED MIRROR', 'Quantity': 1, 'InvoiceDate': '1/12/2018 11:21', 'UnitPrice': 5.95, 'CustomerID': 15862, 'Country': 'United Kingdom'}, {'InvoiceNo': 536401, 'StockCode': '21592', 'Description': 'RETROSPOT CIGAR BOX MATCHES ', 'Quantity': 1, 'InvoiceDate': '1/12/2018 11:21', 'UnitPrice': 1.25, 'CustomerID': 15862, 'Country': 'United Kingdom'}, {'InvoiceNo': 536401, 'StockCode': '21587', 'Description': 'COSY HOUR GIANT TUBE MATCHES', 'Quantity': 2, 'InvoiceDate': '1/12/2018 11:21', 'UnitPrice': 2.55, 'CustomerID': 15862, 'Country': 'United Kingdom'}, {'InvoiceNo': 536401, 'StockCode': '20992', 'Description': 'JAZZ HEARTS PURSE NOTEBOOK', 'Quantity': 9, 'InvoiceDate': '1/12/2018 11:21', 'UnitPrice': 0.85, 'CustomerID': 15862, 'Country': 'United Kingdom'}, {'InvoiceNo': 536401, 'StockCode': '22662', 'Description': 'LUNCH BAG DOLLY GIRL DESIGN', 'Quantity': 1, 'InvoiceDate': '1/12/2018 11:21', 'UnitPrice': 1.65, 'CustomerID': 15862, 'Country': 'United Kingdom'}, {'InvoiceNo': 536401, 'StockCode': '85123A', 'Description': 'WHITE HANGING HEART T-LIGHT HOLDER', 'Quantity': 4, 'InvoiceDate': '1/12/2018 11:21', 'UnitPrice': 2.95, 'CustomerID': 15862, 'Country': 'United Kingdom'}, {'InvoiceNo': 536401, 'StockCode': '22804', 'Description': 'CANDLEHOLDER PINK HANGING HEART', 'Quantity': 3, 'InvoiceDate': '1/12/2018 11:21', 'UnitPrice': 2.95, 'CustomerID': 15862, 'Country': 'United Kingdom'}, {'InvoiceNo': 536401, 'StockCode': '82483', 'Description': 'WOOD 2 DRAWER CABINET WHITE FINISH', 'Quantity': 1, 'InvoiceDate': '1/12/2018 11:21', 'UnitPrice': 5.95, 'CustomerID': 15862, 'Country': 'United Kingdom'}, {'InvoiceNo': 536401, 'StockCode': '20749', 'Description': 'ASSORTED COLOUR MINI CASES', 'Quantity': 1, 'InvoiceDate': '1/12/2018 11:21', 'UnitPrice': 7.95, 'CustomerID': 15862, 'Country': 'United Kingdom'}, {'InvoiceNo': 536401, 'StockCode': '20725', 'Description': 'LUNCH BAG RED RETROSPOT', 'Quantity': 1, 'InvoiceDate': '1/12/2018 11:21', 'UnitPrice': 1.65, 'CustomerID': 15862, 'Country': 'United Kingdom'}, {'InvoiceNo': 536401, 'StockCode': '22382', 'Description': 'LUNCH BAG SPACEBOY DESIGN ', 'Quantity': 2, 'InvoiceDate': '1/12/2018 11:21', 'UnitPrice': 1.65, 'CustomerID': 15862, 'Country': 'United Kingdom'}, {'InvoiceNo': 536401, 'StockCode': '20726', 'Description': 'LUNCH BAG WOODLAND', 'Quantity': 1, 'InvoiceDate': '1/12/2018 11:21', 'UnitPrice': 1.65, 'CustomerID': 15862, 'Country': 'United Kingdom'}, {'InvoiceNo': 536401, 'StockCode': '22384', 'Description': 'LUNCH BAG PINK POLKADOT', 'Quantity': 1, 'InvoiceDate': '1/12/2018 11:21', 'UnitPrice': 1.65, 'CustomerID': 15862, 'Country': 'United Kingdom'}, {'InvoiceNo': 536401, 'StockCode': '22467', 'Description': 'GUMBALL COAT RACK', 'Quantity': 5, 'InvoiceDate': '1/12/2018 11:21', 'UnitPrice': 2.55, 'CustomerID': 15862, 'Country': 'United Kingdom'}, {'InvoiceNo': 536401, 'StockCode': '84625C', 'Description': 'BLUE NEW BAROQUE CANDLESTICK CANDLE', 'Quantity': 3, 'InvoiceDate': '1/12/2018 11:21', 'UnitPrice': 2.95, 'CustomerID': 15862, 'Country': 'United Kingdom'}, {'InvoiceNo': 536401, 'StockCode': '84625A', 'Description': 'PINK NEW BAROQUECANDLESTICK CANDLE', 'Quantity': 3, 'InvoiceDate': '1/12/2018 11:21', 'UnitPrice': 2.95, 'CustomerID': 15862, 'Country': 'United Kingdom'}, {'InvoiceNo': 536401, 'StockCode': '21108', 'Description': 'FAIRY CAKE FLANNEL ASSORTED COLOUR', 'Quantity': 9, 'InvoiceDate': '1/12/2018 11:21', 'UnitPrice': 2.55, 'CustomerID': 15862, 'Country': 'United Kingdom'}, {'InvoiceNo': 536401, 'StockCode': '22848', 'Description': 'BREAD BIN DINER STYLE PINK', 'Quantity': 1, 'InvoiceDate': '1/12/2018 11:21', 'UnitPrice': 16.95, 'CustomerID': 15862, 'Country': 'United Kingdom'}, {'InvoiceNo': 536401, 'StockCode': '21033', 'Description': 'JUMBO BAG CHARLIE AND LOLA TOYS', 'Quantity': 4, 'InvoiceDate': '1/12/2018 11:21', 'UnitPrice': 2.95, 'CustomerID': 15862, 'Country': 'United Kingdom'}, {'InvoiceNo': 536401, 'StockCode': '47570B', 'Description': 'TEA TIME TABLE CLOTH', 'Quantity': 1, 'InvoiceDate': '1/12/2018 11:21', 'UnitPrice': 10.65, 'CustomerID': 15862, 'Country': 'United Kingdom'}, {'InvoiceNo': 536401, 'StockCode': '84030E', 'Description': 'ENGLISH ROSE HOT WATER BOTTLE', 'Quantity': 1, 'InvoiceDate': '1/12/2018 11:21', 'UnitPrice': 4.25, 'CustomerID': 15862, 'Country': 'United Kingdom'}, {'InvoiceNo': 536401, 'StockCode': '22428', 'Description': 'ENAMEL FIRE BUCKET CREAM', 'Quantity': 2, 'InvoiceDate': '1/12/2018 11:21', 'UnitPrice': 6.95, 'CustomerID': 15862, 'Country': 'United Kingdom'}, {'InvoiceNo': 536401, 'StockCode': '22502', 'Description': 'PICNIC BASKET WICKER SMALL', 'Quantity': 2, 'InvoiceDate': '1/12/2018 11:21', 'UnitPrice': 5.95, 'CustomerID': 15862, 'Country': 'United Kingdom'}, {'InvoiceNo': 536402, 'StockCode': '22086', 'Description': \"PAPER CHAIN KIT 50'S CHRISTMAS \", 'Quantity': 40, 'InvoiceDate': '1/12/2018 11:22', 'UnitPrice': 2.55, 'CustomerID': 15513, 'Country': 'United Kingdom'}, {'InvoiceNo': 536402, 'StockCode': '22910', 'Description': 'PAPER CHAIN KIT VINTAGE CHRISTMAS', 'Quantity': 40, 'InvoiceDate': '1/12/2018 11:22', 'UnitPrice': 2.55, 'CustomerID': 15513, 'Country': 'United Kingdom'}, {'InvoiceNo': 536402, 'StockCode': '22837', 'Description': 'HOT WATER BOTTLE BABUSHKA ', 'Quantity': 36, 'InvoiceDate': '1/12/2018 11:22', 'UnitPrice': 4.25, 'CustomerID': 15513, 'Country': 'United Kingdom'}, {'InvoiceNo': 536403, 'StockCode': '22867', 'Description': 'HAND WARMER BIRD DESIGN', 'Quantity': 96, 'InvoiceDate': '1/12/2018 11:27', 'UnitPrice': 1.85, 'CustomerID': 12791, 'Country': 'Netherlands'}, {'InvoiceNo': 536403, 'StockCode': 'POST', 'Description': 'POSTAGE', 'Quantity': 1, 'InvoiceDate': '1/12/2018 11:27', 'UnitPrice': 15.0, 'CustomerID': 12791, 'Country': 'Netherlands'}, {'InvoiceNo': 536404, 'StockCode': '22297', 'Description': 'HEART IVORY TRELLIS SMALL', 'Quantity': 24, 'InvoiceDate': '1/12/2018 11:29', 'UnitPrice': 1.25, 'CustomerID': 16218, 'Country': 'United Kingdom'}, {'InvoiceNo': 536404, 'StockCode': '22771', 'Description': 'CLEAR DRAWER KNOB ACRYLIC EDWARDIAN', 'Quantity': 12, 'InvoiceDate': '1/12/2018 11:29', 'UnitPrice': 1.25, 'CustomerID': 16218, 'Country': 'United Kingdom'}, {'InvoiceNo': 536404, 'StockCode': '22772', 'Description': 'PINK DRAWER KNOB ACRYLIC EDWARDIAN', 'Quantity': 12, 'InvoiceDate': '1/12/2018 11:29', 'UnitPrice': 1.25, 'CustomerID': 16218, 'Country': 'United Kingdom'}, {'InvoiceNo': 536404, 'StockCode': '22773', 'Description': 'GREEN DRAWER KNOB ACRYLIC EDWARDIAN', 'Quantity': 12, 'InvoiceDate': '1/12/2018 11:29', 'UnitPrice': 1.25, 'CustomerID': 16218, 'Country': 'United Kingdom'}, {'InvoiceNo': 536404, 'StockCode': '22805', 'Description': 'BLUE DRAWER KNOB ACRYLIC EDWARDIAN', 'Quantity': 12, 'InvoiceDate': '1/12/2018 11:29', 'UnitPrice': 1.25, 'CustomerID': 16218, 'Country': 'United Kingdom'}, {'InvoiceNo': 536404, 'StockCode': '22469', 'Description': 'HEART OF WICKER SMALL', 'Quantity': 12, 'InvoiceDate': '1/12/2018 11:29', 'UnitPrice': 1.65, 'CustomerID': 16218, 'Country': 'United Kingdom'}, {'InvoiceNo': 536404, 'StockCode': '22197', 'Description': 'SMALL POPCORN HOLDER', 'Quantity': 36, 'InvoiceDate': '1/12/2018 11:29', 'UnitPrice': 0.85, 'CustomerID': 16218, 'Country': 'United Kingdom'}, {'InvoiceNo': 536404, 'StockCode': '21125', 'Description': 'SET 6 FOOTBALL CELEBRATION CANDLES', 'Quantity': 12, 'InvoiceDate': '1/12/2018 11:29', 'UnitPrice': 1.25, 'CustomerID': 16218, 'Country': 'United Kingdom'}, {'InvoiceNo': 536404, 'StockCode': '21126', 'Description': 'SET OF 6 GIRLS CELEBRATION CANDLES', 'Quantity': 12, 'InvoiceDate': '1/12/2018 11:29', 'UnitPrice': 1.25, 'CustomerID': 16218, 'Country': 'United Kingdom'}, {'InvoiceNo': 536404, 'StockCode': '85049C', 'Description': 'ROMANTIC PINKS RIBBONS ', 'Quantity': 12, 'InvoiceDate': '1/12/2018 11:29', 'UnitPrice': 1.25, 'CustomerID': 16218, 'Country': 'United Kingdom'}, {'InvoiceNo': 536404, 'StockCode': '85049D', 'Description': 'BRIGHT BLUES RIBBONS ', 'Quantity': 12, 'InvoiceDate': '1/12/2018 11:29', 'UnitPrice': 1.25, 'CustomerID': 16218, 'Country': 'United Kingdom'}, {'InvoiceNo': 536404, 'StockCode': '85049E', 'Description': 'SCANDINAVIAN REDS RIBBONS', 'Quantity': 12, 'InvoiceDate': '1/12/2018 11:29', 'UnitPrice': 1.25, 'CustomerID': 16218, 'Country': 'United Kingdom'}, {'InvoiceNo': 536404, 'StockCode': '85049G', 'Description': 'CHOCOLATE BOX RIBBONS ', 'Quantity': 12, 'InvoiceDate': '1/12/2018 11:29', 'UnitPrice': 1.25, 'CustomerID': 16218, 'Country': 'United Kingdom'}, {'InvoiceNo': 536404, 'StockCode': '21061', 'Description': 'PARTY INVITES FOOTBALL', 'Quantity': 12, 'InvoiceDate': '1/12/2018 11:29', 'UnitPrice': 0.85, 'CustomerID': 16218, 'Country': 'United Kingdom'}, {'InvoiceNo': 536404, 'StockCode': '21063', 'Description': 'PARTY INVITES JAZZ HEARTS', 'Quantity': 12, 'InvoiceDate': '1/12/2018 11:29', 'UnitPrice': 0.85, 'CustomerID': 16218, 'Country': 'United Kingdom'}, {'InvoiceNo': 536404, 'StockCode': '21062', 'Description': 'PARTY INVITES SPACEMAN', 'Quantity': 12, 'InvoiceDate': '1/12/2018 11:29', 'UnitPrice': 0.85, 'CustomerID': 16218, 'Country': 'United Kingdom'}, {'InvoiceNo': 536404, 'StockCode': '84380', 'Description': 'SET OF 3 BUTTERFLY COOKIE CUTTERS', 'Quantity': 12, 'InvoiceDate': '1/12/2018 11:29', 'UnitPrice': 1.25, 'CustomerID': 16218, 'Country': 'United Kingdom'}, {'InvoiceNo': 536404, 'StockCode': '84378', 'Description': 'SET OF 3 HEART COOKIE CUTTERS', 'Quantity': 12, 'InvoiceDate': '1/12/2018 11:29', 'UnitPrice': 1.25, 'CustomerID': 16218, 'Country': 'United Kingdom'}, {'InvoiceNo': 536404, 'StockCode': '22964', 'Description': '3 PIECE SPACEBOY COOKIE CUTTER SET', 'Quantity': 12, 'InvoiceDate': '1/12/2018 11:29', 'UnitPrice': 2.1, 'CustomerID': 16218, 'Country': 'United Kingdom'}, {'InvoiceNo': 536404, 'StockCode': '21213', 'Description': 'PACK OF 72 SKULL CAKE CASES', 'Quantity': 24, 'InvoiceDate': '1/12/2018 11:29', 'UnitPrice': 0.55, 'CustomerID': 16218, 'Country': 'United Kingdom'}, {'InvoiceNo': 536404, 'StockCode': '22417', 'Description': 'PACK OF 60 SPACEBOY CAKE CASES', 'Quantity': 24, 'InvoiceDate': '1/12/2018 11:29', 'UnitPrice': 0.55, 'CustomerID': 16218, 'Country': 'United Kingdom'}, {'InvoiceNo': 536404, 'StockCode': '21212', 'Description': 'PACK OF 72 RETROSPOT CAKE CASES', 'Quantity': 24, 'InvoiceDate': '1/12/2018 11:29', 'UnitPrice': 0.55, 'CustomerID': 16218, 'Country': 'United Kingdom'}, {'InvoiceNo': 536404, 'StockCode': '84992', 'Description': '72 SWEETHEART FAIRY CAKE CASES', 'Quantity': 24, 'InvoiceDate': '1/12/2018 11:29', 'UnitPrice': 0.55, 'CustomerID': 16218, 'Country': 'United Kingdom'}, {'InvoiceNo': 536404, 'StockCode': '21975', 'Description': 'PACK OF 60 DINOSAUR CAKE CASES', 'Quantity': 24, 'InvoiceDate': '1/12/2018 11:29', 'UnitPrice': 0.55, 'CustomerID': 16218, 'Country': 'United Kingdom'}, {'InvoiceNo': 536404, 'StockCode': '22383', 'Description': 'LUNCH BAG SUKI  DESIGN ', 'Quantity': 10, 'InvoiceDate': '1/12/2018 11:29', 'UnitPrice': 1.65, 'CustomerID': 16218, 'Country': 'United Kingdom'}, {'InvoiceNo': 536404, 'StockCode': '20728', 'Description': 'LUNCH BAG CARS BLUE', 'Quantity': 10, 'InvoiceDate': '1/12/2018 11:29', 'UnitPrice': 1.65, 'CustomerID': 16218, 'Country': 'United Kingdom'}, {'InvoiceNo': 536404, 'StockCode': '20727', 'Description': 'LUNCH BAG  BLACK SKULL.', 'Quantity': 10, 'InvoiceDate': '1/12/2018 11:29', 'UnitPrice': 1.65, 'CustomerID': 16218, 'Country': 'United Kingdom'}, {'InvoiceNo': 536404, 'StockCode': '22296', 'Description': 'HEART IVORY TRELLIS LARGE', 'Quantity': 24, 'InvoiceDate': '1/12/2018 11:29', 'UnitPrice': 1.65, 'CustomerID': 16218, 'Country': 'United Kingdom'}, {'InvoiceNo': 536405, 'StockCode': '20914', 'Description': 'SET/5 RED RETROSPOT LID GLASS BOWLS', 'Quantity': 128, 'InvoiceDate': '1/12/2018 11:32', 'UnitPrice': 2.55, 'CustomerID': 14045, 'Country': 'United Kingdom'}, {'InvoiceNo': 536406, 'StockCode': '85123A', 'Description': 'WHITE HANGING HEART T-LIGHT HOLDER', 'Quantity': 8, 'InvoiceDate': '1/12/2018 11:33', 'UnitPrice': 2.55, 'CustomerID': 17850, 'Country': 'United Kingdom'}, {'InvoiceNo': 536406, 'StockCode': '71053', 'Description': 'WHITE METAL LANTERN', 'Quantity': 8, 'InvoiceDate': '1/12/2018 11:33', 'UnitPrice': 3.39, 'CustomerID': 17850, 'Country': 'United Kingdom'}, {'InvoiceNo': 536406, 'StockCode': '84406B', 'Description': 'CREAM CUPID HEARTS COAT HANGER', 'Quantity': 8, 'InvoiceDate': '1/12/2018 11:33', 'UnitPrice': 2.75, 'CustomerID': 17850, 'Country': 'United Kingdom'}, {'InvoiceNo': 536406, 'StockCode': '20679', 'Description': 'EDWARDIAN PARASOL RED', 'Quantity': 6, 'InvoiceDate': '1/12/2018 11:33', 'UnitPrice': 4.95, 'CustomerID': 17850, 'Country': 'United Kingdom'}, {'InvoiceNo': 536406, 'StockCode': '37370', 'Description': 'RETRO COFFEE MUGS ASSORTED', 'Quantity': 6, 'InvoiceDate': '1/12/2018 11:33', 'UnitPrice': 1.06, 'CustomerID': 17850, 'Country': 'United Kingdom'}, {'InvoiceNo': 536406, 'StockCode': '21871', 'Description': 'SAVE THE PLANET MUG', 'Quantity': 6, 'InvoiceDate': '1/12/2018 11:33', 'UnitPrice': 1.06, 'CustomerID': 17850, 'Country': 'United Kingdom'}, {'InvoiceNo': 536406, 'StockCode': '21071', 'Description': 'VINTAGE BILLBOARD DRINK ME MUG', 'Quantity': 6, 'InvoiceDate': '1/12/2018 11:33', 'UnitPrice': 1.06, 'CustomerID': 17850, 'Country': 'United Kingdom'}, {'InvoiceNo': 536406, 'StockCode': '21068', 'Description': 'VINTAGE BILLBOARD LOVE/HATE MUG', 'Quantity': 6, 'InvoiceDate': '1/12/2018 11:33', 'UnitPrice': 1.06, 'CustomerID': 17850, 'Country': 'United Kingdom'}, {'InvoiceNo': 536406, 'StockCode': '82483', 'Description': 'WOOD 2 DRAWER CABINET WHITE FINISH', 'Quantity': 4, 'InvoiceDate': '1/12/2018 11:33', 'UnitPrice': 4.95, 'CustomerID': 17850, 'Country': 'United Kingdom'}, {'InvoiceNo': 536406, 'StockCode': '82486', 'Description': 'WOOD S/3 CABINET ANT WHITE FINISH', 'Quantity': 4, 'InvoiceDate': '1/12/2018 11:33', 'UnitPrice': 6.95, 'CustomerID': 17850, 'Country': 'United Kingdom'}, {'InvoiceNo': 536406, 'StockCode': '82482', 'Description': 'WOODEN PICTURE FRAME WHITE FINISH', 'Quantity': 6, 'InvoiceDate': '1/12/2018 11:33', 'UnitPrice': 2.1, 'CustomerID': 17850, 'Country': 'United Kingdom'}, {'InvoiceNo': 536406, 'StockCode': '82494L', 'Description': 'WOODEN FRAME ANTIQUE WHITE ', 'Quantity': 6, 'InvoiceDate': '1/12/2018 11:33', 'UnitPrice': 2.55, 'CustomerID': 17850, 'Country': 'United Kingdom'}, {'InvoiceNo': 536406, 'StockCode': '84029G', 'Description': 'KNITTED UNION FLAG HOT WATER BOTTLE', 'Quantity': 6, 'InvoiceDate': '1/12/2018 11:33', 'UnitPrice': 3.39, 'CustomerID': 17850, 'Country': 'United Kingdom'}, {'InvoiceNo': 536406, 'StockCode': '84029E', 'Description': 'RED WOOLLY HOTTIE WHITE HEART.', 'Quantity': 6, 'InvoiceDate': '1/12/2018 11:33', 'UnitPrice': 3.39, 'CustomerID': 17850, 'Country': 'United Kingdom'}, {'InvoiceNo': 536406, 'StockCode': '22752', 'Description': 'SET 7 BABUSHKA NESTING BOXES', 'Quantity': 2, 'InvoiceDate': '1/12/2018 11:33', 'UnitPrice': 7.65, 'CustomerID': 17850, 'Country': 'United Kingdom'}, {'InvoiceNo': 536406, 'StockCode': '22803', 'Description': 'IVORY EMBROIDERED QUILT ', 'Quantity': 2, 'InvoiceDate': '1/12/2018 11:33', 'UnitPrice': 35.75, 'CustomerID': 17850, 'Country': 'United Kingdom'}, {'InvoiceNo': 536406, 'StockCode': '21730', 'Description': 'GLASS STAR FROSTED T-LIGHT HOLDER', 'Quantity': 6, 'InvoiceDate': '1/12/2018 11:33', 'UnitPrice': 4.25, 'CustomerID': 17850, 'Country': 'United Kingdom'}, {'InvoiceNo': 536407, 'StockCode': '22632', 'Description': 'HAND WARMER RED POLKA DOT', 'Quantity': 6, 'InvoiceDate': '1/12/2018 11:34', 'UnitPrice': 1.85, 'CustomerID': 17850, 'Country': 'United Kingdom'}, {'InvoiceNo': 536407, 'StockCode': '22633', 'Description': 'HAND WARMER UNION JACK', 'Quantity': 6, 'InvoiceDate': '1/12/2018 11:34', 'UnitPrice': 1.85, 'CustomerID': 17850, 'Country': 'United Kingdom'}, {'InvoiceNo': 536408, 'StockCode': '22537', 'Description': 'MAGIC DRAWING SLATE DINOSAUR', 'Quantity': 24, 'InvoiceDate': '1/12/2018 11:41', 'UnitPrice': 0.42, 'CustomerID': 14307, 'Country': 'United Kingdom'}, {'InvoiceNo': 536408, 'StockCode': '22533', 'Description': 'MAGIC DRAWING SLATE BAKE A CAKE ', 'Quantity': 24, 'InvoiceDate': '1/12/2018 11:41', 'UnitPrice': 0.42, 'CustomerID': 14307, 'Country': 'United Kingdom'}, {'InvoiceNo': 536408, 'StockCode': '20982', 'Description': '12 PENCILS TALL TUBE SKULLS', 'Quantity': 12, 'InvoiceDate': '1/12/2018 11:41', 'UnitPrice': 0.85, 'CustomerID': 14307, 'Country': 'United Kingdom'}, {'InvoiceNo': 536408, 'StockCode': '21832', 'Description': 'CHOCOLATE CALCULATOR', 'Quantity': 12, 'InvoiceDate': '1/12/2018 11:41', 'UnitPrice': 1.65, 'CustomerID': 14307, 'Country': 'United Kingdom'}, {'InvoiceNo': 536408, 'StockCode': '21915', 'Description': 'RED  HARMONICA IN BOX ', 'Quantity': 12, 'InvoiceDate': '1/12/2018 11:41', 'UnitPrice': 1.25, 'CustomerID': 14307, 'Country': 'United Kingdom'}, {'InvoiceNo': 536408, 'StockCode': '21914', 'Description': 'BLUE HARMONICA IN BOX ', 'Quantity': 12, 'InvoiceDate': '1/12/2018 11:41', 'UnitPrice': 1.25, 'CustomerID': 14307, 'Country': 'United Kingdom'}, {'InvoiceNo': 536408, 'StockCode': '21544', 'Description': 'SKULLS  WATER TRANSFER TATTOOS ', 'Quantity': 12, 'InvoiceDate': '1/12/2018 11:41', 'UnitPrice': 0.85, 'CustomerID': 14307, 'Country': 'United Kingdom'}, {'InvoiceNo': 536408, 'StockCode': '22813', 'Description': 'PACK 3 BOXES BIRD PANNETONE ', 'Quantity': 12, 'InvoiceDate': '1/12/2018 11:41', 'UnitPrice': 1.95, 'CustomerID': 14307, 'Country': 'United Kingdom'}, {'InvoiceNo': 536408, 'StockCode': '22114', 'Description': 'HOT WATER BOTTLE TEA AND SYMPATHY', 'Quantity': 4, 'InvoiceDate': '1/12/2018 11:41', 'UnitPrice': 3.95, 'CustomerID': 14307, 'Country': 'United Kingdom'}, {'InvoiceNo': 536408, 'StockCode': '84029E', 'Description': 'RED WOOLLY HOTTIE WHITE HEART.', 'Quantity': 4, 'InvoiceDate': '1/12/2018 11:41', 'UnitPrice': 3.75, 'CustomerID': 14307, 'Country': 'United Kingdom'}, {'InvoiceNo': 536408, 'StockCode': '21479', 'Description': 'WHITE SKULL HOT WATER BOTTLE ', 'Quantity': 4, 'InvoiceDate': '1/12/2018 11:41', 'UnitPrice': 3.75, 'CustomerID': 14307, 'Country': 'United Kingdom'}, {'InvoiceNo': 536408, 'StockCode': '22964', 'Description': '3 PIECE SPACEBOY COOKIE CUTTER SET', 'Quantity': 6, 'InvoiceDate': '1/12/2018 11:41', 'UnitPrice': 2.1, 'CustomerID': 14307, 'Country': 'United Kingdom'}, {'InvoiceNo': 536408, 'StockCode': '84375', 'Description': 'SET OF 20 KIDS COOKIE CUTTERS', 'Quantity': 12, 'InvoiceDate': '1/12/2018 11:41', 'UnitPrice': 2.1, 'CustomerID': 14307, 'Country': 'United Kingdom'}, {'InvoiceNo': 536408, 'StockCode': '22418', 'Description': '10 COLOUR SPACEBOY PEN', 'Quantity': 24, 'InvoiceDate': '1/12/2018 11:41', 'UnitPrice': 0.85, 'CustomerID': 14307, 'Country': 'United Kingdom'}, {'InvoiceNo': 536408, 'StockCode': '22178', 'Description': 'VICTORIAN GLASS HANGING T-LIGHT', 'Quantity': 12, 'InvoiceDate': '1/12/2018 11:41', 'UnitPrice': 1.25, 'CustomerID': 14307, 'Country': 'United Kingdom'}, {'InvoiceNo': 536408, 'StockCode': '84970L', 'Description': 'SINGLE HEART ZINC T-LIGHT HOLDER', 'Quantity': 12, 'InvoiceDate': '1/12/2018 11:41', 'UnitPrice': 0.95, 'CustomerID': 14307, 'Country': 'United Kingdom'}, {'InvoiceNo': 536408, 'StockCode': '21733', 'Description': 'RED HANGING HEART T-LIGHT HOLDER', 'Quantity': 6, 'InvoiceDate': '1/12/2018 11:41', 'UnitPrice': 2.95, 'CustomerID': 14307, 'Country': 'United Kingdom'}, {'InvoiceNo': 536408, 'StockCode': '22465', 'Description': 'HANGING METAL STAR LANTERN', 'Quantity': 12, 'InvoiceDate': '1/12/2018 11:41', 'UnitPrice': 1.65, 'CustomerID': 14307, 'Country': 'United Kingdom'}, {'InvoiceNo': 536408, 'StockCode': '84949', 'Description': 'SILVER HANGING T-LIGHT HOLDER', 'Quantity': 6, 'InvoiceDate': '1/12/2018 11:41', 'UnitPrice': 1.65, 'CustomerID': 14307, 'Country': 'United Kingdom'}, {'InvoiceNo': 536408, 'StockCode': '20685', 'Description': 'DOORMAT RED RETROSPOT', 'Quantity': 2, 'InvoiceDate': '1/12/2018 11:41', 'UnitPrice': 7.95, 'CustomerID': 14307, 'Country': 'United Kingdom'}, {'InvoiceNo': 536408, 'StockCode': '48194', 'Description': 'DOORMAT HEARTS', 'Quantity': 2, 'InvoiceDate': '1/12/2018 11:41', 'UnitPrice': 7.95, 'CustomerID': 14307, 'Country': 'United Kingdom'}, {'InvoiceNo': 536408, 'StockCode': '22488', 'Description': 'NATURAL SLATE RECTANGLE CHALKBOARD', 'Quantity': 12, 'InvoiceDate': '1/12/2018 11:41', 'UnitPrice': 1.65, 'CustomerID': 14307, 'Country': 'United Kingdom'}, {'InvoiceNo': 536408, 'StockCode': '22219', 'Description': 'LOVEBIRD HANGING DECORATION WHITE ', 'Quantity': 12, 'InvoiceDate': '1/12/2018 11:41', 'UnitPrice': 0.85, 'CustomerID': 14307, 'Country': 'United Kingdom'}, {'InvoiceNo': 536408, 'StockCode': '84879', 'Description': 'ASSORTED COLOUR BIRD ORNAMENT', 'Quantity': 8, 'InvoiceDate': '1/12/2018 11:41', 'UnitPrice': 1.69, 'CustomerID': 14307, 'Country': 'United Kingdom'}, {'InvoiceNo': 536408, 'StockCode': '21754', 'Description': 'HOME BUILDING BLOCK WORD', 'Quantity': 3, 'InvoiceDate': '1/12/2018 11:41', 'UnitPrice': 5.95, 'CustomerID': 14307, 'Country': 'United Kingdom'}, {'InvoiceNo': 536408, 'StockCode': '21755', 'Description': 'LOVE BUILDING BLOCK WORD', 'Quantity': 3, 'InvoiceDate': '1/12/2018 11:41', 'UnitPrice': 5.95, 'CustomerID': 14307, 'Country': 'United Kingdom'}, {'InvoiceNo': 536408, 'StockCode': '22766', 'Description': 'PHOTO FRAME CORNICE', 'Quantity': 8, 'InvoiceDate': '1/12/2018 11:41', 'UnitPrice': 2.95, 'CustomerID': 14307, 'Country': 'United Kingdom'}, {'InvoiceNo': 536408, 'StockCode': '22610', 'Description': 'PENS ASSORTED FUNNY FACE', 'Quantity': 36, 'InvoiceDate': '1/12/2018 11:41', 'UnitPrice': 0.85, 'CustomerID': 14307, 'Country': 'United Kingdom'}, {'InvoiceNo': 536408, 'StockCode': '22716', 'Description': 'CARD CIRCUS PARADE', 'Quantity': 12, 'InvoiceDate': '1/12/2018 11:41', 'UnitPrice': 0.42, 'CustomerID': 14307, 'Country': 'United Kingdom'}, {'InvoiceNo': 536408, 'StockCode': '22706', 'Description': 'WRAP COWBOYS  ', 'Quantity': 25, 'InvoiceDate': '1/12/2018 11:41', 'UnitPrice': 0.42, 'CustomerID': 14307, 'Country': 'United Kingdom'}, {'InvoiceNo': 536408, 'StockCode': '22371', 'Description': 'AIRLINE BAG VINTAGE TOKYO 78', 'Quantity': 4, 'InvoiceDate': '1/12/2018 11:41', 'UnitPrice': 4.25, 'CustomerID': 14307, 'Country': 'United Kingdom'}, {'InvoiceNo': 536408, 'StockCode': '85014B', 'Description': 'RED RETROSPOT UMBRELLA', 'Quantity': 3, 'InvoiceDate': '1/12/2018 11:41', 'UnitPrice': 5.95, 'CustomerID': 14307, 'Country': 'United Kingdom'}, {'InvoiceNo': 536408, 'StockCode': '85014A', 'Description': 'BLACK/BLUE POLKADOT UMBRELLA', 'Quantity': 3, 'InvoiceDate': '1/12/2018 11:41', 'UnitPrice': 5.95, 'CustomerID': 14307, 'Country': 'United Kingdom'}, {'InvoiceNo': 536408, 'StockCode': '84997B', 'Description': 'RED 3 PIECE RETROSPOT CUTLERY SET', 'Quantity': 6, 'InvoiceDate': '1/12/2018 11:41', 'UnitPrice': 3.75, 'CustomerID': 14307, 'Country': 'United Kingdom'}, {'InvoiceNo': 536408, 'StockCode': '21212', 'Description': 'PACK OF 72 RETROSPOT CAKE CASES', 'Quantity': 24, 'InvoiceDate': '1/12/2018 11:41', 'UnitPrice': 0.55, 'CustomerID': 14307, 'Country': 'United Kingdom'}, {'InvoiceNo': 536408, 'StockCode': '21210', 'Description': 'SET OF 72 RETROSPOT PAPER  DOILIES', 'Quantity': 12, 'InvoiceDate': '1/12/2018 11:41', 'UnitPrice': 1.45, 'CustomerID': 14307, 'Country': 'United Kingdom'}, {'InvoiceNo': 536408, 'StockCode': '22914', 'Description': 'BLUE COAT RACK PARIS FASHION', 'Quantity': 3, 'InvoiceDate': '1/12/2018 11:41', 'UnitPrice': 4.95, 'CustomerID': 14307, 'Country': 'United Kingdom'}, {'InvoiceNo': 536408, 'StockCode': '22553', 'Description': 'PLASTERS IN TIN SKULLS', 'Quantity': 12, 'InvoiceDate': '1/12/2018 11:41', 'UnitPrice': 1.65, 'CustomerID': 14307, 'Country': 'United Kingdom'}, {'InvoiceNo': 536408, 'StockCode': '16237', 'Description': 'SLEEPING CAT ERASERS', 'Quantity': 30, 'InvoiceDate': '1/12/2018 11:41', 'UnitPrice': 0.21, 'CustomerID': 14307, 'Country': 'United Kingdom'}, {'InvoiceNo': 536408, 'StockCode': '22714', 'Description': 'CARD BIRTHDAY COWBOY', 'Quantity': 12, 'InvoiceDate': '1/12/2018 11:41', 'UnitPrice': 0.42, 'CustomerID': 14307, 'Country': 'United Kingdom'}, {'InvoiceNo': 536408, 'StockCode': '22812', 'Description': 'PACK 3 BOXES CHRISTMAS PANNETONE', 'Quantity': 12, 'InvoiceDate': '1/12/2018 11:41', 'UnitPrice': 1.95, 'CustomerID': 14307, 'Country': 'United Kingdom'}, {'InvoiceNo': 536408, 'StockCode': '84347', 'Description': 'ROTATING SILVER ANGELS T-LIGHT HLDR', 'Quantity': 6, 'InvoiceDate': '1/12/2018 11:41', 'UnitPrice': 2.55, 'CustomerID': 14307, 'Country': 'United Kingdom'}, {'InvoiceNo': 536408, 'StockCode': '21587', 'Description': 'COSY HOUR GIANT TUBE MATCHES', 'Quantity': 12, 'InvoiceDate': '1/12/2018 11:41', 'UnitPrice': 2.55, 'CustomerID': 14307, 'Country': 'United Kingdom'}, {'InvoiceNo': 536408, 'StockCode': '22736', 'Description': 'RIBBON REEL MAKING SNOWMEN ', 'Quantity': 10, 'InvoiceDate': '1/12/2018 11:41', 'UnitPrice': 1.65, 'CustomerID': 14307, 'Country': 'United Kingdom'}, {'InvoiceNo': 536408, 'StockCode': '22492', 'Description': 'MINI PAINT SET VINTAGE ', 'Quantity': 36, 'InvoiceDate': '1/12/2018 11:41', 'UnitPrice': 0.65, 'CustomerID': 14307, 'Country': 'United Kingdom'}, {'InvoiceNo': 536408, 'StockCode': '22620', 'Description': '4 TRADITIONAL SPINNING TOPS', 'Quantity': 12, 'InvoiceDate': '1/12/2018 11:41', 'UnitPrice': 1.25, 'CustomerID': 14307, 'Country': 'United Kingdom'}, {'InvoiceNo': 536408, 'StockCode': '22619', 'Description': 'SET OF 6 SOLDIER SKITTLES', 'Quantity': 4, 'InvoiceDate': '1/12/2018 11:41', 'UnitPrice': 3.75, 'CustomerID': 14307, 'Country': 'United Kingdom'}, {'InvoiceNo': 536408, 'StockCode': '21705', 'Description': 'BAG 500g SWIRLY MARBLES', 'Quantity': 12, 'InvoiceDate': '1/12/2018 11:41', 'UnitPrice': 1.65, 'CustomerID': 14307, 'Country': 'United Kingdom'}, {'InvoiceNo': 536409, 'StockCode': '90199C', 'Description': '5 STRAND GLASS NECKLACE CRYSTAL', 'Quantity': 3, 'InvoiceDate': '1/12/2018 11:45', 'UnitPrice': 6.35, 'CustomerID': 17908, 'Country': 'United Kingdom'}, {'InvoiceNo': 536409, 'StockCode': '21479', 'Description': 'WHITE SKULL HOT WATER BOTTLE ', 'Quantity': 1, 'InvoiceDate': '1/12/2018 11:45', 'UnitPrice': 3.75, 'CustomerID': 17908, 'Country': 'United Kingdom'}, {'InvoiceNo': 536409, 'StockCode': '22111', 'Description': 'SCOTTIE DOG HOT WATER BOTTLE', 'Quantity': 1, 'InvoiceDate': '1/12/2018 11:45', 'UnitPrice': 4.95, 'CustomerID': 17908, 'Country': 'United Kingdom'}, {'InvoiceNo': 536409, 'StockCode': '22785', 'Description': 'SQUARECUSHION COVER PINK UNION FLAG', 'Quantity': 1, 'InvoiceDate': '1/12/2018 11:45', 'UnitPrice': 6.75, 'CustomerID': 17908, 'Country': 'United Kingdom'}, {'InvoiceNo': 536409, 'StockCode': '22975', 'Description': 'SPACEBOY CHILDRENS EGG CUP', 'Quantity': 1, 'InvoiceDate': '1/12/2018 11:45', 'UnitPrice': 1.25, 'CustomerID': 17908, 'Country': 'United Kingdom'}, {'InvoiceNo': 536409, 'StockCode': '22972', 'Description': \"CHILDREN'S SPACEBOY MUG\", 'Quantity': 1, 'InvoiceDate': '1/12/2018 11:45', 'UnitPrice': 1.65, 'CustomerID': 17908, 'Country': 'United Kingdom'}, {'InvoiceNo': 536409, 'StockCode': '22866', 'Description': 'HAND WARMER SCOTTY DOG DESIGN', 'Quantity': 1, 'InvoiceDate': '1/12/2018 11:45', 'UnitPrice': 2.1, 'CustomerID': 17908, 'Country': 'United Kingdom'}, {'InvoiceNo': 536409, 'StockCode': '22568', 'Description': 'FELTCRAFT CUSHION OWL', 'Quantity': 1, 'InvoiceDate': '1/12/2018 11:45', 'UnitPrice': 3.75, 'CustomerID': 17908, 'Country': 'United Kingdom'}, {'InvoiceNo': 536409, 'StockCode': '85116', 'Description': 'BLACK CANDELABRA T-LIGHT HOLDER', 'Quantity': 1, 'InvoiceDate': '1/12/2018 11:45', 'UnitPrice': 2.1, 'CustomerID': 17908, 'Country': 'United Kingdom'}, {'InvoiceNo': 536409, 'StockCode': '22664', 'Description': 'TOY TIDY DOLLY GIRL DESIGN', 'Quantity': 1, 'InvoiceDate': '1/12/2018 11:45', 'UnitPrice': 2.1, 'CustomerID': 17908, 'Country': 'United Kingdom'}, {'InvoiceNo': 536409, 'StockCode': '21609', 'Description': 'SET 12 LAVENDER  BOTANICAL T-LIGHTS', 'Quantity': 1, 'InvoiceDate': '1/12/2018 11:45', 'UnitPrice': 2.95, 'CustomerID': 17908, 'Country': 'United Kingdom'}, {'InvoiceNo': 536409, 'StockCode': '21866', 'Description': 'UNION JACK FLAG LUGGAGE TAG', 'Quantity': 1, 'InvoiceDate': '1/12/2018 11:45', 'UnitPrice': 1.25, 'CustomerID': 17908, 'Country': 'United Kingdom'}, {'InvoiceNo': 536409, 'StockCode': '20669', 'Description': 'RED HEART LUGGAGE TAG', 'Quantity': 1, 'InvoiceDate': '1/12/2018 11:45', 'UnitPrice': 1.25, 'CustomerID': 17908, 'Country': 'United Kingdom'}, {'InvoiceNo': 536409, 'StockCode': '90129F', 'Description': 'RED GLASS TASSLE BAG CHARM', 'Quantity': 1, 'InvoiceDate': '1/12/2018 11:45', 'UnitPrice': 2.95, 'CustomerID': 17908, 'Country': 'United Kingdom'}, {'InvoiceNo': 536409, 'StockCode': '90210B', 'Description': 'CLEAR ACRYLIC FACETED BANGLE', 'Quantity': 1, 'InvoiceDate': '1/12/2018 11:45', 'UnitPrice': 2.95, 'CustomerID': 17908, 'Country': 'United Kingdom'}, {'InvoiceNo': 536409, 'StockCode': '90199C', 'Description': '5 STRAND GLASS NECKLACE CRYSTAL', 'Quantity': 1, 'InvoiceDate': '1/12/2018 11:45', 'UnitPrice': 6.35, 'CustomerID': 17908, 'Country': 'United Kingdom'}, {'InvoiceNo': 536409, 'StockCode': '21955', 'Description': 'DOORMAT UNION JACK GUNS AND ROSES', 'Quantity': 1, 'InvoiceDate': '1/12/2018 11:45', 'UnitPrice': 7.95, 'CustomerID': 17908, 'Country': 'United Kingdom'}, {'InvoiceNo': 536409, 'StockCode': '72802C', 'Description': 'VANILLA SCENT CANDLE JEWELLED BOX', 'Quantity': 1, 'InvoiceDate': '1/12/2018 11:45', 'UnitPrice': 4.25, 'CustomerID': 17908, 'Country': 'United Kingdom'}, {'InvoiceNo': 536409, 'StockCode': '22109', 'Description': 'FULL ENGLISH BREAKFAST PLATE', 'Quantity': 1, 'InvoiceDate': '1/12/2018 11:45', 'UnitPrice': 3.75, 'CustomerID': 17908, 'Country': 'United Kingdom'}, {'InvoiceNo': 536409, 'StockCode': '85116', 'Description': 'BLACK CANDELABRA T-LIGHT HOLDER', 'Quantity': 5, 'InvoiceDate': '1/12/2018 11:45', 'UnitPrice': 2.1, 'CustomerID': 17908, 'Country': 'United Kingdom'}, {'InvoiceNo': 536409, 'StockCode': '22531', 'Description': 'MAGIC DRAWING SLATE CIRCUS PARADE  ', 'Quantity': 1, 'InvoiceDate': '1/12/2018 11:45', 'UnitPrice': 0.42, 'CustomerID': 17908, 'Country': 'United Kingdom'}, {'InvoiceNo': 536409, 'StockCode': '21811', 'Description': 'CHRISTMAS HANGING HEART WITH BELL', 'Quantity': 1, 'InvoiceDate': '1/12/2018 11:45', 'UnitPrice': 1.25, 'CustomerID': 17908, 'Country': 'United Kingdom'}, {'InvoiceNo': 536409, 'StockCode': '22183', 'Description': 'CAKE STAND VICTORIAN FILIGREE MED', 'Quantity': 1, 'InvoiceDate': '1/12/2018 11:45', 'UnitPrice': 6.75, 'CustomerID': 17908, 'Country': 'United Kingdom'}, {'InvoiceNo': 536409, 'StockCode': '21678', 'Description': 'PAISLEY PATTERN  STICKERS', 'Quantity': 6, 'InvoiceDate': '1/12/2018 11:45', 'UnitPrice': 0.85, 'CustomerID': 17908, 'Country': 'United Kingdom'}, {'InvoiceNo': 536409, 'StockCode': '21676', 'Description': 'FLOWERS  STICKERS', 'Quantity': 6, 'InvoiceDate': '1/12/2018 11:45', 'UnitPrice': 0.85, 'CustomerID': 17908, 'Country': 'United Kingdom'}, {'InvoiceNo': 536409, 'StockCode': '84625A', 'Description': 'PINK NEW BAROQUECANDLESTICK CANDLE', 'Quantity': 1, 'InvoiceDate': '1/12/2018 11:45', 'UnitPrice': 2.95, 'CustomerID': 17908, 'Country': 'United Kingdom'}]\n"
          ],
          "name": "stdout"
        }
      ]
    },
    {
      "cell_type": "code",
      "metadata": {
        "id": "B-2YAb66Y7HR",
        "colab": {
          "base_uri": "https://localhost:8080/"
        },
        "outputId": "f092d3ab-7dc1-4346-9f32-ec958d27cf47"
      },
      "source": [
        "print(type(result))\n",
        "print(len(result))"
      ],
      "execution_count": null,
      "outputs": [
        {
          "output_type": "stream",
          "text": [
            "<class 'list'>\n",
            "500\n"
          ],
          "name": "stdout"
        }
      ]
    },
    {
      "cell_type": "code",
      "metadata": {
        "id": "78oqloFtZbRA",
        "colab": {
          "base_uri": "https://localhost:8080/",
          "height": 638
        },
        "outputId": "0a2fcd41-0e96-44a0-818a-fff8b627173c"
      },
      "source": [
        "retail = pd.DataFrame(result)\n",
        "retail"
      ],
      "execution_count": null,
      "outputs": [
        {
          "output_type": "execute_result",
          "data": {
            "text/html": [
              "<div>\n",
              "<style scoped>\n",
              "    .dataframe tbody tr th:only-of-type {\n",
              "        vertical-align: middle;\n",
              "    }\n",
              "\n",
              "    .dataframe tbody tr th {\n",
              "        vertical-align: top;\n",
              "    }\n",
              "\n",
              "    .dataframe thead th {\n",
              "        text-align: right;\n",
              "    }\n",
              "</style>\n",
              "<table border=\"1\" class=\"dataframe\">\n",
              "  <thead>\n",
              "    <tr style=\"text-align: right;\">\n",
              "      <th></th>\n",
              "      <th>InvoiceNo</th>\n",
              "      <th>StockCode</th>\n",
              "      <th>Description</th>\n",
              "      <th>Quantity</th>\n",
              "      <th>InvoiceDate</th>\n",
              "      <th>UnitPrice</th>\n",
              "      <th>CustomerID</th>\n",
              "      <th>Country</th>\n",
              "    </tr>\n",
              "  </thead>\n",
              "  <tbody>\n",
              "    <tr>\n",
              "      <th>0</th>\n",
              "      <td>536365</td>\n",
              "      <td>85123A</td>\n",
              "      <td>WHITE HANGING HEART T-LIGHT HOLDER</td>\n",
              "      <td>6</td>\n",
              "      <td>1/12/2018 08:26</td>\n",
              "      <td>2.55</td>\n",
              "      <td>17850</td>\n",
              "      <td>United Kingdom</td>\n",
              "    </tr>\n",
              "    <tr>\n",
              "      <th>1</th>\n",
              "      <td>536365</td>\n",
              "      <td>71053</td>\n",
              "      <td>WHITE METAL LANTERN</td>\n",
              "      <td>6</td>\n",
              "      <td>1/12/2018 08:26</td>\n",
              "      <td>3.39</td>\n",
              "      <td>17850</td>\n",
              "      <td>United Kingdom</td>\n",
              "    </tr>\n",
              "    <tr>\n",
              "      <th>2</th>\n",
              "      <td>536365</td>\n",
              "      <td>84406B</td>\n",
              "      <td>CREAM CUPID HEARTS COAT HANGER</td>\n",
              "      <td>8</td>\n",
              "      <td>1/12/2018 08:26</td>\n",
              "      <td>2.75</td>\n",
              "      <td>17850</td>\n",
              "      <td>United Kingdom</td>\n",
              "    </tr>\n",
              "    <tr>\n",
              "      <th>3</th>\n",
              "      <td>536365</td>\n",
              "      <td>84029G</td>\n",
              "      <td>KNITTED UNION FLAG HOT WATER BOTTLE</td>\n",
              "      <td>6</td>\n",
              "      <td>1/12/2018 08:26</td>\n",
              "      <td>3.39</td>\n",
              "      <td>17850</td>\n",
              "      <td>United Kingdom</td>\n",
              "    </tr>\n",
              "    <tr>\n",
              "      <th>4</th>\n",
              "      <td>536365</td>\n",
              "      <td>84029E</td>\n",
              "      <td>RED WOOLLY HOTTIE WHITE HEART.</td>\n",
              "      <td>6</td>\n",
              "      <td>1/12/2018 08:26</td>\n",
              "      <td>3.39</td>\n",
              "      <td>17850</td>\n",
              "      <td>United Kingdom</td>\n",
              "    </tr>\n",
              "    <tr>\n",
              "      <th>...</th>\n",
              "      <td>...</td>\n",
              "      <td>...</td>\n",
              "      <td>...</td>\n",
              "      <td>...</td>\n",
              "      <td>...</td>\n",
              "      <td>...</td>\n",
              "      <td>...</td>\n",
              "      <td>...</td>\n",
              "    </tr>\n",
              "    <tr>\n",
              "      <th>495</th>\n",
              "      <td>536409</td>\n",
              "      <td>21811</td>\n",
              "      <td>CHRISTMAS HANGING HEART WITH BELL</td>\n",
              "      <td>1</td>\n",
              "      <td>1/12/2018 11:45</td>\n",
              "      <td>1.25</td>\n",
              "      <td>17908</td>\n",
              "      <td>United Kingdom</td>\n",
              "    </tr>\n",
              "    <tr>\n",
              "      <th>496</th>\n",
              "      <td>536409</td>\n",
              "      <td>22183</td>\n",
              "      <td>CAKE STAND VICTORIAN FILIGREE MED</td>\n",
              "      <td>1</td>\n",
              "      <td>1/12/2018 11:45</td>\n",
              "      <td>6.75</td>\n",
              "      <td>17908</td>\n",
              "      <td>United Kingdom</td>\n",
              "    </tr>\n",
              "    <tr>\n",
              "      <th>497</th>\n",
              "      <td>536409</td>\n",
              "      <td>21678</td>\n",
              "      <td>PAISLEY PATTERN  STICKERS</td>\n",
              "      <td>6</td>\n",
              "      <td>1/12/2018 11:45</td>\n",
              "      <td>0.85</td>\n",
              "      <td>17908</td>\n",
              "      <td>United Kingdom</td>\n",
              "    </tr>\n",
              "    <tr>\n",
              "      <th>498</th>\n",
              "      <td>536409</td>\n",
              "      <td>21676</td>\n",
              "      <td>FLOWERS  STICKERS</td>\n",
              "      <td>6</td>\n",
              "      <td>1/12/2018 11:45</td>\n",
              "      <td>0.85</td>\n",
              "      <td>17908</td>\n",
              "      <td>United Kingdom</td>\n",
              "    </tr>\n",
              "    <tr>\n",
              "      <th>499</th>\n",
              "      <td>536409</td>\n",
              "      <td>84625A</td>\n",
              "      <td>PINK NEW BAROQUECANDLESTICK CANDLE</td>\n",
              "      <td>1</td>\n",
              "      <td>1/12/2018 11:45</td>\n",
              "      <td>2.95</td>\n",
              "      <td>17908</td>\n",
              "      <td>United Kingdom</td>\n",
              "    </tr>\n",
              "  </tbody>\n",
              "</table>\n",
              "<p>500 rows × 8 columns</p>\n",
              "</div>"
            ],
            "text/plain": [
              "     InvoiceNo StockCode  ... CustomerID         Country\n",
              "0       536365    85123A  ...      17850  United Kingdom\n",
              "1       536365     71053  ...      17850  United Kingdom\n",
              "2       536365    84406B  ...      17850  United Kingdom\n",
              "3       536365    84029G  ...      17850  United Kingdom\n",
              "4       536365    84029E  ...      17850  United Kingdom\n",
              "..         ...       ...  ...        ...             ...\n",
              "495     536409     21811  ...      17908  United Kingdom\n",
              "496     536409     22183  ...      17908  United Kingdom\n",
              "497     536409     21678  ...      17908  United Kingdom\n",
              "498     536409     21676  ...      17908  United Kingdom\n",
              "499     536409    84625A  ...      17908  United Kingdom\n",
              "\n",
              "[500 rows x 8 columns]"
            ]
          },
          "metadata": {
            "tags": []
          },
          "execution_count": 145
        }
      ]
    },
    {
      "cell_type": "code",
      "metadata": {
        "id": "b3DXBUqySuSq"
      },
      "source": [],
      "execution_count": null,
      "outputs": []
    }
  ]
}